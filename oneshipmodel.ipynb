{
 "cells": [
  {
   "cell_type": "code",
   "execution_count": 1,
   "metadata": {},
   "outputs": [
    {
     "name": "stdout",
     "output_type": "stream",
     "text": [
      "Using device: cuda\n",
      "X 크기: (582, 50, 30), y 크기: (582, 2)\n"
     ]
    }
   ],
   "source": [
    "import numpy as np\n",
    "import pandas as pd\n",
    "import torch\n",
    "import torch.nn as nn\n",
    "import torch.optim as optim\n",
    "from sklearn.model_selection import ParameterSampler\n",
    "\n",
    "# GPU 장치 확인 및 설정\n",
    "device = torch.device('cuda' if torch.cuda.is_available() else 'cpu')\n",
    "print(f\"Using device: {device}\")\n",
    "\n",
    "# 데이터 로드\n",
    "data = pd.read_csv('../document/oneship.csv')\n",
    "\n",
    "# 필요 없는 열 제거\n",
    "data = data.drop(columns=['id', 'msg_type', 'mmsi', 'status', 'created_at', 'datetime'])\n",
    "\n",
    "# 타겟 변수와 독립 변수\n",
    "target_columns = ['lat', 'lon']  # 타겟 변수\n",
    "independent_columns = list(data.columns)  # 모든 열을 독립변수로 포함\n",
    "\n",
    "# 시계열 데이터 변환\n",
    "time_steps = 50\n",
    "X, y = [], []\n",
    "for i in range(len(data) - time_steps):\n",
    "    # 입력 데이터: 모든 독립변수 포함\n",
    "    X.append(data.iloc[i:i+time_steps][independent_columns].values)\n",
    "    # 출력 데이터: 타겟 변수만 포함\n",
    "    y.append(data.iloc[i+time_steps][target_columns].values)\n",
    "X, y = np.array(X, dtype=np.float32), np.array(y, dtype=np.float32)\n",
    "\n",
    "print(f\"X 크기: {X.shape}, y 크기: {y.shape}\")\n"
   ]
  },
  {
   "cell_type": "code",
   "execution_count": 2,
   "metadata": {},
   "outputs": [
    {
     "name": "stdout",
     "output_type": "stream",
     "text": [
      "Train 데이터 크기: (407, 50, 30), (407, 2)\n",
      "Validation 데이터 크기: (87, 50, 30), (87, 2)\n",
      "Test 데이터 크기: (88, 50, 30), (88, 2)\n"
     ]
    }
   ],
   "source": [
    "# 데이터 분할\n",
    "train_size = int(len(X) * 0.7)\n",
    "val_size = int(len(X) * 0.15)\n",
    "X_train, X_val, X_test = X[:train_size], X[train_size:train_size + val_size], X[train_size + val_size:]\n",
    "y_train, y_val, y_test = y[:train_size], y[train_size:train_size + val_size], y[train_size + val_size:]\n",
    "\n",
    "print(f\"Train 데이터 크기: {X_train.shape}, {y_train.shape}\")\n",
    "print(f\"Validation 데이터 크기: {X_val.shape}, {y_val.shape}\")\n",
    "print(f\"Test 데이터 크기: {X_test.shape}, {y_test.shape}\")\n"
   ]
  },
  {
   "cell_type": "code",
   "execution_count": 3,
   "metadata": {},
   "outputs": [],
   "source": [
    "# Tensor 변환 및 GPU로 이동\n",
    "X_train_tensor = torch.tensor(X_train, dtype=torch.float32).to(device)\n",
    "y_train_tensor = torch.tensor(y_train, dtype=torch.float32).to(device)\n",
    "X_val_tensor = torch.tensor(X_val, dtype=torch.float32).to(device)\n",
    "y_val_tensor = torch.tensor(y_val, dtype=torch.float32).to(device)\n",
    "X_test_tensor = torch.tensor(X_test, dtype=torch.float32).to(device)\n",
    "y_test_tensor = torch.tensor(y_test, dtype=torch.float32).to(device)"
   ]
  },
  {
   "cell_type": "code",
   "execution_count": 4,
   "metadata": {},
   "outputs": [
    {
     "name": "stderr",
     "output_type": "stream",
     "text": [
      "c:\\Users\\user\\anaconda3\\envs\\py3_11\\Lib\\site-packages\\torch\\nn\\modules\\rnn.py:123: UserWarning: dropout option adds dropout after all but last recurrent layer, so non-zero dropout expects num_layers greater than 1, but got dropout=0.5 and num_layers=1\n",
      "  warnings.warn(\n"
     ]
    },
    {
     "name": "stdout",
     "output_type": "stream",
     "text": [
      "Params: {'num_layers': 1, 'learning_rate': 0.01, 'hidden_size': 256, 'dropout': 0.5, 'batch_size': 32}, Loss: 8050.5524\n",
      "Params: {'num_layers': 3, 'learning_rate': 0.001, 'hidden_size': 512, 'dropout': 0.2, 'batch_size': 32}, Loss: 8355.3309\n",
      "Params: {'num_layers': 3, 'learning_rate': 0.01, 'hidden_size': 512, 'dropout': 0.0, 'batch_size': 16}, Loss: 4642.3008\n",
      "Params: {'num_layers': 3, 'learning_rate': 0.01, 'hidden_size': 64, 'dropout': 0.0, 'batch_size': 32}, Loss: 8930.8213\n",
      "Params: {'num_layers': 2, 'learning_rate': 0.0001, 'hidden_size': 128, 'dropout': 0.2, 'batch_size': 64}, Loss: 10471.7739\n",
      "Params: {'num_layers': 2, 'learning_rate': 0.01, 'hidden_size': 32, 'dropout': 0.2, 'batch_size': 16}, Loss: 8609.9927\n",
      "Params: {'num_layers': 4, 'learning_rate': 0.001, 'hidden_size': 32, 'dropout': 0.2, 'batch_size': 16}, Loss: 9289.1173\n",
      "Params: {'num_layers': 2, 'learning_rate': 0.001, 'hidden_size': 128, 'dropout': 0.5, 'batch_size': 16}, Loss: 8848.0321\n",
      "Params: {'num_layers': 1, 'learning_rate': 0.01, 'hidden_size': 512, 'dropout': 0.2, 'batch_size': 32}, Loss: 6759.6635\n",
      "Params: {'num_layers': 3, 'learning_rate': 0.01, 'hidden_size': 128, 'dropout': 0.0, 'batch_size': 64}, Loss: 9578.7690\n",
      "Params: {'num_layers': 3, 'learning_rate': 0.0001, 'hidden_size': 256, 'dropout': 0.5, 'batch_size': 128}, Loss: 11974.5788\n",
      "Params: {'num_layers': 1, 'learning_rate': 0.01, 'hidden_size': 128, 'dropout': 0.2, 'batch_size': 64}, Loss: 9983.0736\n"
     ]
    },
    {
     "name": "stderr",
     "output_type": "stream",
     "text": [
      "c:\\Users\\user\\anaconda3\\envs\\py3_11\\Lib\\site-packages\\torch\\nn\\modules\\rnn.py:123: UserWarning: dropout option adds dropout after all but last recurrent layer, so non-zero dropout expects num_layers greater than 1, but got dropout=0.2 and num_layers=1\n",
      "  warnings.warn(\n"
     ]
    },
    {
     "name": "stdout",
     "output_type": "stream",
     "text": [
      "Params: {'num_layers': 4, 'learning_rate': 0.001, 'hidden_size': 256, 'dropout': 0.0, 'batch_size': 16}, Loss: 8200.6014\n",
      "Params: {'num_layers': 2, 'learning_rate': 0.01, 'hidden_size': 256, 'dropout': 0.2, 'batch_size': 16}, Loss: 5735.7598\n",
      "Params: {'num_layers': 3, 'learning_rate': 0.0001, 'hidden_size': 32, 'dropout': 0.2, 'batch_size': 64}, Loss: 10509.7962\n",
      "Params: {'num_layers': 1, 'learning_rate': 0.01, 'hidden_size': 128, 'dropout': 0.5, 'batch_size': 32}, Loss: 8903.9969\n"
     ]
    },
    {
     "name": "stderr",
     "output_type": "stream",
     "text": [
      "c:\\Users\\user\\anaconda3\\envs\\py3_11\\Lib\\site-packages\\torch\\nn\\modules\\rnn.py:123: UserWarning: dropout option adds dropout after all but last recurrent layer, so non-zero dropout expects num_layers greater than 1, but got dropout=0.5 and num_layers=1\n",
      "  warnings.warn(\n"
     ]
    },
    {
     "name": "stdout",
     "output_type": "stream",
     "text": [
      "Params: {'num_layers': 3, 'learning_rate': 0.001, 'hidden_size': 128, 'dropout': 0.2, 'batch_size': 16}, Loss: 8731.7084\n",
      "Params: {'num_layers': 4, 'learning_rate': 0.001, 'hidden_size': 128, 'dropout': 0.2, 'batch_size': 128}, Loss: 11969.4235\n",
      "Params: {'num_layers': 4, 'learning_rate': 0.01, 'hidden_size': 64, 'dropout': 0.2, 'batch_size': 32}, Loss: 8893.8322\n",
      "Params: {'num_layers': 2, 'learning_rate': 0.0001, 'hidden_size': 128, 'dropout': 0.0, 'batch_size': 32}, Loss: 9728.1420\n",
      "최적 파라미터: {'num_layers': 3, 'learning_rate': 0.01, 'hidden_size': 512, 'dropout': 0.0, 'batch_size': 16}, 손실: 4642.3008\n"
     ]
    }
   ],
   "source": [
    "# LSTM 모델 정의\n",
    "class LSTMModel(nn.Module):\n",
    "    def __init__(self, input_size, hidden_size, num_layers, output_size, dropout):\n",
    "        super(LSTMModel, self).__init__()\n",
    "        self.lstm = nn.LSTM(input_size, hidden_size, num_layers, batch_first=True, dropout=dropout)\n",
    "        self.fc = nn.Linear(hidden_size, output_size)\n",
    "\n",
    "    def forward(self, x):\n",
    "        out, _ = self.lstm(x)\n",
    "        out = self.fc(out[:, -1, :])  # 마지막 타임스텝의 출력\n",
    "        return out\n",
    "\n",
    "# 하이퍼파라미터 샘플링 범위\n",
    "param_dist = {\n",
    "    'hidden_size': [32, 64, 128, 256, 512],\n",
    "    'num_layers': [1, 2, 3, 4],\n",
    "    'learning_rate': [0.001, 0.01, 0.0001],\n",
    "    'batch_size': [16, 32, 64, 128],\n",
    "    'dropout': [0.0, 0.2, 0.5]\n",
    "}\n",
    "\n",
    "# 랜덤 샘플링\n",
    "n_iter = 20\n",
    "random_params = list(ParameterSampler(param_dist, n_iter=n_iter, random_state=42))\n",
    "\n",
    "# 랜덤 서치 실행\n",
    "best_loss = float('inf')\n",
    "best_params = None\n",
    "\n",
    "for params in random_params:\n",
    "    hidden_size = params['hidden_size']\n",
    "    num_layers = params['num_layers']\n",
    "    learning_rate = params['learning_rate']\n",
    "    batch_size = params['batch_size']\n",
    "    dropout = params['dropout']\n",
    "\n",
    "    # 모델 초기화\n",
    "    model = LSTMModel(\n",
    "        input_size=X_train.shape[2],\n",
    "        hidden_size=hidden_size,\n",
    "        num_layers=num_layers,\n",
    "        output_size=2,\n",
    "        dropout=dropout\n",
    "    ).to(device)\n",
    "\n",
    "    criterion = nn.MSELoss()\n",
    "    optimizer = optim.Adam(model.parameters(), lr=learning_rate)\n",
    "\n",
    "    # 배치 학습\n",
    "    model.train()\n",
    "    train_loss = 0.0\n",
    "    for i in range(0, len(X_train_tensor), batch_size):\n",
    "        X_batch = X_train_tensor[i:i+batch_size]\n",
    "        y_batch = y_train_tensor[i:i+batch_size]\n",
    "\n",
    "        optimizer.zero_grad()\n",
    "        outputs = model(X_batch)\n",
    "        loss = criterion(outputs, y_batch)\n",
    "        loss.backward()\n",
    "        optimizer.step()\n",
    "\n",
    "        train_loss += loss.item()\n",
    "\n",
    "    # 평균 손실 계산\n",
    "    avg_loss = train_loss / (len(X_train_tensor) // batch_size)\n",
    "    print(f\"Params: {params}, Loss: {avg_loss:.4f}\")\n",
    "\n",
    "    # 최적 파라미터 저장\n",
    "    if avg_loss < best_loss:\n",
    "        best_loss = avg_loss\n",
    "        best_params = params\n",
    "\n",
    "print(f\"최적 파라미터: {best_params}, 손실: {best_loss:.4f}\")"
   ]
  },
  {
   "cell_type": "code",
   "execution_count": 5,
   "metadata": {},
   "outputs": [],
   "source": [
    "# 최적 파라미터\n",
    "best_params = {'num_layers': 3, 'learning_rate': 0.01, 'hidden_size': 512, 'dropout': 0.0, 'batch_size': 16}\n",
    "\n",
    "best_model = LSTMModel(\n",
    "    input_size=X_train.shape[2],\n",
    "    hidden_size=best_params['hidden_size'],\n",
    "    num_layers=best_params['num_layers'],\n",
    "    output_size=2,\n",
    "    dropout=best_params['dropout']\n",
    ").to(device)\n",
    "\n",
    "criterion = nn.SmoothL1Loss()\n",
    "optimizer = optim.Adam(best_model.parameters(), lr=best_params['learning_rate'])\n",
    "\n"
   ]
  },
  {
   "cell_type": "code",
   "execution_count": 6,
   "metadata": {},
   "outputs": [
    {
     "name": "stdout",
     "output_type": "stream",
     "text": [
      "Epoch [1/100], Loss: 53.3735\n",
      "Epoch [2/100], Loss: 12.8421\n",
      "Epoch [3/100], Loss: 1.4894\n",
      "Epoch [4/100], Loss: 0.1050\n",
      "Epoch [5/100], Loss: 0.0106\n",
      "Epoch [6/100], Loss: 0.0037\n",
      "Epoch [7/100], Loss: 0.0043\n",
      "Epoch [8/100], Loss: 0.0041\n",
      "Epoch [9/100], Loss: 0.0025\n",
      "Epoch [10/100], Loss: 0.0018\n",
      "Epoch [11/100], Loss: 0.0019\n",
      "Epoch [12/100], Loss: 0.0021\n",
      "Epoch [13/100], Loss: 0.0025\n",
      "Epoch [14/100], Loss: 0.0031\n",
      "Epoch [15/100], Loss: 0.0038\n",
      "Epoch [16/100], Loss: 0.0046\n",
      "Epoch [17/100], Loss: 0.0051\n",
      "Epoch [18/100], Loss: 0.0049\n",
      "Epoch [19/100], Loss: 0.0041\n",
      "Epoch [20/100], Loss: 0.0031\n",
      "Epoch [21/100], Loss: 0.0024\n",
      "Epoch [22/100], Loss: 0.0021\n",
      "Epoch [23/100], Loss: 0.0020\n",
      "Epoch [24/100], Loss: 0.0020\n",
      "Epoch [25/100], Loss: 0.0021\n",
      "Epoch [26/100], Loss: 0.0022\n",
      "Epoch [27/100], Loss: 0.0025\n",
      "Epoch [28/100], Loss: 0.0029\n",
      "Epoch [29/100], Loss: 0.0034\n",
      "Epoch [30/100], Loss: 0.0040\n",
      "Epoch [31/100], Loss: 0.0046\n",
      "Epoch [32/100], Loss: 0.0051\n",
      "Epoch [33/100], Loss: 0.0055\n",
      "Epoch [34/100], Loss: 0.0056\n",
      "Epoch [35/100], Loss: 0.0055\n",
      "Epoch [36/100], Loss: 0.0052\n",
      "Epoch [37/100], Loss: 0.0047\n",
      "Epoch [38/100], Loss: 0.0042\n",
      "Epoch [39/100], Loss: 0.0036\n",
      "Epoch [40/100], Loss: 0.0032\n",
      "Epoch [41/100], Loss: 0.0028\n",
      "Epoch [42/100], Loss: 0.0026\n",
      "Epoch [43/100], Loss: 0.0024\n",
      "Epoch [44/100], Loss: 0.0023\n",
      "Epoch [45/100], Loss: 0.0023\n",
      "Epoch [46/100], Loss: 0.0023\n",
      "Epoch [47/100], Loss: 0.0024\n",
      "Epoch [48/100], Loss: 0.0026\n",
      "Epoch [49/100], Loss: 0.0028\n",
      "Epoch [50/100], Loss: 0.0031\n",
      "Epoch [51/100], Loss: 0.0034\n",
      "Epoch [52/100], Loss: 0.0038\n",
      "Epoch [53/100], Loss: 0.0042\n",
      "Epoch [54/100], Loss: 0.0046\n",
      "Epoch [55/100], Loss: 0.0050\n",
      "Epoch [56/100], Loss: 0.0053\n",
      "Epoch [57/100], Loss: 0.0056\n",
      "Epoch [58/100], Loss: 0.0058\n",
      "Epoch [59/100], Loss: 0.0060\n",
      "Epoch [60/100], Loss: 0.0062\n",
      "Epoch [61/100], Loss: 0.0063\n",
      "Epoch [62/100], Loss: 0.0064\n",
      "Epoch [63/100], Loss: 0.0065\n",
      "Epoch [64/100], Loss: 0.0065\n",
      "Epoch [65/100], Loss: 0.0066\n",
      "Epoch [66/100], Loss: 0.0066\n",
      "Epoch [67/100], Loss: 0.0066\n",
      "Epoch [68/100], Loss: 0.0067\n",
      "Epoch [69/100], Loss: 0.0067\n",
      "Epoch [70/100], Loss: 0.0067\n",
      "Epoch [71/100], Loss: 0.0067\n",
      "Epoch [72/100], Loss: 0.0068\n",
      "Epoch [73/100], Loss: 0.0068\n",
      "Epoch [74/100], Loss: 0.0068\n",
      "Epoch [75/100], Loss: 0.0068\n",
      "Epoch [76/100], Loss: 0.0068\n",
      "Epoch [77/100], Loss: 0.0068\n",
      "Epoch [78/100], Loss: 0.0067\n",
      "Epoch [79/100], Loss: 0.0067\n",
      "Epoch [80/100], Loss: 0.0067\n",
      "Epoch [81/100], Loss: 0.0067\n",
      "Epoch [82/100], Loss: 0.0067\n",
      "Epoch [83/100], Loss: 0.0067\n",
      "Epoch [84/100], Loss: 0.0067\n",
      "Epoch [85/100], Loss: 0.0068\n",
      "Epoch [86/100], Loss: 0.0068\n",
      "Epoch [87/100], Loss: 0.0068\n",
      "Epoch [88/100], Loss: 0.0068\n",
      "Epoch [89/100], Loss: 0.0067\n",
      "Epoch [90/100], Loss: 0.0067\n",
      "Epoch [91/100], Loss: 0.0067\n",
      "Epoch [92/100], Loss: 0.0067\n",
      "Epoch [93/100], Loss: 0.0067\n",
      "Epoch [94/100], Loss: 0.0068\n",
      "Epoch [95/100], Loss: 0.0068\n",
      "Epoch [96/100], Loss: 0.0068\n",
      "Epoch [97/100], Loss: 0.0069\n",
      "Epoch [98/100], Loss: 0.0069\n",
      "Epoch [99/100], Loss: 0.0068\n",
      "Epoch [100/100], Loss: 0.0067\n"
     ]
    }
   ],
   "source": [
    "# 학습 루프\n",
    "num_epochs = 100\n",
    "train_loss_list = []\n",
    "\n",
    "best_model.train()\n",
    "for epoch in range(num_epochs):\n",
    "    train_loss = 0.0\n",
    "    for i in range(0, len(X_train_tensor), best_params['batch_size']):\n",
    "        X_batch = X_train_tensor[i:i+best_params['batch_size']]\n",
    "        y_batch = y_train_tensor[i:i+best_params['batch_size']]\n",
    "\n",
    "        optimizer.zero_grad()\n",
    "        outputs = best_model(X_batch)\n",
    "        loss = criterion(outputs, y_batch)\n",
    "        loss.backward()\n",
    "        optimizer.step()\n",
    "\n",
    "        train_loss += loss.item()\n",
    "\n",
    "    avg_train_loss = train_loss / (len(X_train_tensor) // best_params['batch_size'])\n",
    "    train_loss_list.append(avg_train_loss)\n",
    "    print(f\"Epoch [{epoch+1}/{num_epochs}], Loss: {avg_train_loss:.4f}\")"
   ]
  },
  {
   "cell_type": "code",
   "execution_count": 7,
   "metadata": {},
   "outputs": [
    {
     "name": "stdout",
     "output_type": "stream",
     "text": [
      "테스트 손실(MSE): 0.0124\n"
     ]
    }
   ],
   "source": [
    "# 테스트 데이터 평가\n",
    "best_model.eval()\n",
    "test_loss = 0.0\n",
    "with torch.no_grad():\n",
    "    y_pred = best_model(X_test_tensor).detach().cpu().numpy()  # 예측 값\n",
    "    y_true = y_test  # 실제 값\n",
    "\n",
    "    for i in range(0, len(X_test_tensor), best_params['batch_size']):\n",
    "        X_batch = X_test_tensor[i:i+best_params['batch_size']]\n",
    "        y_batch = y_test_tensor[i:i+best_params['batch_size']]\n",
    "        outputs = best_model(X_batch)\n",
    "        loss = criterion(outputs, y_batch)\n",
    "        test_loss += loss.item()\n",
    "\n",
    "avg_test_loss = test_loss / (len(X_test_tensor) // best_params['batch_size'])\n",
    "print(f\"테스트 손실(MSE): {avg_test_loss:.4f}\")\n"
   ]
  },
  {
   "cell_type": "code",
   "execution_count": 13,
   "metadata": {},
   "outputs": [
    {
     "name": "stdout",
     "output_type": "stream",
     "text": [
      "     True Lat    True Lon  Predicted Lat  Predicted Lon\n",
      "0   34.929981  129.384277      34.959724      129.42366\n",
      "1   34.929485  129.383926      34.959724      129.42366\n",
      "2   34.928997  129.383575      34.959724      129.42366\n",
      "3   34.928463  129.383209      34.959724      129.42366\n",
      "4   34.927532  129.382568      34.959724      129.42366\n",
      "..        ...         ...            ...            ...\n",
      "83  34.755337  129.261215      34.959724      129.42366\n",
      "84  34.754684  129.260269      34.959724      129.42366\n",
      "85  34.753899  129.259079      34.959724      129.42366\n",
      "86  34.753166  129.258026      34.959724      129.42366\n",
      "87  34.752876  129.257599      34.959724      129.42366\n",
      "\n",
      "[88 rows x 4 columns]\n"
     ]
    }
   ],
   "source": [
    "# 예측 값과 실제 값 비교\n",
    "comparison = pd.DataFrame({\n",
    "    'True Lat': y_true[:, 0],\n",
    "    'True Lon': y_true[:, 1],\n",
    "    'Predicted Lat': y_pred[:, 0],\n",
    "    'Predicted Lon': y_pred[:, 1]\n",
    "})\n",
    "print(comparison)"
   ]
  },
  {
   "cell_type": "code",
   "execution_count": 9,
   "metadata": {},
   "outputs": [
    {
     "data": {
      "image/png": "[encoded data removed]",
      "text/plain": [
       "<Figure size 1000x600 with 1 Axes>"
      ]
     },
     "metadata": {},
     "output_type": "display_data"
    }
   ],
   "source": [
    "import matplotlib.pyplot as plt\n",
    "\n",
    "# 실제 값과 예측 값 산포도\n",
    "plt.figure(figsize=(10, 6))\n",
    "plt.scatter(y_true[:, 1], y_true[:, 0], label='True Coordinates', alpha=0.7, c='blue', s=20)  # 실제 좌표\n",
    "plt.scatter(y_pred[:, 1], y_pred[:, 0], label='Predicted Coordinates', alpha=0.7, c='red', s=20)  # 예측 좌표\n",
    "plt.xlabel('Longitude')\n",
    "plt.ylabel('Latitude')\n",
    "plt.title('Comparison of True and Predicted Coordinates')\n",
    "plt.legend()\n",
    "plt.show()\n"
   ]
  },
  {
   "cell_type": "code",
   "execution_count": 10,
   "metadata": {},
   "outputs": [
    {
     "name": "stdout",
     "output_type": "stream",
     "text": [
      "              lat         lon\n",
      "count  632.000000  632.000000\n",
      "mean    35.073405  129.409017\n",
      "std      0.139600    0.047837\n",
      "min     34.752878  129.257602\n",
      "25%     34.985586  129.407479\n",
      "50%     35.092411  129.413100\n",
      "75%     35.174924  129.440125\n",
      "max     35.380102  129.458468\n"
     ]
    },
    {
     "data": {
      "image/png": "[encoded data removed]",
      "text/plain": [
       "<Figure size 640x480 with 1 Axes>"
      ]
     },
     "metadata": {},
     "output_type": "display_data"
    }
   ],
   "source": [
    "# 타겟 변수의 분포 확인\n",
    "print(data[['lat', 'lon']].describe())\n",
    "\n",
    "# 타겟 변수의 시각화\n",
    "import matplotlib.pyplot as plt\n",
    "plt.scatter(data['lon'], data['lat'], alpha=0.5)\n",
    "plt.xlabel('Longitude')\n",
    "plt.ylabel('Latitude')\n",
    "plt.title('Target Variable Distribution')\n",
    "plt.show()\n"
   ]
  },
  {
   "cell_type": "code",
   "execution_count": 11,
   "metadata": {},
   "outputs": [
    {
     "name": "stdout",
     "output_type": "stream",
     "text": [
      "독립변수 데이터 요약:\n",
      "                 0             1        2             3             4   \\\n",
      "count  29100.000000  29100.000000  29100.0  29100.000000  29100.000000   \n",
      "mean       0.040238      0.075282      0.0    129.415161     35.076878   \n",
      "std        0.248131      0.010560      0.0      0.039893      0.120572   \n",
      "min       -0.984375      0.055906      0.0    129.258026     34.753166   \n",
      "25%        0.007812      0.070079      0.0    129.409409     35.011870   \n",
      "50%        0.007812      0.071654      0.0    129.416107     35.092804   \n",
      "75%        0.007812      0.073228      0.0    129.442062     35.167963   \n",
      "max        1.000000      0.097638      0.0    129.458466     35.380100   \n",
      "\n",
      "                 5             6             7             8             9   \\\n",
      "count  29100.000000  29100.000000  29100.000000  29100.000000  29100.000000   \n",
      "mean       0.511449      0.363559      0.145902      0.791596      0.429310   \n",
      "std        0.059904      0.038493      0.194106      0.203752      0.166232   \n",
      "min        0.296389      0.219178      0.008357      0.213889      0.184669   \n",
      "25%        0.483889      0.340509      0.061281      0.643056      0.254355   \n",
      "50%        0.518889      0.373777      0.116992      0.856944      0.425087   \n",
      "75%        0.555000      0.391389      0.155989      0.927778      0.550523   \n",
      "max        0.641389      0.450098      0.991643      1.000000      0.839721   \n",
      "\n",
      "       ...       20       21       22       23       24       25       26  \\\n",
      "count  ...  29100.0  29100.0  29100.0  29100.0  29100.0  29100.0  29100.0   \n",
      "mean   ...      0.0      0.0      0.0      0.0      0.0      0.0      0.0   \n",
      "std    ...      0.0      0.0      0.0      0.0      0.0      0.0      0.0   \n",
      "min    ...      0.0      0.0      0.0      0.0      0.0      0.0      0.0   \n",
      "25%    ...      0.0      0.0      0.0      0.0      0.0      0.0      0.0   \n",
      "50%    ...      0.0      0.0      0.0      0.0      0.0      0.0      0.0   \n",
      "75%    ...      0.0      0.0      0.0      0.0      0.0      0.0      0.0   \n",
      "max    ...      0.0      0.0      0.0      0.0      0.0      0.0      0.0   \n",
      "\n",
      "            27       28       29  \n",
      "count  29100.0  29100.0  29100.0  \n",
      "mean       0.0      0.0      0.0  \n",
      "std        0.0      0.0      0.0  \n",
      "min        0.0      0.0      0.0  \n",
      "25%        0.0      0.0      0.0  \n",
      "50%        0.0      0.0      0.0  \n",
      "75%        0.0      0.0      0.0  \n",
      "max        0.0      0.0      0.0  \n",
      "\n",
      "[8 rows x 30 columns]\n"
     ]
    }
   ],
   "source": [
    "# 입력 데이터 샘플 확인\n",
    "print(\"독립변수 데이터 요약:\")\n",
    "print(pd.DataFrame(X.reshape(-1, X.shape[-1])).describe())\n",
    "\n"
   ]
  },
  {
   "cell_type": "code",
   "execution_count": 12,
   "metadata": {},
   "outputs": [
    {
     "name": "stdout",
     "output_type": "stream",
     "text": [
      "타겟 변수 분포:\n",
      "              lat         lon\n",
      "count  582.000000  582.000000\n",
      "mean    35.054817  129.409149\n",
      "std      0.129115    0.049845\n",
      "min     34.752876  129.257599\n",
      "25%     34.975043  129.409424\n",
      "50%     35.079834  129.416069\n",
      "75%     35.150401  129.441998\n",
      "max     35.246914  129.458466\n"
     ]
    }
   ],
   "source": [
    "\n",
    "# 타겟 변수의 분포 확인\n",
    "print(\"타겟 변수 분포:\")\n",
    "print(pd.DataFrame(y, columns=['lat', 'lon']).describe())"
   ]
  }
 ],
 "metadata": {
  "kernelspec": {
   "display_name": "py3_11",
   "language": "python",
   "name": "python3"
  },
  "language_info": {
   "codemirror_mode": {
    "name": "ipython",
    "version": 3
   },
   "file_extension": ".py",
   "mimetype": "text/x-python",
   "name": "python",
   "nbconvert_exporter": "python",
   "pygments_lexer": "ipython3",
   "version": "3.11.11"
  }
 },
 "nbformat": 4,
 "nbformat_minor": 2
}
