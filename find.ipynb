{
 "cells": [
  {
   "cell_type": "code",
   "execution_count": 1,
   "metadata": {},
   "outputs": [
    {
     "name": "stdout",
     "output_type": "stream",
     "text": [
      "데이터가 1000건 이상인 mmsi 값:\n",
      "mmsi\n",
      "440188330    36829\n",
      "440145720    10767\n",
      "440110910    10175\n",
      "440909000     9994\n",
      "440148520     9479\n",
      "             ...  \n",
      "352002734     1008\n",
      "353079000     1002\n",
      "241854000     1001\n",
      "440139000     1001\n",
      "440104090     1001\n",
      "Name: count, Length: 239, dtype: int64\n"
     ]
    }
   ],
   "source": [
    "import pandas as pd\n",
    "\n",
    "# CSV 파일 경로\n",
    "file_path = '../document/processed_data.csv'  # 여기에 CSV 파일 경로를 입력하세요.\n",
    "\n",
    "# 데이터 로드\n",
    "data = pd.read_csv(file_path)\n",
    "\n",
    "# 조건: status가 0인 데이터 필터링\n",
    "status_zero_data = data[data['status'] == 0]\n",
    "\n",
    "# mmsi별 데이터 수 계산\n",
    "mmsi_counts = status_zero_data['mmsi'].value_counts()\n",
    "\n",
    "# 데이터가 1000건 이상인 mmsi 필터링\n",
    "mmsi_over_1000 = mmsi_counts[mmsi_counts >= 1000]\n",
    "\n",
    "# 결과 출력\n",
    "print(\"데이터가 1000건 이상인 mmsi 값:\")\n",
    "print(mmsi_over_1000)\n",
    "\n"
   ]
  },
  {
   "cell_type": "code",
   "execution_count": 2,
   "metadata": {},
   "outputs": [
    {
     "name": "stdout",
     "output_type": "stream",
     "text": [
      "mmsi 440188330의 데이터가 '../document/filter_ship.csv'로 저장되었습니다.\n"
     ]
    }
   ],
   "source": [
    "import pandas as pd\n",
    "\n",
    "# CSV 파일 경로\n",
    "file_path = '../document/scaled_data.csv'  # 원본 CSV 파일 경로\n",
    "output_file_path = '../document/filter_ship.csv'  # 특정 mmsi 데이터를 저장할 파일 경로\n",
    "\n",
    "# 특정 mmsi 값\n",
    "specific_mmsi = 440188330  # 추출하고자 하는 mmsi 값을 여기에 입력\n",
    "\n",
    "# 데이터 로드\n",
    "data = pd.read_csv(file_path)\n",
    "\n",
    "# 특정 mmsi 데이터 필터링\n",
    "specific_mmsi_data = data[data['mmsi'] == specific_mmsi]\n",
    "\n",
    "# 결과를 새로운 CSV 파일로 저장\n",
    "specific_mmsi_data.to_csv(output_file_path, index=False)\n",
    "print(f\"mmsi {specific_mmsi}의 데이터가 '{output_file_path}'로 저장되었습니다.\")\n"
   ]
  }
 ],
 "metadata": {
  "kernelspec": {
   "display_name": "py3_11",
   "language": "python",
   "name": "python3"
  },
  "language_info": {
   "codemirror_mode": {
    "name": "ipython",
    "version": 3
   },
   "file_extension": ".py",
   "mimetype": "text/x-python",
   "name": "python",
   "nbconvert_exporter": "python",
   "pygments_lexer": "ipython3",
   "version": "3.11.11"
  }
 },
 "nbformat": 4,
 "nbformat_minor": 2
}
