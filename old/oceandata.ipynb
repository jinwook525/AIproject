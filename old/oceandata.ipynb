{
 "cells": [
  {
   "cell_type": "code",
   "execution_count": 1,
   "metadata": {},
   "outputs": [],
   "source": [
    "import time\n",
    "import mysql.connector\n",
    "import requests\n",
    "from datetime import datetime, timedelta\n",
    "import schedule"
   ]
  },
  {
   "cell_type": "code",
   "execution_count": 2,
   "metadata": {},
   "outputs": [
    {
     "name": "stdout",
     "output_type": "stream",
     "text": [
      "Service Key: 2B93BD36-A99E-413E-9582-F6428745D972\n"
     ]
    }
   ],
   "source": [
    "import os\n",
    "from dotenv import load_dotenv\n",
    "\n",
    "\n",
    "# .env 파일 로드\n",
    "load_dotenv()\n",
    "\n",
    "# 환경 변수 가져오기\n",
    "service_key = os.getenv(\"SERVICE_KEY\")\n",
    "\n",
    "# 사용 예시\n",
    "print(f\"Service Key: {service_key}\")\n"
   ]
  },
  {
   "cell_type": "code",
   "execution_count": 10,
   "metadata": {},
   "outputs": [],
   "source": [
    "# MySQL 연결 설정\n",
    "DB_HOST = os.getenv(\"DB_HOST\")\n",
    "DB_PORT = int(os.getenv(\"DB_PORT\", 3306))\n",
    "DB_USER = os.getenv(\"DB_USER\")\n",
    "DB_PASSWORD = os.getenv(\"DB_PASSWORD\")\n",
    "DB_NAME = os.getenv(\"DB_NAME\")\n",
    "\n",
    "# MySQL 연결 생성 함수\n",
    "def create_connection():\n",
    "    return mysql.connector.connect(\n",
    "        host=DB_HOST,\n",
    "        port=DB_PORT,\n",
    "        user=DB_USER,\n",
    "        password=DB_PASSWORD,\n",
    "        database=DB_NAME,\n",
    "        pool_name=\"mypool\",\n",
    "        pool_size=5\n",
    "    )\n"
   ]
  },
  {
   "cell_type": "code",
   "execution_count": 11,
   "metadata": {},
   "outputs": [],
   "source": [
    "# API에서 데이터 가져오기 함수\n",
    "def fetch_api_data():\n",
    "    url = \"http://marineweather.nmpnt.go.kr:8001/openWeatherNow.do\"\n",
    "    params = {\n",
    "        \"serviceKey\": service_key,\n",
    "        \"resultType\": \"json\",\n",
    "        \"mmaf\": \"101\",\n",
    "        \"mmsi\": \"994401597\",\n",
    "        \"dataType\": \"2\"\n",
    "    }\n",
    "\n",
    "    # API 요청\n",
    "    response = requests.get(url, params=params)\n",
    "\n",
    "    # 응답 확인\n",
    "    if response.status_code == 200:\n",
    "        try:\n",
    "            return response.json()  # JSON 데이터를 반환\n",
    "        except Exception as e:\n",
    "            print(f\"Error parsing JSON response: {e}\")\n",
    "            return None\n",
    "    else:\n",
    "        print(f\"Failed to fetch API data. Status code: {response.status_code}\")\n",
    "        return None\n"
   ]
  },
  {
   "cell_type": "code",
   "execution_count": 12,
   "metadata": {},
   "outputs": [
    {
     "name": "stdout",
     "output_type": "stream",
     "text": [
      "{'result': {'status': 'OK', 'message': '', 'recordset': [{'DATETIME': '20250115120000', 'MMAF_CODE': '101', 'MMAF_NM': '부산청', 'MMSI_CODE': '994401597', 'MMSI_NM': '부산항유도등부표(랜비)', 'WIND_DIRECT': '156', 'WIND_SPEED': '10.3', 'SURFACE_CURR_DRC': '49', 'SURFACE_CURR_SPEED': '.8', 'WAVE_DRC': '미제공', 'WAVE_HEIGTH': '미제공', 'AIR_TEMPERATURE': '.5', 'HUMIDITY': '22', 'AIR_PRESSURE': '1024', 'WATER_TEMPER': '13.6', 'SALINITY': '18.9', 'HORIZON_VISIBL': '미제공', 'TIDE_SPEED': '미제공', 'TIDE_DIRECT': '미제공', 'TIDE_TENDENCY': '미제공', 'LATITUDE': '35.0665', 'LONGITUDE': '129.131'}]}}\n"
     ]
    }
   ],
   "source": [
    "response = fetch_api_data()\n",
    "print(response)\n"
   ]
  },
  {
   "cell_type": "code",
   "execution_count": 13,
   "metadata": {},
   "outputs": [
    {
     "name": "stdout",
     "output_type": "stream",
     "text": [
      "Connection object is created successfully.\n"
     ]
    }
   ],
   "source": [
    "# MySQL 연결 객체 초기화\n",
    "conn = None\n",
    "\n",
    "def ensure_connection():\n",
    "    \"\"\"MySQL 연결 상태를 확인하고 필요시 재연결.\"\"\"\n",
    "    global conn\n",
    "    if conn is None or not conn.is_connected():\n",
    "        print(\"Database connection is not active. Attempting to reconnect...\")\n",
    "        conn = create_connection()\n",
    "        print(\"Reconnected to the database.\")\n"
   ]
  },
  {
   "cell_type": "code",
   "execution_count": 14,
   "metadata": {},
   "outputs": [],
   "source": [
    "def upsert_data(data):\n",
    "    try:\n",
    "        # 연결 상태 확인\n",
    "        if conn is None or not conn.is_connected():\n",
    "            print(\"Database connection is not active. Attempting to reconnect...\")\n",
    "            conn.reconnect(attempts=3, delay=5)\n",
    "            print(\"Reconnected to the database.\")\n",
    "\n",
    "        # 삽입 쿼리\n",
    "        insert_query = \"\"\"\n",
    "        INSERT INTO oceandata (\n",
    "            datetime, mmaf_code, mmaf_name, mmsi_code, mmsi_name, wind_direct, wind_speed,\n",
    "            surface_curr_drc, surface_curr_speed, air_temperature, humidity, air_pressure,\n",
    "            water_temperature, salinity, latitude, longitude\n",
    "        )\n",
    "        VALUES (%s, %s, %s, %s, %s, %s, %s, %s, %s, %s, %s, %s, %s, %s, %s, %s)\n",
    "        ON DUPLICATE KEY UPDATE\n",
    "            wind_direct = VALUES(wind_direct),\n",
    "            wind_speed = VALUES(wind_speed),\n",
    "            surface_curr_drc = VALUES(surface_curr_drc),\n",
    "            surface_curr_speed = VALUES(surface_curr_speed),\n",
    "            air_temperature = VALUES(air_temperature),\n",
    "            humidity = VALUES(humidity),\n",
    "            air_pressure = VALUES(air_pressure),\n",
    "            water_temperature = VALUES(water_temperature),\n",
    "            salinity = VALUES(salinity);\n",
    "        \"\"\"\n",
    "\n",
    "        # 데이터 파싱 및 삽입\n",
    "        with conn.cursor() as cursor:\n",
    "            if \"result\" in data and \"recordset\" in data[\"result\"]:\n",
    "                for entry in data[\"result\"][\"recordset\"]:\n",
    "                    cursor.execute(insert_query, (\n",
    "                        datetime.strptime(entry[\"DATETIME\"], \"%Y%m%d%H%M%S\"),\n",
    "                        entry[\"MMAF_CODE\"],\n",
    "                        entry[\"MMAF_NM\"],\n",
    "                        entry[\"MMSI_CODE\"],\n",
    "                        entry[\"MMSI_NM\"],\n",
    "                        float(entry[\"WIND_DIRECT\"]) if entry[\"WIND_DIRECT\"] != \"미제공\" else None,\n",
    "                        float(entry[\"WIND_SPEED\"]) if entry[\"WIND_SPEED\"] != \"미제공\" else None,\n",
    "                        float(entry[\"SURFACE_CURR_DRC\"]) if entry[\"SURFACE_CURR_DRC\"] != \"미제공\" else None,\n",
    "                        float(entry[\"SURFACE_CURR_SPEED\"]) if entry[\"SURFACE_CURR_SPEED\"] != \"미제공\" else None,\n",
    "                        float(entry[\"AIR_TEMPERATURE\"]) if entry[\"AIR_TEMPERATURE\"] != \"미제공\" else None,\n",
    "                        float(entry[\"HUMIDITY\"]) if entry[\"HUMIDITY\"] != \"미제공\" else None,\n",
    "                        float(entry[\"AIR_PRESSURE\"]) if entry[\"AIR_PRESSURE\"] != \"미제공\" else None,\n",
    "                        float(entry[\"WATER_TEMPER\"]) if entry[\"WATER_TEMPER\"] != \"미제공\" else None,\n",
    "                        float(entry[\"SALINITY\"]) if entry[\"SALINITY\"] != \"미제공\" else None,\n",
    "                        round(float(entry[\"LATITUDE\"]), 5),\n",
    "                        round(float(entry[\"LONGITUDE\"]), 5)\n",
    "                    ))\n",
    "                conn.commit()\n",
    "        print(\"Data successfully inserted or updated.\")\n",
    "    except mysql.connector.Error as e:\n",
    "        print(f\"MySQL error: {e}\")\n",
    "        if conn and not conn.is_connected():\n",
    "            print(\"Reconnecting to MySQL...\")\n",
    "            conn.reconnect(attempts=3, delay=5)\n",
    "    except Exception as e:\n",
    "        print(f\"Unexpected error: {e}\")\n"
   ]
  },
  {
   "cell_type": "code",
   "execution_count": 16,
   "metadata": {},
   "outputs": [
    {
     "name": "stdout",
     "output_type": "stream",
     "text": [
      "Unexpected error: 'NoneType' object has no attribute 'is_connected'\n",
      "Scheduler is running... Press Ctrl+C to stop.\n",
      "Scheduler stopped. Closing database connection...\n"
     ]
    },
    {
     "ename": "AttributeError",
     "evalue": "'NoneType' object has no attribute 'is_connected'",
     "output_type": "error",
     "traceback": [
      "\u001b[1;31m---------------------------------------------------------------------------\u001b[0m",
      "\u001b[1;31mKeyboardInterrupt\u001b[0m                         Traceback (most recent call last)",
      "Cell \u001b[1;32mIn[16], line 10\u001b[0m\n\u001b[0;32m      9\u001b[0m         schedule\u001b[38;5;241m.\u001b[39mrun_pending()\n\u001b[1;32m---> 10\u001b[0m         time\u001b[38;5;241m.\u001b[39msleep(\u001b[38;5;241m1\u001b[39m)\n\u001b[0;32m     11\u001b[0m \u001b[38;5;28;01mexcept\u001b[39;00m \u001b[38;5;167;01mKeyboardInterrupt\u001b[39;00m:\n",
      "\u001b[1;31mKeyboardInterrupt\u001b[0m: ",
      "\nDuring handling of the above exception, another exception occurred:\n",
      "\u001b[1;31mAttributeError\u001b[0m                            Traceback (most recent call last)",
      "Cell \u001b[1;32mIn[16], line 13\u001b[0m\n\u001b[0;32m     11\u001b[0m \u001b[38;5;28;01mexcept\u001b[39;00m \u001b[38;5;167;01mKeyboardInterrupt\u001b[39;00m:\n\u001b[0;32m     12\u001b[0m     \u001b[38;5;28mprint\u001b[39m(\u001b[38;5;124m\"\u001b[39m\u001b[38;5;124mScheduler stopped. Closing database connection...\u001b[39m\u001b[38;5;124m\"\u001b[39m)\n\u001b[1;32m---> 13\u001b[0m     \u001b[38;5;28;01mif\u001b[39;00m \u001b[43mconn\u001b[49m\u001b[38;5;241;43m.\u001b[39;49m\u001b[43mis_connected\u001b[49m():\n\u001b[0;32m     14\u001b[0m         conn\u001b[38;5;241m.\u001b[39mclose()\n",
      "File \u001b[1;32mc:\\Users\\user\\anaconda3\\envs\\py3_11\\Lib\\site-packages\\mysql\\connector\\pooling.py:396\u001b[0m, in \u001b[0;36mPooledMySQLConnection.__getattr__\u001b[1;34m(self, attr)\u001b[0m\n\u001b[0;32m    394\u001b[0m \u001b[38;5;28;01mdef\u001b[39;00m \u001b[38;5;21m__getattr__\u001b[39m(\u001b[38;5;28mself\u001b[39m, attr: Any) \u001b[38;5;241m-\u001b[39m\u001b[38;5;241m>\u001b[39m Any:\n\u001b[0;32m    395\u001b[0m \u001b[38;5;250m    \u001b[39m\u001b[38;5;124;03m\"\"\"Calls attributes of the MySQLConnection instance\"\"\"\u001b[39;00m\n\u001b[1;32m--> 396\u001b[0m     \u001b[38;5;28;01mreturn\u001b[39;00m \u001b[38;5;28;43mgetattr\u001b[39;49m\u001b[43m(\u001b[49m\u001b[38;5;28;43mself\u001b[39;49m\u001b[38;5;241;43m.\u001b[39;49m\u001b[43m_cnx\u001b[49m\u001b[43m,\u001b[49m\u001b[43m \u001b[49m\u001b[43mattr\u001b[49m\u001b[43m)\u001b[49m\n",
      "\u001b[1;31mAttributeError\u001b[0m: 'NoneType' object has no attribute 'is_connected'"
     ]
    }
   ],
   "source": [
    "api_data = fetch_api_data()\n",
    "upsert_data(api_data)\n",
    "\n",
    "schedule.every(10).minutes.do(lambda: upsert_data(fetch_api_data()))\n",
    "\n",
    "try:\n",
    "    print(\"Scheduler is running... Press Ctrl+C to stop.\")\n",
    "    while True:\n",
    "        schedule.run_pending()\n",
    "        time.sleep(1)\n",
    "except KeyboardInterrupt:\n",
    "    print(\"Scheduler stopped. Closing database connection...\")\n",
    "    if conn.is_connected():\n",
    "        conn.close()\n"
   ]
  }
 ],
 "metadata": {
  "kernelspec": {
   "display_name": "py3_11",
   "language": "python",
   "name": "python3"
  },
  "language_info": {
   "codemirror_mode": {
    "name": "ipython",
    "version": 3
   },
   "file_extension": ".py",
   "mimetype": "text/x-python",
   "name": "python",
   "nbconvert_exporter": "python",
   "pygments_lexer": "ipython3",
   "version": "3.11.11"
  }
 },
 "nbformat": 4,
 "nbformat_minor": 2
}
