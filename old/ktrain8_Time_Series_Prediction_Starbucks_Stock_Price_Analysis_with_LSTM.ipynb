{
  "cells": [
    {
      "cell_type": "markdown",
      "metadata": {
        "id": "G3KD7xHe2vNc"
      },
      "source": [
        "# 0. 자신이 사용하는 torch 버전과 GPU 사용 가능 여부를 확인하세요."
      ]
    },
    {
      "cell_type": "code",
      "execution_count": null,
      "metadata": {
        "colab": {
          "base_uri": "https://localhost:8080/"
        },
        "id": "-Xgl77Km2t0F",
        "outputId": "5d569ce3-6533-4fd5-de43-ff726503e4f2"
      },
      "outputs": [],
      "source": []
    },
    {
      "cell_type": "code",
      "execution_count": null,
      "metadata": {
        "colab": {
          "base_uri": "https://localhost:8080/"
        },
        "id": "relTZHRB22m8",
        "outputId": "d781e123-964c-499e-c39c-48446b6b4265"
      },
      "outputs": [],
      "source": []
    },
    {
      "cell_type": "markdown",
      "metadata": {
        "id": "k5W6bnNp2MoG"
      },
      "source": [
        "# 1. input_size 가 1이고, hidden_size 10인 RNN 객체를 생성하시오. (1, 1, 1) 데이터를 torch.rand 로 생성 후, RNN 객체에 전달하여 출력값을 확인하시오. (데이터 값, shape)\n",
        "\n",
        "* RNN 객체 생성 시 batch 데이터의 위치를 고려하시오.\n",
        "* RNN 객체의 반환값 형태에 주의하시오. (공식 문서 참고)"
      ]
    },
    {
      "cell_type": "code",
      "execution_count": 1,
      "metadata": {
        "colab": {
          "base_uri": "https://localhost:8080/"
        },
        "id": "U8QwqpEW1MJJ",
        "outputId": "be6aee8f-19e2-48ed-91da-1e15d5220360"
      },
      "outputs": [
        {
          "data": {
            "text/plain": [
              "(torch.Size([1, 1, 10]), torch.Size([1, 1, 10]))"
            ]
          },
          "execution_count": 1,
          "metadata": {},
          "output_type": "execute_result"
        }
      ],
      "source": [
        "import torch\n",
        "\n",
        "RNN = torch.nn.RNN(input_size=1, hidden_size=10, batch_first=True)\n",
        "input = torch.rand(1,1,1)\n",
        "\n",
        "x,h = RNN(input)\n",
        "x.shape, h.shape"
      ]
    },
    {
      "cell_type": "code",
      "execution_count": 2,
      "metadata": {
        "colab": {
          "base_uri": "https://localhost:8080/"
        },
        "id": "HYMnPhwr2pgV",
        "outputId": "31022795-8ac6-494f-d039-18355bae58c1"
      },
      "outputs": [
        {
          "data": {
            "text/plain": [
              "(tensor([[[-0.2322, -0.0056,  0.0468,  0.3002,  0.0257, -0.4734,  0.0946,\n",
              "            0.1374,  0.4003, -0.0477]]], grad_fn=<TransposeBackward1>),\n",
              " tensor([[[-0.2322, -0.0056,  0.0468,  0.3002,  0.0257, -0.4734,  0.0946,\n",
              "            0.1374,  0.4003, -0.0477]]], grad_fn=<StackBackward0>))"
            ]
          },
          "execution_count": 2,
          "metadata": {},
          "output_type": "execute_result"
        }
      ],
      "source": [
        "x,h"
      ]
    },
    {
      "cell_type": "markdown",
      "metadata": {
        "id": "phA0iH892-08"
      },
      "source": [
        "# 2. input_size 가 2이고, hidden_size 5인 RNN 객체를 생성하시오. (1, 1, 2) 데이터를 torch.rand 로 생성 후, RNN 객체에 전달하여 출력값을 확인하시오. (데이터 값, shape)"
      ]
    },
    {
      "cell_type": "code",
      "execution_count": 3,
      "metadata": {
        "colab": {
          "base_uri": "https://localhost:8080/"
        },
        "id": "J1gVN6B_3FVn",
        "outputId": "b0ff6e10-a3c7-480b-8417-b966d83933fc"
      },
      "outputs": [
        {
          "data": {
            "text/plain": [
              "(tensor([[[ 0.4466,  0.0917,  0.1112, -0.3057,  0.0184]]],\n",
              "        grad_fn=<TransposeBackward1>),\n",
              " tensor([[[ 0.4466,  0.0917,  0.1112, -0.3057,  0.0184]]],\n",
              "        grad_fn=<StackBackward0>))"
            ]
          },
          "execution_count": 3,
          "metadata": {},
          "output_type": "execute_result"
        }
      ],
      "source": [
        "RNN2 = torch.nn.RNN(input_size=2, hidden_size=5, batch_first=True)\n",
        "input2 = torch.rand(1,1,2)\n",
        "\n",
        "x,h = RNN2(input2)\n",
        "x,h"
      ]
    },
    {
      "cell_type": "code",
      "execution_count": 4,
      "metadata": {
        "colab": {
          "base_uri": "https://localhost:8080/"
        },
        "id": "wdbFkU5C3G6y",
        "outputId": "d82c8f1b-05b1-422f-98be-819b0c2ee21f"
      },
      "outputs": [
        {
          "data": {
            "text/plain": [
              "(torch.Size([1, 1, 5]), torch.Size([1, 1, 5]))"
            ]
          },
          "execution_count": 4,
          "metadata": {},
          "output_type": "execute_result"
        }
      ],
      "source": [
        "x.shape,h.shape"
      ]
    },
    {
      "cell_type": "markdown",
      "metadata": {
        "id": "6o2cWJCV3MJA"
      },
      "source": [
        "# 3. input_size 가 1이고, hidden_size 10인 LSTM 객체를 생성하시오. (1, 1, 1) 데이터를 torch.rand 로 생성 후, LSTM 객체에 전달하여 출력값을 확인하시오. (데이터 값, shape)\n",
        "\n",
        "* LSTM 객체 생성 시 batch 데이터의 위치를 고려하시오.\n",
        "* LSTM 객체의 반환값 형태에 주의하시오. (공식 문서 참고)"
      ]
    },
    {
      "cell_type": "code",
      "execution_count": 5,
      "metadata": {
        "colab": {
          "base_uri": "https://localhost:8080/"
        },
        "id": "Evt9Y21z3Uh2",
        "outputId": "fe7754a7-43d2-4dd2-ea28-cb1ee1faa8b7"
      },
      "outputs": [
        {
          "data": {
            "text/plain": [
              "(tensor([[[ 0.0328, -0.0430, -0.0377,  0.0602, -0.0180, -0.0089,  0.0423,\n",
              "           -0.0642, -0.0371, -0.0293]]], grad_fn=<TransposeBackward0>),\n",
              " (tensor([[[ 0.0328, -0.0430, -0.0377,  0.0602, -0.0180, -0.0089,  0.0423,\n",
              "            -0.0642, -0.0371, -0.0293]]], grad_fn=<StackBackward0>),\n",
              "  tensor([[[ 0.0652, -0.0800, -0.0697,  0.1174, -0.0379, -0.0177,  0.0998,\n",
              "            -0.1082, -0.0817, -0.0564]]], grad_fn=<StackBackward0>)))"
            ]
          },
          "execution_count": 5,
          "metadata": {},
          "output_type": "execute_result"
        }
      ],
      "source": [
        "LSTM = torch.nn.LSTM(input_size=1,hidden_size=10,batch_first=True)\n",
        "input = torch.rand(1,1,1)\n",
        "\n",
        "y,(h,c) = LSTM(input)\n",
        "y,(h,c)"
      ]
    },
    {
      "cell_type": "code",
      "execution_count": 6,
      "metadata": {
        "colab": {
          "base_uri": "https://localhost:8080/"
        },
        "id": "ILCL-zca3V4N",
        "outputId": "3bb2681b-43f4-4a30-854b-208f238bf360"
      },
      "outputs": [
        {
          "data": {
            "text/plain": [
              "(torch.Size([1, 1, 10]), torch.Size([1, 1, 10]), torch.Size([1, 1, 10]))"
            ]
          },
          "execution_count": 6,
          "metadata": {},
          "output_type": "execute_result"
        }
      ],
      "source": [
        "y.shape, h.shape,c.shape"
      ]
    },
    {
      "cell_type": "markdown",
      "metadata": {
        "id": "vqHj1xY73iLM"
      },
      "source": [
        "# 4. input_size 가 2이고, hidden_size 5인 LSTM 객체를 생성하시오. (1, 1, 2) 데이터를 torch.rand 로 생성 후, LSTM 객체에 전달하여 출력값을 확인하시오. (데이터 값, shape)"
      ]
    },
    {
      "cell_type": "code",
      "execution_count": 7,
      "metadata": {
        "colab": {
          "base_uri": "https://localhost:8080/"
        },
        "id": "TsYFH4D33Zj-",
        "outputId": "df36c195-03f3-450a-84d0-04e2f0796aba"
      },
      "outputs": [
        {
          "data": {
            "text/plain": [
              "(tensor([[[-0.0463,  0.0031, -0.1657, -0.1289,  0.0792]]],\n",
              "        grad_fn=<TransposeBackward0>),\n",
              " (tensor([[[-0.0463,  0.0031, -0.1657, -0.1289,  0.0792]]],\n",
              "         grad_fn=<StackBackward0>),\n",
              "  tensor([[[-0.0958,  0.0075, -0.2826, -0.2069,  0.1597]]],\n",
              "         grad_fn=<StackBackward0>)))"
            ]
          },
          "execution_count": 7,
          "metadata": {},
          "output_type": "execute_result"
        }
      ],
      "source": [
        "LSTM2 = torch.nn.LSTM(input_size=2,hidden_size=5,batch_first=True)\n",
        "input2 = torch.rand(1,1,2)\n",
        "\n",
        "y,(h,c) = LSTM2(input2)\n",
        "y,(h,c)"
      ]
    },
    {
      "cell_type": "code",
      "execution_count": 8,
      "metadata": {
        "colab": {
          "base_uri": "https://localhost:8080/"
        },
        "id": "-JfOzctd30Ga",
        "outputId": "fb722173-ab79-4a1e-d8de-ffbf7cb355a2"
      },
      "outputs": [
        {
          "data": {
            "text/plain": [
              "(torch.Size([1, 1, 5]), torch.Size([1, 1, 5]), torch.Size([1, 1, 5]))"
            ]
          },
          "execution_count": 8,
          "metadata": {},
          "output_type": "execute_result"
        }
      ],
      "source": [
        "y.shape, h.shape,c.shape"
      ]
    },
    {
      "cell_type": "markdown",
      "metadata": {
        "id": "l-rxn_C933q8"
      },
      "source": [
        "# 5. input_size 가 1 이고 seq_len 이 30 인 입력 데이터를 torch.rand 로 생성하시오. 3번에서 생성한 LSTM 객체를 이용하여 LSTM 객체에 전달하여 출력값을 확인하시오 (shape)"
      ]
    },
    {
      "cell_type": "code",
      "execution_count": 9,
      "metadata": {
        "colab": {
          "base_uri": "https://localhost:8080/"
        },
        "id": "Vcfo8lBo31dh",
        "outputId": "1ceb73ae-1592-468a-ad75-0dcf462b0171"
      },
      "outputs": [
        {
          "data": {
            "text/plain": [
              "(torch.Size([1, 30, 10]), torch.Size([1, 1, 10]), torch.Size([1, 1, 10]))"
            ]
          },
          "execution_count": 9,
          "metadata": {},
          "output_type": "execute_result"
        }
      ],
      "source": [
        "input = torch.rand(1,30,1)\n",
        "\n",
        "y,(h,c) = LSTM(input)\n",
        "y.shape,h.shape,c.shape"
      ]
    },
    {
      "cell_type": "markdown",
      "metadata": {
        "id": "pUbbZ93i4lwM"
      },
      "source": [
        "# 6. input_size 가 2 이고 seq_len 이 60 인 입력 데이터를 torch.rand 로 생성하시오. 4번에서 생성한 LSTM 객체를 이용하여 LSTM 객체에 전달하여 출력값을 확인하시오 (shape)"
      ]
    },
    {
      "cell_type": "code",
      "execution_count": 10,
      "metadata": {
        "colab": {
          "base_uri": "https://localhost:8080/"
        },
        "id": "344ZjsEJ4jlV",
        "outputId": "07bdbfcd-9d9c-4368-bfa3-f03b059fabf0"
      },
      "outputs": [
        {
          "data": {
            "text/plain": [
              "(torch.Size([1, 60, 10]), torch.Size([1, 1, 10]), torch.Size([1, 1, 10]))"
            ]
          },
          "execution_count": 10,
          "metadata": {},
          "output_type": "execute_result"
        }
      ],
      "source": [
        "input = torch.rand(1,60,2)\n",
        "lstm = torch.nn.LSTM(2,10, batch_first=True)\n",
        "y,(h,c) = lstm(input)\n",
        "y.shape,h.shape,c.shape"
      ]
    },
    {
      "cell_type": "markdown",
      "metadata": {
        "id": "7_hSd57h45o_"
      },
      "source": [
        "# 7. 순환신경망에서 many-to-one 모델은 여러 개의 입력을 받아 하나의 값을 출력하는 구조이다.\n",
        "\n",
        "* 예를 들어, 스타벅스 주가를 예측하려고 할 때, **과거 30일의 주가 데이터**를 이용하여 **내일의 주가**를 예측하는 경우이다.\n",
        "\n",
        "* 예를 참고하여 이에 알맞은 입력 데이터와 LSTM 모델을 생성하고 출력값의 shape 을 확인하세요. (단, batch_size=32, hidden_size=10 이다.)"
      ]
    },
    {
      "cell_type": "code",
      "execution_count": 11,
      "metadata": {
        "colab": {
          "base_uri": "https://localhost:8080/"
        },
        "id": "cIU4G8Ek517S",
        "outputId": "68a18287-4513-483c-ac7f-eb06ac64cfe1"
      },
      "outputs": [
        {
          "data": {
            "text/plain": [
              "(torch.Size([32, 30, 10]), torch.Size([1, 32, 10]), torch.Size([1, 32, 10]))"
            ]
          },
          "execution_count": 11,
          "metadata": {},
          "output_type": "execute_result"
        }
      ],
      "source": [
        "LSTM = torch.nn.LSTM(input_size=1, hidden_size=10, batch_first=True)\n",
        "input = torch.rand(32,30,1)\n",
        "\n",
        "y,(h,c) = LSTM(input)\n",
        "y.shape,h.shape,c.shape"
      ]
    },
    {
      "cell_type": "markdown",
      "metadata": {
        "id": "uTlLyM3172kz"
      },
      "source": [
        "# 8. 순환신경망에서 many-to-one 모델은 여러 개의 입력을 받아 하나의 값을 출력하는 구조이다.\n",
        "\n",
        "* 예를 들어, 스타벅스 주가를 예측하려고 할 때, **과거 30일의 주가와 거래량 데이터**를 이용하여 **내일의 주가**를 예측하는 경우이다.\n",
        "\n",
        "* 예를 참고하여 이에 알맞은 입력 데이터와 LSTM 모델을 생성하고 출력값의 shape 을 확인하세요. (단, batch_size=32, hidden_size=10 이다.)"
      ]
    },
    {
      "cell_type": "code",
      "execution_count": 12,
      "metadata": {
        "colab": {
          "base_uri": "https://localhost:8080/"
        },
        "id": "1AOz5_Ge6Ldz",
        "outputId": "cdf01344-9644-4c42-a738-9e86488fbaf6"
      },
      "outputs": [
        {
          "data": {
            "text/plain": [
              "(torch.Size([32, 30, 10]), torch.Size([1, 32, 10]), torch.Size([1, 32, 10]))"
            ]
          },
          "execution_count": 12,
          "metadata": {},
          "output_type": "execute_result"
        }
      ],
      "source": [
        "input = torch.rand(32,30,2)\n",
        "LSTM = torch.nn.LSTM(input_size=2, hidden_size=10, batch_first=True)\n",
        "\n",
        "y,(h,c) = LSTM(input)\n",
        "y.shape,h.shape,c.shape"
      ]
    },
    {
      "cell_type": "markdown",
      "metadata": {
        "id": "KE7SMjEP8UUi"
      },
      "source": [
        "# 9. 8번의 출력에서 가장 마지막 출력값을 내일의 스타벅스 주가로 정했다. 해당 값을 출력하시오. (slicing 이용)"
      ]
    },
    {
      "cell_type": "code",
      "execution_count": 13,
      "metadata": {
        "colab": {
          "base_uri": "https://localhost:8080/"
        },
        "id": "aZKRZB4E8P-y",
        "outputId": "7f5eceef-1d42-4efb-fd06-c6178da5469c"
      },
      "outputs": [
        {
          "data": {
            "text/plain": [
              "torch.Size([32, 10])"
            ]
          },
          "execution_count": 13,
          "metadata": {},
          "output_type": "execute_result"
        }
      ],
      "source": [
        "y[:,-1,:].shape"
      ]
    },
    {
      "cell_type": "markdown",
      "metadata": {
        "id": "1y54DIPz8rMm"
      },
      "source": [
        "# 10. 9번의 마지막 출력값의 모양이 1이 아니라 10이다. 이를 위해, Linear 레이어를 추가하여 마지막 출력이 (32, 1) 가 되도록 코드를 작성하시오.\n",
        "\n",
        "* 입력데이터 > LSTM > Linear > 출력데이터 순서로 코드를 작성하시오."
      ]
    },
    {
      "cell_type": "code",
      "execution_count": 14,
      "metadata": {
        "colab": {
          "base_uri": "https://localhost:8080/"
        },
        "id": "Gc3cWwgl8nEh",
        "outputId": "19afc49a-94de-4333-f9a4-4ba79c7b617d"
      },
      "outputs": [
        {
          "data": {
            "text/plain": [
              "torch.Size([32, 1])"
            ]
          },
          "execution_count": 14,
          "metadata": {},
          "output_type": "execute_result"
        }
      ],
      "source": [
        "input = torch.rand(32,30,2)\n",
        "LSTM = torch.nn.LSTM(input_size=2, hidden_size=10, batch_first=True)\n",
        "y,(h,c) = LSTM(input)\n",
        "linear = torch.nn.Linear(10,1)\n",
        "linear(y[:,-1,:]).shape"
      ]
    },
    {
      "cell_type": "markdown",
      "metadata": {
        "id": "KLfUO0M49_gC"
      },
      "source": [
        "# 11. 10번에서 LSTM 객체와 Linear 객체를 nn.Sequential 로 하나로 묶어 model 변수에 저장해 보세요. 그런 다음 입력 데이터를 전달하여 출력을 확인해 보세요. 에러가 발생하면 가능한 방법을 고민하여 구현해 보세요. (hint: nn.Module)"
      ]
    },
    {
      "cell_type": "code",
      "execution_count": 15,
      "metadata": {
        "id": "gyUToyR79bi8"
      },
      "outputs": [
        {
          "ename": "TypeError",
          "evalue": "linear(): argument 'input' (position 1) must be Tensor, not tuple",
          "output_type": "error",
          "traceback": [
            "\u001b[1;31m---------------------------------------------------------------------------\u001b[0m",
            "\u001b[1;31mTypeError\u001b[0m                                 Traceback (most recent call last)",
            "Cell \u001b[1;32mIn[15], line 2\u001b[0m\n\u001b[0;32m      1\u001b[0m model \u001b[38;5;241m=\u001b[39m torch\u001b[38;5;241m.\u001b[39mnn\u001b[38;5;241m.\u001b[39mSequential(LSTM, linear)\n\u001b[1;32m----> 2\u001b[0m \u001b[43mmodel\u001b[49m\u001b[43m(\u001b[49m\u001b[38;5;28;43minput\u001b[39;49m\u001b[43m)\u001b[49m\n",
            "File \u001b[1;32mc:\\Users\\user\\anaconda3\\envs\\py3_11\\Lib\\site-packages\\torch\\nn\\modules\\module.py:1736\u001b[0m, in \u001b[0;36mModule._wrapped_call_impl\u001b[1;34m(self, *args, **kwargs)\u001b[0m\n\u001b[0;32m   1734\u001b[0m     \u001b[38;5;28;01mreturn\u001b[39;00m \u001b[38;5;28mself\u001b[39m\u001b[38;5;241m.\u001b[39m_compiled_call_impl(\u001b[38;5;241m*\u001b[39margs, \u001b[38;5;241m*\u001b[39m\u001b[38;5;241m*\u001b[39mkwargs)  \u001b[38;5;66;03m# type: ignore[misc]\u001b[39;00m\n\u001b[0;32m   1735\u001b[0m \u001b[38;5;28;01melse\u001b[39;00m:\n\u001b[1;32m-> 1736\u001b[0m     \u001b[38;5;28;01mreturn\u001b[39;00m \u001b[38;5;28;43mself\u001b[39;49m\u001b[38;5;241;43m.\u001b[39;49m\u001b[43m_call_impl\u001b[49m\u001b[43m(\u001b[49m\u001b[38;5;241;43m*\u001b[39;49m\u001b[43margs\u001b[49m\u001b[43m,\u001b[49m\u001b[43m \u001b[49m\u001b[38;5;241;43m*\u001b[39;49m\u001b[38;5;241;43m*\u001b[39;49m\u001b[43mkwargs\u001b[49m\u001b[43m)\u001b[49m\n",
            "File \u001b[1;32mc:\\Users\\user\\anaconda3\\envs\\py3_11\\Lib\\site-packages\\torch\\nn\\modules\\module.py:1747\u001b[0m, in \u001b[0;36mModule._call_impl\u001b[1;34m(self, *args, **kwargs)\u001b[0m\n\u001b[0;32m   1742\u001b[0m \u001b[38;5;66;03m# If we don't have any hooks, we want to skip the rest of the logic in\u001b[39;00m\n\u001b[0;32m   1743\u001b[0m \u001b[38;5;66;03m# this function, and just call forward.\u001b[39;00m\n\u001b[0;32m   1744\u001b[0m \u001b[38;5;28;01mif\u001b[39;00m \u001b[38;5;129;01mnot\u001b[39;00m (\u001b[38;5;28mself\u001b[39m\u001b[38;5;241m.\u001b[39m_backward_hooks \u001b[38;5;129;01mor\u001b[39;00m \u001b[38;5;28mself\u001b[39m\u001b[38;5;241m.\u001b[39m_backward_pre_hooks \u001b[38;5;129;01mor\u001b[39;00m \u001b[38;5;28mself\u001b[39m\u001b[38;5;241m.\u001b[39m_forward_hooks \u001b[38;5;129;01mor\u001b[39;00m \u001b[38;5;28mself\u001b[39m\u001b[38;5;241m.\u001b[39m_forward_pre_hooks\n\u001b[0;32m   1745\u001b[0m         \u001b[38;5;129;01mor\u001b[39;00m _global_backward_pre_hooks \u001b[38;5;129;01mor\u001b[39;00m _global_backward_hooks\n\u001b[0;32m   1746\u001b[0m         \u001b[38;5;129;01mor\u001b[39;00m _global_forward_hooks \u001b[38;5;129;01mor\u001b[39;00m _global_forward_pre_hooks):\n\u001b[1;32m-> 1747\u001b[0m     \u001b[38;5;28;01mreturn\u001b[39;00m \u001b[43mforward_call\u001b[49m\u001b[43m(\u001b[49m\u001b[38;5;241;43m*\u001b[39;49m\u001b[43margs\u001b[49m\u001b[43m,\u001b[49m\u001b[43m \u001b[49m\u001b[38;5;241;43m*\u001b[39;49m\u001b[38;5;241;43m*\u001b[39;49m\u001b[43mkwargs\u001b[49m\u001b[43m)\u001b[49m\n\u001b[0;32m   1749\u001b[0m result \u001b[38;5;241m=\u001b[39m \u001b[38;5;28;01mNone\u001b[39;00m\n\u001b[0;32m   1750\u001b[0m called_always_called_hooks \u001b[38;5;241m=\u001b[39m \u001b[38;5;28mset\u001b[39m()\n",
            "File \u001b[1;32mc:\\Users\\user\\anaconda3\\envs\\py3_11\\Lib\\site-packages\\torch\\nn\\modules\\container.py:250\u001b[0m, in \u001b[0;36mSequential.forward\u001b[1;34m(self, input)\u001b[0m\n\u001b[0;32m    248\u001b[0m \u001b[38;5;28;01mdef\u001b[39;00m \u001b[38;5;21mforward\u001b[39m(\u001b[38;5;28mself\u001b[39m, \u001b[38;5;28minput\u001b[39m):\n\u001b[0;32m    249\u001b[0m     \u001b[38;5;28;01mfor\u001b[39;00m module \u001b[38;5;129;01min\u001b[39;00m \u001b[38;5;28mself\u001b[39m:\n\u001b[1;32m--> 250\u001b[0m         \u001b[38;5;28minput\u001b[39m \u001b[38;5;241m=\u001b[39m \u001b[43mmodule\u001b[49m\u001b[43m(\u001b[49m\u001b[38;5;28;43minput\u001b[39;49m\u001b[43m)\u001b[49m\n\u001b[0;32m    251\u001b[0m     \u001b[38;5;28;01mreturn\u001b[39;00m \u001b[38;5;28minput\u001b[39m\n",
            "File \u001b[1;32mc:\\Users\\user\\anaconda3\\envs\\py3_11\\Lib\\site-packages\\torch\\nn\\modules\\module.py:1736\u001b[0m, in \u001b[0;36mModule._wrapped_call_impl\u001b[1;34m(self, *args, **kwargs)\u001b[0m\n\u001b[0;32m   1734\u001b[0m     \u001b[38;5;28;01mreturn\u001b[39;00m \u001b[38;5;28mself\u001b[39m\u001b[38;5;241m.\u001b[39m_compiled_call_impl(\u001b[38;5;241m*\u001b[39margs, \u001b[38;5;241m*\u001b[39m\u001b[38;5;241m*\u001b[39mkwargs)  \u001b[38;5;66;03m# type: ignore[misc]\u001b[39;00m\n\u001b[0;32m   1735\u001b[0m \u001b[38;5;28;01melse\u001b[39;00m:\n\u001b[1;32m-> 1736\u001b[0m     \u001b[38;5;28;01mreturn\u001b[39;00m \u001b[38;5;28;43mself\u001b[39;49m\u001b[38;5;241;43m.\u001b[39;49m\u001b[43m_call_impl\u001b[49m\u001b[43m(\u001b[49m\u001b[38;5;241;43m*\u001b[39;49m\u001b[43margs\u001b[49m\u001b[43m,\u001b[49m\u001b[43m \u001b[49m\u001b[38;5;241;43m*\u001b[39;49m\u001b[38;5;241;43m*\u001b[39;49m\u001b[43mkwargs\u001b[49m\u001b[43m)\u001b[49m\n",
            "File \u001b[1;32mc:\\Users\\user\\anaconda3\\envs\\py3_11\\Lib\\site-packages\\torch\\nn\\modules\\module.py:1747\u001b[0m, in \u001b[0;36mModule._call_impl\u001b[1;34m(self, *args, **kwargs)\u001b[0m\n\u001b[0;32m   1742\u001b[0m \u001b[38;5;66;03m# If we don't have any hooks, we want to skip the rest of the logic in\u001b[39;00m\n\u001b[0;32m   1743\u001b[0m \u001b[38;5;66;03m# this function, and just call forward.\u001b[39;00m\n\u001b[0;32m   1744\u001b[0m \u001b[38;5;28;01mif\u001b[39;00m \u001b[38;5;129;01mnot\u001b[39;00m (\u001b[38;5;28mself\u001b[39m\u001b[38;5;241m.\u001b[39m_backward_hooks \u001b[38;5;129;01mor\u001b[39;00m \u001b[38;5;28mself\u001b[39m\u001b[38;5;241m.\u001b[39m_backward_pre_hooks \u001b[38;5;129;01mor\u001b[39;00m \u001b[38;5;28mself\u001b[39m\u001b[38;5;241m.\u001b[39m_forward_hooks \u001b[38;5;129;01mor\u001b[39;00m \u001b[38;5;28mself\u001b[39m\u001b[38;5;241m.\u001b[39m_forward_pre_hooks\n\u001b[0;32m   1745\u001b[0m         \u001b[38;5;129;01mor\u001b[39;00m _global_backward_pre_hooks \u001b[38;5;129;01mor\u001b[39;00m _global_backward_hooks\n\u001b[0;32m   1746\u001b[0m         \u001b[38;5;129;01mor\u001b[39;00m _global_forward_hooks \u001b[38;5;129;01mor\u001b[39;00m _global_forward_pre_hooks):\n\u001b[1;32m-> 1747\u001b[0m     \u001b[38;5;28;01mreturn\u001b[39;00m \u001b[43mforward_call\u001b[49m\u001b[43m(\u001b[49m\u001b[38;5;241;43m*\u001b[39;49m\u001b[43margs\u001b[49m\u001b[43m,\u001b[49m\u001b[43m \u001b[49m\u001b[38;5;241;43m*\u001b[39;49m\u001b[38;5;241;43m*\u001b[39;49m\u001b[43mkwargs\u001b[49m\u001b[43m)\u001b[49m\n\u001b[0;32m   1749\u001b[0m result \u001b[38;5;241m=\u001b[39m \u001b[38;5;28;01mNone\u001b[39;00m\n\u001b[0;32m   1750\u001b[0m called_always_called_hooks \u001b[38;5;241m=\u001b[39m \u001b[38;5;28mset\u001b[39m()\n",
            "File \u001b[1;32mc:\\Users\\user\\anaconda3\\envs\\py3_11\\Lib\\site-packages\\torch\\nn\\modules\\linear.py:125\u001b[0m, in \u001b[0;36mLinear.forward\u001b[1;34m(self, input)\u001b[0m\n\u001b[0;32m    124\u001b[0m \u001b[38;5;28;01mdef\u001b[39;00m \u001b[38;5;21mforward\u001b[39m(\u001b[38;5;28mself\u001b[39m, \u001b[38;5;28minput\u001b[39m: Tensor) \u001b[38;5;241m-\u001b[39m\u001b[38;5;241m>\u001b[39m Tensor:\n\u001b[1;32m--> 125\u001b[0m     \u001b[38;5;28;01mreturn\u001b[39;00m \u001b[43mF\u001b[49m\u001b[38;5;241;43m.\u001b[39;49m\u001b[43mlinear\u001b[49m\u001b[43m(\u001b[49m\u001b[38;5;28;43minput\u001b[39;49m\u001b[43m,\u001b[49m\u001b[43m \u001b[49m\u001b[38;5;28;43mself\u001b[39;49m\u001b[38;5;241;43m.\u001b[39;49m\u001b[43mweight\u001b[49m\u001b[43m,\u001b[49m\u001b[43m \u001b[49m\u001b[38;5;28;43mself\u001b[39;49m\u001b[38;5;241;43m.\u001b[39;49m\u001b[43mbias\u001b[49m\u001b[43m)\u001b[49m\n",
            "\u001b[1;31mTypeError\u001b[0m: linear(): argument 'input' (position 1) must be Tensor, not tuple"
          ]
        }
      ],
      "source": [
        "model = torch.nn.Sequential(LSTM, linear)\n",
        "model(input)"
      ]
    },
    {
      "cell_type": "code",
      "execution_count": 37,
      "metadata": {},
      "outputs": [],
      "source": [
        "class StocPrediction (torch.nn.Module):\n",
        "  def __init__(self, input_size = 1, hidden_size = 10, output_size = 1):\n",
        "    super().__init__()\n",
        "    self.input_size = input_size\n",
        "    self.hidden_size = hidden_size\n",
        "    self.output_size = output_size\n",
        "    self.lstm = torch.nn.LSTM(input_size, hidden_size, batch_first=True)\n",
        "    self.linear = torch.nn.Linear(hidden_size, output_size)\n",
        "\n",
        "  def forward(self, x):\n",
        "    y ,(h,c) = self.lstm(x)\n",
        "    x = self.linear(y[:,-1,:])\n",
        "    return x"
      ]
    },
    {
      "cell_type": "code",
      "execution_count": 38,
      "metadata": {},
      "outputs": [],
      "source": [
        "model = StocPrediction(1,10,1)"
      ]
    },
    {
      "cell_type": "code",
      "execution_count": 39,
      "metadata": {
        "colab": {
          "base_uri": "https://localhost:8080/"
        },
        "id": "r_ZfIIPt-kfo",
        "outputId": "910fc258-b8a8-409e-9fb9-d869e5174822"
      },
      "outputs": [
        {
          "data": {
            "text/plain": [
              "torch.Size([32, 1])"
            ]
          },
          "execution_count": 39,
          "metadata": {},
          "output_type": "execute_result"
        }
      ],
      "source": [
        "data = torch.rand(32, 30, 1)\n",
        "model(data).shape"
      ]
    },
    {
      "cell_type": "markdown",
      "metadata": {
        "id": "w-84SIT0-02o"
      },
      "source": [
        "# 12. yfinance 라이브러리를 이용하여 스타벅스(ticker=SUBX) 주가를 다운로드 합니다. 다음으로 Close 데이터만 data 변수에 저장한 후, type 과 shape 을 확인해 봅니다.\n",
        "\n",
        "* yfinance 데이터는 column 인덱스가 MultiIndex 입니다.\n",
        "\n",
        "```\n",
        "pip install yfinance\n",
        "```\n",
        "\n"
      ]
    },
    {
      "cell_type": "code",
      "execution_count": 52,
      "metadata": {},
      "outputs": [
        {
          "name": "stdout",
          "output_type": "stream",
          "text": [
            "Collecting yfinance\n",
            "  Downloading yfinance-0.2.51-py2.py3-none-any.whl.metadata (5.5 kB)\n",
            "Requirement already satisfied: pandas>=1.3.0 in c:\\users\\user\\anaconda3\\envs\\py3_11\\lib\\site-packages (from yfinance) (2.2.3)\n",
            "Requirement already satisfied: numpy>=1.16.5 in c:\\users\\user\\anaconda3\\envs\\py3_11\\lib\\site-packages (from yfinance) (2.0.1)\n",
            "Requirement already satisfied: requests>=2.31 in c:\\users\\user\\anaconda3\\envs\\py3_11\\lib\\site-packages (from yfinance) (2.32.3)\n",
            "Collecting multitasking>=0.0.7 (from yfinance)\n",
            "  Using cached multitasking-0.0.11-py3-none-any.whl.metadata (5.5 kB)\n",
            "Collecting lxml>=4.9.1 (from yfinance)\n",
            "  Downloading lxml-5.3.0-cp311-cp311-win_amd64.whl.metadata (3.9 kB)\n",
            "Requirement already satisfied: platformdirs>=2.0.0 in c:\\users\\user\\anaconda3\\envs\\py3_11\\lib\\site-packages (from yfinance) (4.3.6)\n",
            "Requirement already satisfied: pytz>=2022.5 in c:\\users\\user\\anaconda3\\envs\\py3_11\\lib\\site-packages (from yfinance) (2024.2)\n",
            "Collecting frozendict>=2.3.4 (from yfinance)\n",
            "  Downloading frozendict-2.4.6-py311-none-any.whl.metadata (23 kB)\n",
            "Collecting peewee>=3.16.2 (from yfinance)\n",
            "  Using cached peewee-3.17.8.tar.gz (948 kB)\n",
            "  Installing build dependencies: started\n",
            "  Installing build dependencies: finished with status 'done'\n",
            "  Getting requirements to build wheel: started\n",
            "  Getting requirements to build wheel: finished with status 'done'\n",
            "  Preparing metadata (pyproject.toml): started\n",
            "  Preparing metadata (pyproject.toml): finished with status 'done'\n",
            "Collecting beautifulsoup4>=4.11.1 (from yfinance)\n",
            "  Using cached beautifulsoup4-4.12.3-py3-none-any.whl.metadata (3.8 kB)\n",
            "Collecting html5lib>=1.1 (from yfinance)\n",
            "  Using cached html5lib-1.1-py2.py3-none-any.whl.metadata (16 kB)\n",
            "Collecting soupsieve>1.2 (from beautifulsoup4>=4.11.1->yfinance)\n",
            "  Using cached soupsieve-2.6-py3-none-any.whl.metadata (4.6 kB)\n",
            "Requirement already satisfied: six>=1.9 in c:\\users\\user\\anaconda3\\envs\\py3_11\\lib\\site-packages (from html5lib>=1.1->yfinance) (1.17.0)\n",
            "Collecting webencodings (from html5lib>=1.1->yfinance)\n",
            "  Using cached webencodings-0.5.1-py2.py3-none-any.whl.metadata (2.1 kB)\n",
            "Requirement already satisfied: python-dateutil>=2.8.2 in c:\\users\\user\\anaconda3\\envs\\py3_11\\lib\\site-packages (from pandas>=1.3.0->yfinance) (2.9.0.post0)\n",
            "Requirement already satisfied: tzdata>=2022.7 in c:\\users\\user\\anaconda3\\envs\\py3_11\\lib\\site-packages (from pandas>=1.3.0->yfinance) (2024.2)\n",
            "Requirement already satisfied: charset-normalizer<4,>=2 in c:\\users\\user\\anaconda3\\envs\\py3_11\\lib\\site-packages (from requests>=2.31->yfinance) (3.3.2)\n",
            "Requirement already satisfied: idna<4,>=2.5 in c:\\users\\user\\anaconda3\\envs\\py3_11\\lib\\site-packages (from requests>=2.31->yfinance) (3.7)\n",
            "Requirement already satisfied: urllib3<3,>=1.21.1 in c:\\users\\user\\anaconda3\\envs\\py3_11\\lib\\site-packages (from requests>=2.31->yfinance) (2.2.3)\n",
            "Requirement already satisfied: certifi>=2017.4.17 in c:\\users\\user\\anaconda3\\envs\\py3_11\\lib\\site-packages (from requests>=2.31->yfinance) (2024.8.30)\n",
            "Downloading yfinance-0.2.51-py2.py3-none-any.whl (104 kB)\n",
            "Using cached beautifulsoup4-4.12.3-py3-none-any.whl (147 kB)\n",
            "Downloading frozendict-2.4.6-py311-none-any.whl (16 kB)\n",
            "Using cached html5lib-1.1-py2.py3-none-any.whl (112 kB)\n",
            "Downloading lxml-5.3.0-cp311-cp311-win_amd64.whl (3.8 MB)\n",
            "   ---------------------------------------- 0.0/3.8 MB ? eta -:--:--\n",
            "   ---------------------------------------- 3.8/3.8 MB 57.3 MB/s eta 0:00:00\n",
            "Using cached multitasking-0.0.11-py3-none-any.whl (8.5 kB)\n",
            "Using cached soupsieve-2.6-py3-none-any.whl (36 kB)\n",
            "Using cached webencodings-0.5.1-py2.py3-none-any.whl (11 kB)\n",
            "Building wheels for collected packages: peewee\n",
            "  Building wheel for peewee (pyproject.toml): started\n",
            "  Building wheel for peewee (pyproject.toml): finished with status 'done'\n",
            "  Created wheel for peewee: filename=peewee-3.17.8-py3-none-any.whl size=139012 sha256=65dfcebb1126966dd379ebf25697889400cb3247a977c908abb0f58cba38c47e\n",
            "  Stored in directory: c:\\users\\user\\appdata\\local\\pip\\cache\\wheels\\ff\\6c\\15\\506e25bc390de450a7fa53c155cd9b0fbd13ad3e84a9abc183\n",
            "Successfully built peewee\n",
            "Installing collected packages: webencodings, peewee, multitasking, soupsieve, lxml, html5lib, frozendict, beautifulsoup4, yfinance\n",
            "Successfully installed beautifulsoup4-4.12.3 frozendict-2.4.6 html5lib-1.1 lxml-5.3.0 multitasking-0.0.11 peewee-3.17.8 soupsieve-2.6 webencodings-0.5.1 yfinance-0.2.51\n",
            "Note: you may need to restart the kernel to use updated packages.\n"
          ]
        }
      ],
      "source": [
        "pip install yfinance"
      ]
    },
    {
      "cell_type": "code",
      "execution_count": 16,
      "metadata": {
        "colab": {
          "base_uri": "https://localhost:8080/"
        },
        "id": "-gO1qQfo-rX0",
        "outputId": "b61aa8ff-ed4d-4648-fad0-bda370ae41ff"
      },
      "outputs": [
        {
          "name": "stderr",
          "output_type": "stream",
          "text": [
            "[*********************100%***********************]  1 of 1 completed\n"
          ]
        }
      ],
      "source": [
        "import yfinance as yf\n",
        "\n",
        "ticker_symbol = \"SBUX\"\n",
        "df = yf.download(ticker_symbol, start=\"2010-01-01\", end=\"2023-12-31\")"
      ]
    },
    {
      "cell_type": "code",
      "execution_count": 17,
      "metadata": {},
      "outputs": [
        {
          "data": {
            "text/html": [
              "<div>\n",
              "<style scoped>\n",
              "    .dataframe tbody tr th:only-of-type {\n",
              "        vertical-align: middle;\n",
              "    }\n",
              "\n",
              "    .dataframe tbody tr th {\n",
              "        vertical-align: top;\n",
              "    }\n",
              "\n",
              "    .dataframe thead tr th {\n",
              "        text-align: left;\n",
              "    }\n",
              "\n",
              "    .dataframe thead tr:last-of-type th {\n",
              "        text-align: right;\n",
              "    }\n",
              "</style>\n",
              "<table border=\"1\" class=\"dataframe\">\n",
              "  <thead>\n",
              "    <tr>\n",
              "      <th>Price</th>\n",
              "      <th>Close</th>\n",
              "      <th>High</th>\n",
              "      <th>Low</th>\n",
              "      <th>Open</th>\n",
              "      <th>Volume</th>\n",
              "    </tr>\n",
              "    <tr>\n",
              "      <th>Ticker</th>\n",
              "      <th>SBUX</th>\n",
              "      <th>SBUX</th>\n",
              "      <th>SBUX</th>\n",
              "      <th>SBUX</th>\n",
              "      <th>SBUX</th>\n",
              "    </tr>\n",
              "    <tr>\n",
              "      <th>Date</th>\n",
              "      <th></th>\n",
              "      <th></th>\n",
              "      <th></th>\n",
              "      <th></th>\n",
              "      <th></th>\n",
              "    </tr>\n",
              "  </thead>\n",
              "  <tbody>\n",
              "    <tr>\n",
              "      <th>2010-01-04</th>\n",
              "      <td>8.890195</td>\n",
              "      <td>8.998189</td>\n",
              "      <td>8.836198</td>\n",
              "      <td>8.994332</td>\n",
              "      <td>16370000</td>\n",
              "    </tr>\n",
              "    <tr>\n",
              "      <th>2010-01-05</th>\n",
              "      <td>9.098469</td>\n",
              "      <td>9.256602</td>\n",
              "      <td>8.828484</td>\n",
              "      <td>8.855483</td>\n",
              "      <td>30058800</td>\n",
              "    </tr>\n",
              "    <tr>\n",
              "      <th>2010-01-06</th>\n",
              "      <td>9.032900</td>\n",
              "      <td>9.110038</td>\n",
              "      <td>8.971189</td>\n",
              "      <td>9.056041</td>\n",
              "      <td>14209600</td>\n",
              "    </tr>\n",
              "    <tr>\n",
              "      <th>2010-01-07</th>\n",
              "      <td>9.009761</td>\n",
              "      <td>9.075328</td>\n",
              "      <td>8.944193</td>\n",
              "      <td>8.978906</td>\n",
              "      <td>10256000</td>\n",
              "    </tr>\n",
              "    <tr>\n",
              "      <th>2010-01-08</th>\n",
              "      <td>8.978903</td>\n",
              "      <td>9.102324</td>\n",
              "      <td>8.944191</td>\n",
              "      <td>8.948048</td>\n",
              "      <td>10274800</td>\n",
              "    </tr>\n",
              "  </tbody>\n",
              "</table>\n",
              "</div>"
            ],
            "text/plain": [
              "Price          Close      High       Low      Open    Volume\n",
              "Ticker          SBUX      SBUX      SBUX      SBUX      SBUX\n",
              "Date                                                        \n",
              "2010-01-04  8.890195  8.998189  8.836198  8.994332  16370000\n",
              "2010-01-05  9.098469  9.256602  8.828484  8.855483  30058800\n",
              "2010-01-06  9.032900  9.110038  8.971189  9.056041  14209600\n",
              "2010-01-07  9.009761  9.075328  8.944193  8.978906  10256000\n",
              "2010-01-08  8.978903  9.102324  8.944191  8.948048  10274800"
            ]
          },
          "execution_count": 17,
          "metadata": {},
          "output_type": "execute_result"
        }
      ],
      "source": [
        "df.head()"
      ]
    },
    {
      "cell_type": "code",
      "execution_count": 54,
      "metadata": {
        "colab": {
          "base_uri": "https://localhost:8080/"
        },
        "id": "BmcPg-gCAdkF",
        "outputId": "be959923-bd7b-4434-c9e3-ea271ffd465f"
      },
      "outputs": [
        {
          "data": {
            "text/plain": [
              "MultiIndex([( 'Close', 'SBUX'),\n",
              "            (  'High', 'SBUX'),\n",
              "            (   'Low', 'SBUX'),\n",
              "            (  'Open', 'SBUX'),\n",
              "            ('Volume', 'SBUX')],\n",
              "           names=['Price', 'Ticker'])"
            ]
          },
          "execution_count": 54,
          "metadata": {},
          "output_type": "execute_result"
        }
      ],
      "source": [
        "df.columns"
      ]
    },
    {
      "cell_type": "code",
      "execution_count": 57,
      "metadata": {
        "id": "_t3h8ydjTMJm"
      },
      "outputs": [
        {
          "data": {
            "text/plain": [
              "Date\n",
              "2010-01-04     8.890197\n",
              "2010-01-05     9.098472\n",
              "2010-01-06     9.032900\n",
              "2010-01-07     9.009759\n",
              "2010-01-08     8.978907\n",
              "                ...    \n",
              "2023-12-22    93.432343\n",
              "2023-12-26    93.814774\n",
              "2023-12-27    93.442146\n",
              "2023-12-28    94.069733\n",
              "2023-12-29    94.148186\n",
              "Name: (Close, SBUX), Length: 3522, dtype: float64"
            ]
          },
          "execution_count": 57,
          "metadata": {},
          "output_type": "execute_result"
        }
      ],
      "source": [
        "df[( 'Close', 'SBUX')]"
      ]
    },
    {
      "cell_type": "code",
      "execution_count": 18,
      "metadata": {},
      "outputs": [],
      "source": [
        "df.columns = ['Close'\t,'High',\t'Low',\t'Open',\t'Volume']"
      ]
    },
    {
      "cell_type": "code",
      "execution_count": 61,
      "metadata": {},
      "outputs": [
        {
          "data": {
            "text/html": [
              "<div>\n",
              "<style scoped>\n",
              "    .dataframe tbody tr th:only-of-type {\n",
              "        vertical-align: middle;\n",
              "    }\n",
              "\n",
              "    .dataframe tbody tr th {\n",
              "        vertical-align: top;\n",
              "    }\n",
              "\n",
              "    .dataframe thead th {\n",
              "        text-align: right;\n",
              "    }\n",
              "</style>\n",
              "<table border=\"1\" class=\"dataframe\">\n",
              "  <thead>\n",
              "    <tr style=\"text-align: right;\">\n",
              "      <th></th>\n",
              "      <th>Close</th>\n",
              "      <th>High</th>\n",
              "      <th>Low</th>\n",
              "      <th>Open</th>\n",
              "      <th>Volume</th>\n",
              "    </tr>\n",
              "    <tr>\n",
              "      <th>Date</th>\n",
              "      <th></th>\n",
              "      <th></th>\n",
              "      <th></th>\n",
              "      <th></th>\n",
              "      <th></th>\n",
              "    </tr>\n",
              "  </thead>\n",
              "  <tbody>\n",
              "    <tr>\n",
              "      <th>2010-01-04</th>\n",
              "      <td>8.890197</td>\n",
              "      <td>8.998191</td>\n",
              "      <td>8.836200</td>\n",
              "      <td>8.994334</td>\n",
              "      <td>16370000</td>\n",
              "    </tr>\n",
              "    <tr>\n",
              "      <th>2010-01-05</th>\n",
              "      <td>9.098472</td>\n",
              "      <td>9.256605</td>\n",
              "      <td>8.828487</td>\n",
              "      <td>8.855485</td>\n",
              "      <td>30058800</td>\n",
              "    </tr>\n",
              "    <tr>\n",
              "      <th>2010-01-06</th>\n",
              "      <td>9.032900</td>\n",
              "      <td>9.110038</td>\n",
              "      <td>8.971189</td>\n",
              "      <td>9.056041</td>\n",
              "      <td>14209600</td>\n",
              "    </tr>\n",
              "    <tr>\n",
              "      <th>2010-01-07</th>\n",
              "      <td>9.009759</td>\n",
              "      <td>9.075327</td>\n",
              "      <td>8.944191</td>\n",
              "      <td>8.978904</td>\n",
              "      <td>10256000</td>\n",
              "    </tr>\n",
              "    <tr>\n",
              "      <th>2010-01-08</th>\n",
              "      <td>8.978907</td>\n",
              "      <td>9.102328</td>\n",
              "      <td>8.944194</td>\n",
              "      <td>8.948051</td>\n",
              "      <td>10274800</td>\n",
              "    </tr>\n",
              "  </tbody>\n",
              "</table>\n",
              "</div>"
            ],
            "text/plain": [
              "               Close      High       Low      Open    Volume\n",
              "Date                                                        \n",
              "2010-01-04  8.890197  8.998191  8.836200  8.994334  16370000\n",
              "2010-01-05  9.098472  9.256605  8.828487  8.855485  30058800\n",
              "2010-01-06  9.032900  9.110038  8.971189  9.056041  14209600\n",
              "2010-01-07  9.009759  9.075327  8.944191  8.978904  10256000\n",
              "2010-01-08  8.978907  9.102328  8.944194  8.948051  10274800"
            ]
          },
          "execution_count": 61,
          "metadata": {},
          "output_type": "execute_result"
        }
      ],
      "source": [
        "df.head()"
      ]
    },
    {
      "cell_type": "code",
      "execution_count": 19,
      "metadata": {},
      "outputs": [
        {
          "data": {
            "text/plain": [
              "Date\n",
              "2010-01-04    8.890195\n",
              "2010-01-05    9.098469\n",
              "2010-01-06    9.032900\n",
              "2010-01-07    9.009761\n",
              "2010-01-08    8.978903\n",
              "2010-01-11    8.951908\n",
              "2010-01-12    8.801484\n",
              "2010-01-13    9.017475\n",
              "2010-01-14    9.083042\n",
              "2010-01-15    8.975048\n",
              "2010-01-19    9.094615\n",
              "2010-01-20    8.982762\n",
              "2010-01-21    9.133183\n",
              "2010-01-22    8.836198\n",
              "2010-01-25    8.639497\n",
              "2010-01-26    8.693494\n",
              "2010-01-27    8.643354\n",
              "2010-01-28    8.516075\n",
              "2010-01-29    8.404229\n",
              "2010-02-01    8.573930\n",
              "2010-02-02    8.658781\n",
              "2010-02-03    8.651070\n",
              "2010-02-04    8.411938\n",
              "2010-02-05    8.369514\n",
              "2010-02-08    8.450509\n",
              "2010-02-09    8.558504\n",
              "2010-02-10    8.627929\n",
              "2010-02-11    8.701206\n",
              "2010-02-12    8.716637\n",
              "2010-02-16    8.824630\n",
              "Name: Close, dtype: float64"
            ]
          },
          "execution_count": 19,
          "metadata": {},
          "output_type": "execute_result"
        }
      ],
      "source": [
        "df[\"Close\"].iloc[:30]"
      ]
    },
    {
      "cell_type": "code",
      "execution_count": 20,
      "metadata": {},
      "outputs": [],
      "source": [
        "data = df['Close']"
      ]
    },
    {
      "cell_type": "code",
      "execution_count": 21,
      "metadata": {
        "colab": {
          "base_uri": "https://localhost:8080/"
        },
        "id": "MVMR4xgk_R66",
        "outputId": "68b154d8-33e4-4e5d-a299-c2cd378a0b2a"
      },
      "outputs": [
        {
          "data": {
            "text/plain": [
              "(pandas.core.series.Series, (3522,))"
            ]
          },
          "execution_count": 21,
          "metadata": {},
          "output_type": "execute_result"
        }
      ],
      "source": [
        "type(data), data.shape"
      ]
    },
    {
      "cell_type": "markdown",
      "metadata": {
        "id": "G5Lo-DFL_xEe"
      },
      "source": [
        "# 13. seq_len=30 을 고려하여 X, y dataset 을 생성하는 코드를 작성하세요. 이때, X 는 3d, y 는 2d 로 shape 을 조정해 주세요 (hint: reshape)"
      ]
    },
    {
      "cell_type": "code",
      "execution_count": 22,
      "metadata": {
        "id": "l8wWed18_lxe"
      },
      "outputs": [],
      "source": [
        "import numpy as np\n",
        "#넘파이로 변환\n",
        "data_np = data.values\n",
        "\n",
        "seq_len = 30\n",
        "X, y = [], []\n"
      ]
    },
    {
      "cell_type": "code",
      "execution_count": 70,
      "metadata": {},
      "outputs": [
        {
          "data": {
            "text/plain": [
              "(array([8.8901968 , 9.09847164, 9.03289986, 9.00975895, 8.97890663,\n",
              "        8.9519062 , 8.80148983, 9.01747608, 9.08304119, 8.97504997,\n",
              "        9.09461784, 8.98275852, 9.13318443, 8.83620262, 8.63949966,\n",
              "        8.69349766, 8.64335442, 8.51607609, 8.4042244 , 8.5739336 ,\n",
              "        8.65878296, 8.65106487, 8.41194057, 8.36951447, 8.45050716,\n",
              "        8.5585022 , 8.62792873, 8.70121098, 8.7166357 , 8.82463074,\n",
              "        8.92876625, 8.97119236, 9.00975895, 8.83234692, 8.74749184,\n",
              "        8.90176678, 8.83234692, 8.83620262, 8.98275852, 8.99818707,\n",
              "        8.89405441, 8.8400526 , 9.01361752, 8.99433136, 9.11004066,\n",
              "        9.34531403, 9.36073971, 9.36459827, 9.41859341, 9.75414848,\n",
              "        9.85828209, 9.65000916, 9.63072681, 9.73485851, 9.80043221,\n",
              "        9.75414848, 9.33759785, 9.48416328, 9.4918766 , 9.47258949]),\n",
              " np.float64(9.360739707946777))"
            ]
          },
          "execution_count": 70,
          "metadata": {},
          "output_type": "execute_result"
        }
      ],
      "source": [
        "seq_len = 60\n",
        "data_np[:seq_len], data_np[seq_len]\n",
        "#data_np[0:0+seq_len], data_np[0+seq_len]"
      ]
    },
    {
      "cell_type": "code",
      "execution_count": 68,
      "metadata": {},
      "outputs": [
        {
          "data": {
            "text/plain": [
              "(array([9.09847164, 9.03289986, 9.00975895, 8.97890663, 8.9519062 ,\n",
              "        8.80148983, 9.01747608, 9.08304119, 8.97504997, 9.09461784,\n",
              "        8.98275852, 9.13318443, 8.83620262, 8.63949966, 8.69349766,\n",
              "        8.64335442, 8.51607609, 8.4042244 , 8.5739336 , 8.65878296,\n",
              "        8.65106487, 8.41194057, 8.36951447, 8.45050716, 8.5585022 ,\n",
              "        8.62792873, 8.70121098, 8.7166357 , 8.82463074, 8.92876625]),\n",
              " np.float64(8.971192359924316))"
            ]
          },
          "execution_count": 68,
          "metadata": {},
          "output_type": "execute_result"
        }
      ],
      "source": [
        "data_np[1:1+seq_len], data_np[1+seq_len]"
      ]
    },
    {
      "cell_type": "code",
      "execution_count": 69,
      "metadata": {},
      "outputs": [
        {
          "data": {
            "text/plain": [
              "(array([9.03289986, 9.00975895, 8.97890663, 8.9519062 , 8.80148983,\n",
              "        9.01747608, 9.08304119, 8.97504997, 9.09461784, 8.98275852,\n",
              "        9.13318443, 8.83620262, 8.63949966, 8.69349766, 8.64335442,\n",
              "        8.51607609, 8.4042244 , 8.5739336 , 8.65878296, 8.65106487,\n",
              "        8.41194057, 8.36951447, 8.45050716, 8.5585022 , 8.62792873,\n",
              "        8.70121098, 8.7166357 , 8.82463074, 8.92876625, 8.97119236]),\n",
              " np.float64(9.009758949279785))"
            ]
          },
          "execution_count": 69,
          "metadata": {},
          "output_type": "execute_result"
        }
      ],
      "source": [
        "data_np[2:2+seq_len], data_np[2+seq_len]"
      ]
    },
    {
      "cell_type": "code",
      "execution_count": 78,
      "metadata": {},
      "outputs": [],
      "source": [
        "import numpy as np\n",
        "#넘파이로 변환\n",
        "data_np = data.values\n",
        "\n",
        "seq_len = 30\n",
        "X, y = [], []\n"
      ]
    },
    {
      "cell_type": "code",
      "execution_count": 23,
      "metadata": {},
      "outputs": [
        {
          "data": {
            "text/plain": [
              "(3492, 30)"
            ]
          },
          "execution_count": 23,
          "metadata": {},
          "output_type": "execute_result"
        }
      ],
      "source": [
        "for i in range(len(data_np)-seq_len):\n",
        "  X.append( data_np[i:i+seq_len]) , y.append(data_np[i+seq_len]) \n",
        "  \n",
        "X = np.array(X)\n",
        "y= np.array(y)\n",
        "X.shape\n"
      ]
    },
    {
      "cell_type": "code",
      "execution_count": 24,
      "metadata": {},
      "outputs": [],
      "source": [
        "X = X.reshape(-1,seq_len,1)"
      ]
    },
    {
      "cell_type": "code",
      "execution_count": 25,
      "metadata": {},
      "outputs": [],
      "source": [
        "y= y.reshape(-1,1)"
      ]
    },
    {
      "cell_type": "code",
      "execution_count": 26,
      "metadata": {
        "colab": {
          "base_uri": "https://localhost:8080/"
        },
        "id": "hDPEyBtsBCkp",
        "outputId": "148ac337-7b68-493a-c56c-0c39e90624d6"
      },
      "outputs": [
        {
          "data": {
            "text/plain": [
              "(numpy.ndarray, numpy.ndarray, (3492, 30, 1), (3492, 1))"
            ]
          },
          "execution_count": 26,
          "metadata": {},
          "output_type": "execute_result"
        }
      ],
      "source": [
        "type(X), type(y), X.shape, y.shape"
      ]
    },
    {
      "cell_type": "markdown",
      "metadata": {
        "id": "x3klCQcKB8XM"
      },
      "source": [
        "# 14. 13번에서 생성한 데이터셋을 이용하여 DataLoder 객체를 생성하고, 11번을 참고하여 데이터에 알맞은 모델을 생성합니다 (hidden_size=10)."
      ]
    },
    {
      "cell_type": "code",
      "execution_count": 57,
      "metadata": {},
      "outputs": [],
      "source": [
        "import torch"
      ]
    },
    {
      "cell_type": "code",
      "execution_count": 31,
      "metadata": {
        "id": "P9-OG9IBC8Bi"
      },
      "outputs": [
        {
          "name": "stderr",
          "output_type": "stream",
          "text": [
            "C:\\Users\\user\\AppData\\Local\\Temp\\ipykernel_2704\\2055699537.py:3: UserWarning: To copy construct from a tensor, it is recommended to use sourceTensor.clone().detach() or sourceTensor.clone().detach().requires_grad_(True), rather than torch.tensor(sourceTensor).\n",
            "  X_data, y_data = torch.tensor(X).float(), torch.tensor(y).float()\n"
          ]
        }
      ],
      "source": [
        "from torch.utils.data import DataLoader, TensorDataset\n",
        "\n",
        "X_data, y_data = torch.tensor(X).float(), torch.tensor(y).float()\n",
        "loader_train = DataLoader(TensorDataset(X_data, y_data), batch_size=32, shuffle=True)"
      ]
    },
    {
      "cell_type": "code",
      "execution_count": 36,
      "metadata": {},
      "outputs": [
        {
          "name": "stdout",
          "output_type": "stream",
          "text": [
            "torch.Size([32, 30, 1])\n"
          ]
        }
      ],
      "source": [
        "for I, label in loader_train:\n",
        "  print (I.shape)\n",
        "  break"
      ]
    },
    {
      "cell_type": "code",
      "execution_count": 40,
      "metadata": {
        "colab": {
          "base_uri": "https://localhost:8080/"
        },
        "id": "wsl9DgoAC6mY",
        "outputId": "9e19354d-ca3c-46b4-d2fb-6ac21b91363b"
      },
      "outputs": [
        {
          "name": "stdout",
          "output_type": "stream",
          "text": [
            "torch.Size([32, 1])\n"
          ]
        }
      ],
      "source": [
        "for I, label in loader_train:\n",
        "  print(model(I).shape)\n",
        "  break"
      ]
    },
    {
      "cell_type": "markdown",
      "metadata": {
        "id": "ScfzF-AyFFqN"
      },
      "source": [
        "# 15. 모델을 훈련하기 위한 train loop 를 작성하여 모델을 훈련시킵니다. loop 가 한 번만 성공적으로 동작하도록 해 보세요.\n",
        "\n",
        "* Loss: nn.MSELoss\n",
        "* Optimizer: optim.Adam"
      ]
    },
    {
      "cell_type": "code",
      "execution_count": 47,
      "metadata": {
        "id": "tWna3nxoExjq"
      },
      "outputs": [],
      "source": [
        "loss_fn = torch.nn.MSELoss()\n",
        "optimizer = torch.optim.Adam(model.parameters())"
      ]
    },
    {
      "cell_type": "code",
      "execution_count": 49,
      "metadata": {},
      "outputs": [
        {
          "data": {
            "text/plain": [
              "3449.329833984375"
            ]
          },
          "execution_count": 49,
          "metadata": {},
          "output_type": "execute_result"
        }
      ],
      "source": [
        "total_loss = 0\n",
        "for X_batch,y_batch in loader_train:\n",
        "  y_pred = model(X_batch)\n",
        "  optimizer.zero_grad()\n",
        "  loss = loss_fn(y_pred, y_batch)\n",
        "  loss.backward()\n",
        "  optimizer.step()\n",
        "  #print(loss.item())\n",
        "  total_loss += loss.item()\n",
        "  break\n",
        "total_loss/len(loader_train)"
      ]
    },
    {
      "cell_type": "markdown",
      "metadata": {
        "id": "AUJmZw0MHD6V"
      },
      "source": [
        "# 16. epochs=200 으로 모델을 훈련시킵니다. 한 번의 epoch 마다 loss 값을 출력합니다.\n",
        "\n",
        "* GPU 를 사용할 수 있으면 적극 활용하세요."
      ]
    },
    {
      "cell_type": "code",
      "execution_count": 61,
      "metadata": {
        "colab": {
          "base_uri": "https://localhost:8080/"
        },
        "id": "911aXU5AGw8h",
        "outputId": "28ac2899-7964-4471-95de-63a3d65480f8"
      },
      "outputs": [
        {
          "name": "stdout",
          "output_type": "stream",
          "text": [
            "epoch: 0, loss: 2461.873291015625\n",
            "epoch: 1, loss: 2460.9736328125\n",
            "epoch: 2, loss: 2460.07421875\n",
            "epoch: 3, loss: 2459.17529296875\n",
            "epoch: 4, loss: 2458.276123046875\n",
            "epoch: 5, loss: 2457.377197265625\n",
            "epoch: 6, loss: 2456.478515625\n",
            "epoch: 7, loss: 2455.580078125\n",
            "epoch: 8, loss: 2454.68212890625\n",
            "epoch: 9, loss: 2453.78466796875\n",
            "epoch: 10, loss: 2452.886962890625\n",
            "epoch: 11, loss: 2451.989501953125\n",
            "epoch: 12, loss: 2451.092529296875\n",
            "epoch: 13, loss: 2450.19580078125\n",
            "epoch: 14, loss: 2449.29931640625\n",
            "epoch: 15, loss: 2448.40283203125\n",
            "epoch: 16, loss: 2447.506591796875\n",
            "epoch: 17, loss: 2446.61083984375\n",
            "epoch: 18, loss: 2445.715087890625\n",
            "epoch: 19, loss: 2444.81982421875\n",
            "epoch: 20, loss: 2443.924560546875\n",
            "epoch: 21, loss: 2443.02978515625\n",
            "epoch: 22, loss: 2442.13525390625\n",
            "epoch: 23, loss: 2441.24072265625\n",
            "epoch: 24, loss: 2440.3466796875\n",
            "epoch: 25, loss: 2439.45263671875\n",
            "epoch: 26, loss: 2438.55908203125\n",
            "epoch: 27, loss: 2437.66552734375\n",
            "epoch: 28, loss: 2436.772216796875\n",
            "epoch: 29, loss: 2435.87939453125\n",
            "epoch: 30, loss: 2434.986328125\n",
            "epoch: 31, loss: 2434.09423828125\n",
            "epoch: 32, loss: 2433.201904296875\n",
            "epoch: 33, loss: 2432.309814453125\n",
            "epoch: 34, loss: 2431.41796875\n",
            "epoch: 35, loss: 2430.526611328125\n",
            "epoch: 36, loss: 2429.63525390625\n",
            "epoch: 37, loss: 2428.744384765625\n",
            "epoch: 38, loss: 2427.853515625\n",
            "epoch: 39, loss: 2426.962890625\n",
            "epoch: 40, loss: 2426.072509765625\n",
            "epoch: 41, loss: 2425.1826171875\n",
            "epoch: 42, loss: 2424.292724609375\n",
            "epoch: 43, loss: 2423.4033203125\n",
            "epoch: 44, loss: 2422.513916015625\n",
            "epoch: 45, loss: 2421.624755859375\n",
            "epoch: 46, loss: 2420.73583984375\n",
            "epoch: 47, loss: 2419.847412109375\n",
            "epoch: 48, loss: 2418.958984375\n",
            "epoch: 49, loss: 2418.07080078125\n",
            "epoch: 50, loss: 2417.182861328125\n",
            "epoch: 51, loss: 2416.29541015625\n",
            "epoch: 52, loss: 2415.40771484375\n",
            "epoch: 53, loss: 2414.52099609375\n",
            "epoch: 54, loss: 2413.6337890625\n",
            "epoch: 55, loss: 2412.747314453125\n",
            "epoch: 56, loss: 2411.860595703125\n",
            "epoch: 57, loss: 2410.974365234375\n",
            "epoch: 58, loss: 2410.088623046875\n",
            "epoch: 59, loss: 2409.202880859375\n",
            "epoch: 60, loss: 2408.3173828125\n",
            "epoch: 61, loss: 2407.43212890625\n",
            "epoch: 62, loss: 2406.546875\n",
            "epoch: 63, loss: 2405.662353515625\n",
            "epoch: 64, loss: 2404.77783203125\n",
            "epoch: 65, loss: 2403.8935546875\n",
            "epoch: 66, loss: 2403.009765625\n",
            "epoch: 67, loss: 2402.1259765625\n",
            "epoch: 68, loss: 2401.242431640625\n",
            "epoch: 69, loss: 2400.35888671875\n",
            "epoch: 70, loss: 2399.47607421875\n",
            "epoch: 71, loss: 2398.59326171875\n",
            "epoch: 72, loss: 2397.7109375\n",
            "epoch: 73, loss: 2396.828369140625\n",
            "epoch: 74, loss: 2395.946044921875\n",
            "epoch: 75, loss: 2395.064208984375\n",
            "epoch: 76, loss: 2394.182861328125\n",
            "epoch: 77, loss: 2393.301513671875\n",
            "epoch: 78, loss: 2392.42041015625\n",
            "epoch: 79, loss: 2391.53955078125\n",
            "epoch: 80, loss: 2390.65869140625\n",
            "epoch: 81, loss: 2389.7783203125\n",
            "epoch: 82, loss: 2388.8984375\n",
            "epoch: 83, loss: 2388.018310546875\n",
            "epoch: 84, loss: 2387.138671875\n",
            "epoch: 85, loss: 2386.25927734375\n",
            "epoch: 86, loss: 2385.380126953125\n",
            "epoch: 87, loss: 2384.5009765625\n",
            "epoch: 88, loss: 2383.622314453125\n",
            "epoch: 89, loss: 2382.743896484375\n",
            "epoch: 90, loss: 2381.86572265625\n",
            "epoch: 91, loss: 2380.98779296875\n",
            "epoch: 92, loss: 2380.110107421875\n",
            "epoch: 93, loss: 2379.232666015625\n",
            "epoch: 94, loss: 2378.355224609375\n",
            "epoch: 95, loss: 2377.478515625\n",
            "epoch: 96, loss: 2376.6015625\n",
            "epoch: 97, loss: 2375.72509765625\n",
            "epoch: 98, loss: 2374.848876953125\n",
            "epoch: 99, loss: 2373.97265625\n",
            "epoch: 100, loss: 2373.096923828125\n",
            "epoch: 101, loss: 2372.22119140625\n",
            "epoch: 102, loss: 2371.34619140625\n",
            "epoch: 103, loss: 2370.470947265625\n",
            "epoch: 104, loss: 2369.59619140625\n",
            "epoch: 105, loss: 2368.7216796875\n",
            "epoch: 106, loss: 2367.84716796875\n",
            "epoch: 107, loss: 2366.972900390625\n",
            "epoch: 108, loss: 2366.099365234375\n",
            "epoch: 109, loss: 2365.2255859375\n",
            "epoch: 110, loss: 2364.352294921875\n",
            "epoch: 111, loss: 2363.479248046875\n",
            "epoch: 112, loss: 2362.6064453125\n",
            "epoch: 113, loss: 2361.7333984375\n",
            "epoch: 114, loss: 2360.861083984375\n",
            "epoch: 115, loss: 2359.989013671875\n",
            "epoch: 116, loss: 2359.1171875\n",
            "epoch: 117, loss: 2358.245361328125\n",
            "epoch: 118, loss: 2357.3740234375\n",
            "epoch: 119, loss: 2356.502685546875\n",
            "epoch: 120, loss: 2355.6318359375\n",
            "epoch: 121, loss: 2354.760986328125\n",
            "epoch: 122, loss: 2353.890625\n",
            "epoch: 123, loss: 2353.0205078125\n",
            "epoch: 124, loss: 2352.150390625\n",
            "epoch: 125, loss: 2351.280517578125\n",
            "epoch: 126, loss: 2350.4111328125\n",
            "epoch: 127, loss: 2349.5419921875\n",
            "epoch: 128, loss: 2348.6728515625\n",
            "epoch: 129, loss: 2347.803955078125\n",
            "epoch: 130, loss: 2346.935546875\n",
            "epoch: 131, loss: 2346.0673828125\n",
            "epoch: 132, loss: 2345.19921875\n",
            "epoch: 133, loss: 2344.331298828125\n",
            "epoch: 134, loss: 2343.463623046875\n",
            "epoch: 135, loss: 2342.596435546875\n",
            "epoch: 136, loss: 2341.7294921875\n",
            "epoch: 137, loss: 2340.862548828125\n",
            "epoch: 138, loss: 2339.99609375\n",
            "epoch: 139, loss: 2339.129638671875\n",
            "epoch: 140, loss: 2338.263427734375\n",
            "epoch: 141, loss: 2337.3974609375\n",
            "epoch: 142, loss: 2336.53173828125\n",
            "epoch: 143, loss: 2335.66650390625\n",
            "epoch: 144, loss: 2334.801513671875\n",
            "epoch: 145, loss: 2333.936767578125\n",
            "epoch: 146, loss: 2333.07177734375\n",
            "epoch: 147, loss: 2332.207275390625\n",
            "epoch: 148, loss: 2331.343017578125\n",
            "epoch: 149, loss: 2330.4794921875\n",
            "epoch: 150, loss: 2329.61572265625\n",
            "epoch: 151, loss: 2328.75244140625\n",
            "epoch: 152, loss: 2327.888916015625\n",
            "epoch: 153, loss: 2327.02587890625\n",
            "epoch: 154, loss: 2326.1630859375\n",
            "epoch: 155, loss: 2325.300537109375\n",
            "epoch: 156, loss: 2324.4384765625\n",
            "epoch: 157, loss: 2323.57666015625\n",
            "epoch: 158, loss: 2322.71484375\n",
            "epoch: 159, loss: 2321.853271484375\n",
            "epoch: 160, loss: 2320.991943359375\n",
            "epoch: 161, loss: 2320.130859375\n",
            "epoch: 162, loss: 2319.27001953125\n",
            "epoch: 163, loss: 2318.40966796875\n",
            "epoch: 164, loss: 2317.54931640625\n",
            "epoch: 165, loss: 2316.689453125\n",
            "epoch: 166, loss: 2315.82958984375\n",
            "epoch: 167, loss: 2314.9697265625\n",
            "epoch: 168, loss: 2314.1103515625\n",
            "epoch: 169, loss: 2313.251220703125\n",
            "epoch: 170, loss: 2312.392578125\n",
            "epoch: 171, loss: 2311.533935546875\n",
            "epoch: 172, loss: 2310.675537109375\n",
            "epoch: 173, loss: 2309.817138671875\n",
            "epoch: 174, loss: 2308.95947265625\n",
            "epoch: 175, loss: 2308.101806640625\n",
            "epoch: 176, loss: 2307.244384765625\n",
            "epoch: 177, loss: 2306.38720703125\n",
            "epoch: 178, loss: 2305.530517578125\n",
            "epoch: 179, loss: 2304.673828125\n",
            "epoch: 180, loss: 2303.817138671875\n",
            "epoch: 181, loss: 2302.9609375\n",
            "epoch: 182, loss: 2302.10498046875\n",
            "epoch: 183, loss: 2301.24951171875\n",
            "epoch: 184, loss: 2300.39404296875\n",
            "epoch: 185, loss: 2299.538818359375\n",
            "epoch: 186, loss: 2298.68359375\n",
            "epoch: 187, loss: 2297.828857421875\n",
            "epoch: 188, loss: 2296.974365234375\n",
            "epoch: 189, loss: 2296.1201171875\n",
            "epoch: 190, loss: 2295.266357421875\n",
            "epoch: 191, loss: 2294.41259765625\n",
            "epoch: 192, loss: 2293.558837890625\n",
            "epoch: 193, loss: 2292.70556640625\n",
            "epoch: 194, loss: 2291.852294921875\n",
            "epoch: 195, loss: 2290.999755859375\n",
            "epoch: 196, loss: 2290.14697265625\n",
            "epoch: 197, loss: 2289.294921875\n",
            "epoch: 198, loss: 2288.44287109375\n",
            "epoch: 199, loss: 2287.591064453125\n"
          ]
        }
      ],
      "source": [
        "epochs = 200\n",
        "for epoch in range(epochs):\n",
        "  total_loss = 0\n",
        "  loss_fn = torch.nn.MSELoss()\n",
        "  optimizer = torch.optim.Adam(model.parameters())\n",
        "  \n",
        "  for  X_batch, y_batch in loader_train:\n",
        "    y_pred = model(X_batch)\n",
        "    optimizer.zero_grad()\n",
        "    loss = loss_fn(y_batch, y_pred)\n",
        "    loss.backward()\n",
        "    optimizer.step()\n",
        "    #print(loss.item())\n",
        "    total_loss += loss.item()\n",
        "  total_loss/len(loader_train)  \n",
        "\n",
        "\n",
        "  epoch_loss = total_loss / len(loader_train)\n",
        "  print(f'epoch: {epoch}, loss: {epoch_loss}')"
      ]
    },
    {
      "cell_type": "markdown",
      "metadata": {
        "id": "TfHzl8EmO4fD"
      },
      "source": [
        "# 17. 실제 값과 훈련된 모델의 예측값을 plot 으로 그려봅니다."
      ]
    },
    {
      "cell_type": "code",
      "execution_count": 63,
      "metadata": {
        "colab": {
          "base_uri": "https://localhost:8080/",
          "height": 448
        },
        "id": "NulT4y50Hb1S",
        "outputId": "1f46569e-0881-4f52-dadd-3c6e7cfe3329"
      },
      "outputs": [
        {
          "name": "stderr",
          "output_type": "stream",
          "text": [
            "C:\\Users\\user\\AppData\\Local\\Temp\\ipykernel_2704\\775923331.py:5: UserWarning: To copy construct from a tensor, it is recommended to use sourceTensor.clone().detach() or sourceTensor.clone().detach().requires_grad_(True), rather than torch.tensor(sourceTensor).\n",
            "  X_tensor = torch.tensor(X).float()\n"
          ]
        },
        {
          "ename": "ValueError",
          "evalue": "x and y must have same first dimension, but have shapes (3492,) and (32, 1)",
          "output_type": "error",
          "traceback": [
            "\u001b[1;31m---------------------------------------------------------------------------\u001b[0m",
            "\u001b[1;31mValueError\u001b[0m                                Traceback (most recent call last)",
            "Cell \u001b[1;32mIn[63], line 10\u001b[0m\n\u001b[0;32m      7\u001b[0m   y_pred \u001b[38;5;241m=\u001b[39m model(X_tensor)\u001b[38;5;241m.\u001b[39mnumpy()\n\u001b[0;32m      8\u001b[0m   \u001b[38;5;66;03m#y_pred = model(X_tensor).cpu().numpy()\u001b[39;00m\n\u001b[1;32m---> 10\u001b[0m \u001b[43mplt\u001b[49m\u001b[38;5;241;43m.\u001b[39;49m\u001b[43mplot\u001b[49m\u001b[43m(\u001b[49m\u001b[43mdf\u001b[49m\u001b[38;5;241;43m.\u001b[39;49m\u001b[43mindex\u001b[49m\u001b[43m[\u001b[49m\u001b[43mseq_len\u001b[49m\u001b[43m:\u001b[49m\u001b[43m]\u001b[49m\u001b[43m,\u001b[49m\u001b[43m \u001b[49m\u001b[43my\u001b[49m\u001b[43m)\u001b[49m\n\u001b[0;32m     11\u001b[0m plt\u001b[38;5;241m.\u001b[39mplot(df\u001b[38;5;241m.\u001b[39mindex[seq_len:], y_pred)\n",
            "File \u001b[1;32mc:\\Users\\user\\anaconda3\\envs\\py3_11\\Lib\\site-packages\\matplotlib\\pyplot.py:3829\u001b[0m, in \u001b[0;36mplot\u001b[1;34m(scalex, scaley, data, *args, **kwargs)\u001b[0m\n\u001b[0;32m   3821\u001b[0m \u001b[38;5;129m@_copy_docstring_and_deprecators\u001b[39m(Axes\u001b[38;5;241m.\u001b[39mplot)\n\u001b[0;32m   3822\u001b[0m \u001b[38;5;28;01mdef\u001b[39;00m \u001b[38;5;21mplot\u001b[39m(\n\u001b[0;32m   3823\u001b[0m     \u001b[38;5;241m*\u001b[39margs: \u001b[38;5;28mfloat\u001b[39m \u001b[38;5;241m|\u001b[39m ArrayLike \u001b[38;5;241m|\u001b[39m \u001b[38;5;28mstr\u001b[39m,\n\u001b[1;32m   (...)\u001b[0m\n\u001b[0;32m   3827\u001b[0m     \u001b[38;5;241m*\u001b[39m\u001b[38;5;241m*\u001b[39mkwargs,\n\u001b[0;32m   3828\u001b[0m ) \u001b[38;5;241m-\u001b[39m\u001b[38;5;241m>\u001b[39m \u001b[38;5;28mlist\u001b[39m[Line2D]:\n\u001b[1;32m-> 3829\u001b[0m     \u001b[38;5;28;01mreturn\u001b[39;00m \u001b[43mgca\u001b[49m\u001b[43m(\u001b[49m\u001b[43m)\u001b[49m\u001b[38;5;241;43m.\u001b[39;49m\u001b[43mplot\u001b[49m\u001b[43m(\u001b[49m\n\u001b[0;32m   3830\u001b[0m \u001b[43m        \u001b[49m\u001b[38;5;241;43m*\u001b[39;49m\u001b[43margs\u001b[49m\u001b[43m,\u001b[49m\n\u001b[0;32m   3831\u001b[0m \u001b[43m        \u001b[49m\u001b[43mscalex\u001b[49m\u001b[38;5;241;43m=\u001b[39;49m\u001b[43mscalex\u001b[49m\u001b[43m,\u001b[49m\n\u001b[0;32m   3832\u001b[0m \u001b[43m        \u001b[49m\u001b[43mscaley\u001b[49m\u001b[38;5;241;43m=\u001b[39;49m\u001b[43mscaley\u001b[49m\u001b[43m,\u001b[49m\n\u001b[0;32m   3833\u001b[0m \u001b[43m        \u001b[49m\u001b[38;5;241;43m*\u001b[39;49m\u001b[38;5;241;43m*\u001b[39;49m\u001b[43m(\u001b[49m\u001b[43m{\u001b[49m\u001b[38;5;124;43m\"\u001b[39;49m\u001b[38;5;124;43mdata\u001b[39;49m\u001b[38;5;124;43m\"\u001b[39;49m\u001b[43m:\u001b[49m\u001b[43m \u001b[49m\u001b[43mdata\u001b[49m\u001b[43m}\u001b[49m\u001b[43m \u001b[49m\u001b[38;5;28;43;01mif\u001b[39;49;00m\u001b[43m \u001b[49m\u001b[43mdata\u001b[49m\u001b[43m \u001b[49m\u001b[38;5;129;43;01mis\u001b[39;49;00m\u001b[43m \u001b[49m\u001b[38;5;129;43;01mnot\u001b[39;49;00m\u001b[43m \u001b[49m\u001b[38;5;28;43;01mNone\u001b[39;49;00m\u001b[43m \u001b[49m\u001b[38;5;28;43;01melse\u001b[39;49;00m\u001b[43m \u001b[49m\u001b[43m{\u001b[49m\u001b[43m}\u001b[49m\u001b[43m)\u001b[49m\u001b[43m,\u001b[49m\n\u001b[0;32m   3834\u001b[0m \u001b[43m        \u001b[49m\u001b[38;5;241;43m*\u001b[39;49m\u001b[38;5;241;43m*\u001b[39;49m\u001b[43mkwargs\u001b[49m\u001b[43m,\u001b[49m\n\u001b[0;32m   3835\u001b[0m \u001b[43m    \u001b[49m\u001b[43m)\u001b[49m\n",
            "File \u001b[1;32mc:\\Users\\user\\anaconda3\\envs\\py3_11\\Lib\\site-packages\\matplotlib\\axes\\_axes.py:1777\u001b[0m, in \u001b[0;36mAxes.plot\u001b[1;34m(self, scalex, scaley, data, *args, **kwargs)\u001b[0m\n\u001b[0;32m   1534\u001b[0m \u001b[38;5;250m\u001b[39m\u001b[38;5;124;03m\"\"\"\u001b[39;00m\n\u001b[0;32m   1535\u001b[0m \u001b[38;5;124;03mPlot y versus x as lines and/or markers.\u001b[39;00m\n\u001b[0;32m   1536\u001b[0m \n\u001b[1;32m   (...)\u001b[0m\n\u001b[0;32m   1774\u001b[0m \u001b[38;5;124;03m(``'green'``) or hex strings (``'#008000'``).\u001b[39;00m\n\u001b[0;32m   1775\u001b[0m \u001b[38;5;124;03m\"\"\"\u001b[39;00m\n\u001b[0;32m   1776\u001b[0m kwargs \u001b[38;5;241m=\u001b[39m cbook\u001b[38;5;241m.\u001b[39mnormalize_kwargs(kwargs, mlines\u001b[38;5;241m.\u001b[39mLine2D)\n\u001b[1;32m-> 1777\u001b[0m lines \u001b[38;5;241m=\u001b[39m [\u001b[38;5;241m*\u001b[39m\u001b[38;5;28mself\u001b[39m\u001b[38;5;241m.\u001b[39m_get_lines(\u001b[38;5;28mself\u001b[39m, \u001b[38;5;241m*\u001b[39margs, data\u001b[38;5;241m=\u001b[39mdata, \u001b[38;5;241m*\u001b[39m\u001b[38;5;241m*\u001b[39mkwargs)]\n\u001b[0;32m   1778\u001b[0m \u001b[38;5;28;01mfor\u001b[39;00m line \u001b[38;5;129;01min\u001b[39;00m lines:\n\u001b[0;32m   1779\u001b[0m     \u001b[38;5;28mself\u001b[39m\u001b[38;5;241m.\u001b[39madd_line(line)\n",
            "File \u001b[1;32mc:\\Users\\user\\anaconda3\\envs\\py3_11\\Lib\\site-packages\\matplotlib\\axes\\_base.py:297\u001b[0m, in \u001b[0;36m_process_plot_var_args.__call__\u001b[1;34m(self, axes, data, return_kwargs, *args, **kwargs)\u001b[0m\n\u001b[0;32m    295\u001b[0m     this \u001b[38;5;241m+\u001b[39m\u001b[38;5;241m=\u001b[39m args[\u001b[38;5;241m0\u001b[39m],\n\u001b[0;32m    296\u001b[0m     args \u001b[38;5;241m=\u001b[39m args[\u001b[38;5;241m1\u001b[39m:]\n\u001b[1;32m--> 297\u001b[0m \u001b[38;5;28;01myield from\u001b[39;00m \u001b[38;5;28;43mself\u001b[39;49m\u001b[38;5;241;43m.\u001b[39;49m\u001b[43m_plot_args\u001b[49m\u001b[43m(\u001b[49m\n\u001b[0;32m    298\u001b[0m \u001b[43m    \u001b[49m\u001b[43maxes\u001b[49m\u001b[43m,\u001b[49m\u001b[43m \u001b[49m\u001b[43mthis\u001b[49m\u001b[43m,\u001b[49m\u001b[43m \u001b[49m\u001b[43mkwargs\u001b[49m\u001b[43m,\u001b[49m\u001b[43m \u001b[49m\u001b[43mambiguous_fmt_datakey\u001b[49m\u001b[38;5;241;43m=\u001b[39;49m\u001b[43mambiguous_fmt_datakey\u001b[49m\u001b[43m,\u001b[49m\n\u001b[0;32m    299\u001b[0m \u001b[43m    \u001b[49m\u001b[43mreturn_kwargs\u001b[49m\u001b[38;5;241;43m=\u001b[39;49m\u001b[43mreturn_kwargs\u001b[49m\n\u001b[0;32m    300\u001b[0m \u001b[43m\u001b[49m\u001b[43m)\u001b[49m\n",
            "File \u001b[1;32mc:\\Users\\user\\anaconda3\\envs\\py3_11\\Lib\\site-packages\\matplotlib\\axes\\_base.py:494\u001b[0m, in \u001b[0;36m_process_plot_var_args._plot_args\u001b[1;34m(self, axes, tup, kwargs, return_kwargs, ambiguous_fmt_datakey)\u001b[0m\n\u001b[0;32m    491\u001b[0m     axes\u001b[38;5;241m.\u001b[39myaxis\u001b[38;5;241m.\u001b[39mupdate_units(y)\n\u001b[0;32m    493\u001b[0m \u001b[38;5;28;01mif\u001b[39;00m x\u001b[38;5;241m.\u001b[39mshape[\u001b[38;5;241m0\u001b[39m] \u001b[38;5;241m!=\u001b[39m y\u001b[38;5;241m.\u001b[39mshape[\u001b[38;5;241m0\u001b[39m]:\n\u001b[1;32m--> 494\u001b[0m     \u001b[38;5;28;01mraise\u001b[39;00m \u001b[38;5;167;01mValueError\u001b[39;00m(\u001b[38;5;124mf\u001b[39m\u001b[38;5;124m\"\u001b[39m\u001b[38;5;124mx and y must have same first dimension, but \u001b[39m\u001b[38;5;124m\"\u001b[39m\n\u001b[0;32m    495\u001b[0m                      \u001b[38;5;124mf\u001b[39m\u001b[38;5;124m\"\u001b[39m\u001b[38;5;124mhave shapes \u001b[39m\u001b[38;5;132;01m{\u001b[39;00mx\u001b[38;5;241m.\u001b[39mshape\u001b[38;5;132;01m}\u001b[39;00m\u001b[38;5;124m and \u001b[39m\u001b[38;5;132;01m{\u001b[39;00my\u001b[38;5;241m.\u001b[39mshape\u001b[38;5;132;01m}\u001b[39;00m\u001b[38;5;124m\"\u001b[39m)\n\u001b[0;32m    496\u001b[0m \u001b[38;5;28;01mif\u001b[39;00m x\u001b[38;5;241m.\u001b[39mndim \u001b[38;5;241m>\u001b[39m \u001b[38;5;241m2\u001b[39m \u001b[38;5;129;01mor\u001b[39;00m y\u001b[38;5;241m.\u001b[39mndim \u001b[38;5;241m>\u001b[39m \u001b[38;5;241m2\u001b[39m:\n\u001b[0;32m    497\u001b[0m     \u001b[38;5;28;01mraise\u001b[39;00m \u001b[38;5;167;01mValueError\u001b[39;00m(\u001b[38;5;124mf\u001b[39m\u001b[38;5;124m\"\u001b[39m\u001b[38;5;124mx and y can be no greater than 2D, but have \u001b[39m\u001b[38;5;124m\"\u001b[39m\n\u001b[0;32m    498\u001b[0m                      \u001b[38;5;124mf\u001b[39m\u001b[38;5;124m\"\u001b[39m\u001b[38;5;124mshapes \u001b[39m\u001b[38;5;132;01m{\u001b[39;00mx\u001b[38;5;241m.\u001b[39mshape\u001b[38;5;132;01m}\u001b[39;00m\u001b[38;5;124m and \u001b[39m\u001b[38;5;132;01m{\u001b[39;00my\u001b[38;5;241m.\u001b[39mshape\u001b[38;5;132;01m}\u001b[39;00m\u001b[38;5;124m\"\u001b[39m)\n",
            "\u001b[1;31mValueError\u001b[0m: x and y must have same first dimension, but have shapes (3492,) and (32, 1)"
          ]
        },
        {
          "data": {
            "image/png": "[encoded data removed]",
            "text/plain": [
              "<Figure size 640x480 with 1 Axes>"
            ]
          },
          "metadata": {},
          "output_type": "display_data"
        }
      ],
      "source": [
        "import matplotlib.pyplot as plt\n",
        "\n",
        "model.eval()\n",
        "\n",
        "X_tensor = torch.tensor(X).float()\n",
        "with torch.no_grad():\n",
        "  y_pred = model(X_tensor).numpy()\n",
        "  #y_pred = model(X_tensor).cpu().numpy()\n",
        "\n",
        "plt.plot(df.index[seq_len:], y)\n",
        "plt.plot(df.index[seq_len:], y_pred)"
      ]
    },
    {
      "cell_type": "markdown",
      "metadata": {
        "id": "dcPfJKByPBxT"
      },
      "source": [
        "# 18. 모델의 성능을 MSE, RMSE, MAE, R2 메트릭을 이용하여 측정해 봅니다."
      ]
    },
    {
      "cell_type": "code",
      "execution_count": null,
      "metadata": {
        "colab": {
          "base_uri": "https://localhost:8080/"
        },
        "id": "nF7EoWRXJjGQ",
        "outputId": "bc148b61-a823-44b8-b106-d2ff57c4ebf6"
      },
      "outputs": [
        {
          "data": {
            "text/plain": [
              "'MSE: 1.40203, RMSE: 1.18407, MAE: 0.73404, R2: 0.99845'"
            ]
          },
          "execution_count": 153,
          "metadata": {},
          "output_type": "execute_result"
        }
      ],
      "source": [
        "from sklearn.metrics import mean_squared_error, mean_absolute_error, r2_score\n",
        "\n",
        "mse = mean_squared_error(y, y_pred)\n",
        "rmse = np.sqrt(mse)\n",
        "mae = mean_absolute_error(y, y_pred)\n",
        "r2 = r2_score(y, y_pred)\n",
        "\n",
        "f\"MSE: {mse:.5f}, RMSE: {rmse:.5f}, MAE: {mae:.5f}, R2: {r2:.5f}\""
      ]
    },
    {
      "cell_type": "markdown",
      "metadata": {
        "id": "d41xsezKPMUm"
      },
      "source": [
        "# 19. 12번에서 생성한 데이터를 이용하여 다음을 수행하시오.\n",
        "\n",
        "* sklearn 의 MinMaxScaler 를 이용하여 데이터를 정규화 합니다. (fit_transform)\n",
        "* 9:2 의 비율로 train/test 로 데이터를 split 하여, X_trian, X_test, y_train, y_test 변수에 저장합니다.\n",
        "* train/test 용 DataLoader 객체를 생성하여 loader_train, loader_test 변수에 저장합니다.\n",
        "* 모델 훈련 시에는 loader_train 을 이용하고, 모델의 예측력을 확인할 때는 loader_test 를 이용합니다."
      ]
    },
    {
      "cell_type": "code",
      "execution_count": null,
      "metadata": {
        "colab": {
          "base_uri": "https://localhost:8080/"
        },
        "id": "2mGeMlepOpGh",
        "outputId": "1785dea0-8b6d-40a5-b585-380dd3b33d48"
      },
      "outputs": [
        {
          "name": "stderr",
          "output_type": "stream",
          "text": [
            "\r[*********************100%***********************]  1 of 1 completed\n"
          ]
        },
        {
          "name": "stdout",
          "output_type": "stream",
          "text": [
            "epoch 1/200, loss: 0.09131\n",
            "epoch 2/200, loss: 0.00890\n",
            "epoch 3/200, loss: 0.00104\n",
            "epoch 4/200, loss: 0.00079\n",
            "epoch 5/200, loss: 0.00062\n",
            "epoch 6/200, loss: 0.00052\n",
            "epoch 7/200, loss: 0.00043\n",
            "epoch 8/200, loss: 0.00036\n",
            "epoch 9/200, loss: 0.00031\n",
            "epoch 10/200, loss: 0.00026\n",
            "epoch 11/200, loss: 0.00023\n",
            "epoch 12/200, loss: 0.00020\n",
            "epoch 13/200, loss: 0.00017\n",
            "epoch 14/200, loss: 0.00017\n",
            "epoch 15/200, loss: 0.00016\n",
            "epoch 16/200, loss: 0.00015\n",
            "epoch 17/200, loss: 0.00016\n",
            "epoch 18/200, loss: 0.00015\n",
            "epoch 19/200, loss: 0.00015\n",
            "epoch 20/200, loss: 0.00015\n",
            "epoch 21/200, loss: 0.00016\n",
            "epoch 22/200, loss: 0.00015\n",
            "epoch 23/200, loss: 0.00014\n",
            "epoch 24/200, loss: 0.00014\n",
            "epoch 25/200, loss: 0.00015\n",
            "epoch 26/200, loss: 0.00015\n",
            "epoch 27/200, loss: 0.00014\n",
            "epoch 28/200, loss: 0.00014\n",
            "epoch 29/200, loss: 0.00015\n",
            "epoch 30/200, loss: 0.00014\n",
            "epoch 31/200, loss: 0.00014\n",
            "epoch 32/200, loss: 0.00014\n",
            "epoch 33/200, loss: 0.00014\n",
            "epoch 34/200, loss: 0.00014\n",
            "epoch 35/200, loss: 0.00015\n",
            "epoch 36/200, loss: 0.00013\n",
            "epoch 37/200, loss: 0.00013\n",
            "epoch 38/200, loss: 0.00014\n",
            "epoch 39/200, loss: 0.00013\n",
            "epoch 40/200, loss: 0.00014\n",
            "epoch 41/200, loss: 0.00014\n",
            "epoch 42/200, loss: 0.00014\n",
            "epoch 43/200, loss: 0.00013\n",
            "epoch 44/200, loss: 0.00013\n",
            "epoch 45/200, loss: 0.00013\n",
            "epoch 46/200, loss: 0.00014\n",
            "epoch 47/200, loss: 0.00013\n",
            "epoch 48/200, loss: 0.00013\n",
            "epoch 49/200, loss: 0.00013\n",
            "epoch 50/200, loss: 0.00013\n",
            "epoch 51/200, loss: 0.00013\n",
            "epoch 52/200, loss: 0.00013\n",
            "epoch 53/200, loss: 0.00014\n",
            "epoch 54/200, loss: 0.00013\n",
            "epoch 55/200, loss: 0.00013\n",
            "epoch 56/200, loss: 0.00012\n",
            "epoch 57/200, loss: 0.00012\n",
            "epoch 58/200, loss: 0.00012\n",
            "epoch 59/200, loss: 0.00012\n",
            "epoch 60/200, loss: 0.00012\n",
            "epoch 61/200, loss: 0.00013\n",
            "epoch 62/200, loss: 0.00011\n",
            "epoch 63/200, loss: 0.00012\n",
            "epoch 64/200, loss: 0.00012\n",
            "epoch 65/200, loss: 0.00011\n",
            "epoch 66/200, loss: 0.00012\n",
            "epoch 67/200, loss: 0.00012\n",
            "epoch 68/200, loss: 0.00013\n",
            "epoch 69/200, loss: 0.00011\n",
            "epoch 70/200, loss: 0.00011\n",
            "epoch 71/200, loss: 0.00011\n",
            "epoch 72/200, loss: 0.00012\n",
            "epoch 73/200, loss: 0.00012\n",
            "epoch 74/200, loss: 0.00011\n",
            "epoch 75/200, loss: 0.00011\n",
            "epoch 76/200, loss: 0.00011\n",
            "epoch 77/200, loss: 0.00011\n",
            "epoch 78/200, loss: 0.00011\n",
            "epoch 79/200, loss: 0.00011\n",
            "epoch 80/200, loss: 0.00012\n",
            "epoch 81/200, loss: 0.00011\n",
            "epoch 82/200, loss: 0.00012\n",
            "epoch 83/200, loss: 0.00011\n",
            "epoch 84/200, loss: 0.00011\n",
            "epoch 85/200, loss: 0.00011\n",
            "epoch 86/200, loss: 0.00011\n",
            "epoch 87/200, loss: 0.00011\n",
            "epoch 88/200, loss: 0.00011\n",
            "epoch 89/200, loss: 0.00011\n",
            "epoch 90/200, loss: 0.00011\n",
            "epoch 91/200, loss: 0.00011\n",
            "epoch 92/200, loss: 0.00011\n",
            "epoch 93/200, loss: 0.00011\n",
            "epoch 94/200, loss: 0.00011\n",
            "epoch 95/200, loss: 0.00011\n",
            "epoch 96/200, loss: 0.00011\n",
            "epoch 97/200, loss: 0.00010\n",
            "epoch 98/200, loss: 0.00010\n",
            "epoch 99/200, loss: 0.00010\n",
            "epoch 100/200, loss: 0.00012\n",
            "epoch 101/200, loss: 0.00010\n",
            "epoch 102/200, loss: 0.00010\n",
            "epoch 103/200, loss: 0.00010\n",
            "epoch 104/200, loss: 0.00010\n",
            "epoch 105/200, loss: 0.00010\n",
            "epoch 106/200, loss: 0.00011\n",
            "epoch 107/200, loss: 0.00010\n",
            "epoch 108/200, loss: 0.00010\n",
            "epoch 109/200, loss: 0.00010\n",
            "epoch 110/200, loss: 0.00010\n",
            "epoch 111/200, loss: 0.00010\n",
            "epoch 112/200, loss: 0.00010\n",
            "epoch 113/200, loss: 0.00010\n",
            "epoch 114/200, loss: 0.00010\n",
            "epoch 115/200, loss: 0.00010\n",
            "epoch 116/200, loss: 0.00010\n",
            "epoch 117/200, loss: 0.00009\n",
            "epoch 118/200, loss: 0.00009\n",
            "epoch 119/200, loss: 0.00010\n",
            "epoch 120/200, loss: 0.00010\n",
            "epoch 121/200, loss: 0.00010\n",
            "epoch 122/200, loss: 0.00010\n",
            "epoch 123/200, loss: 0.00009\n",
            "epoch 124/200, loss: 0.00009\n",
            "epoch 125/200, loss: 0.00010\n",
            "epoch 126/200, loss: 0.00009\n",
            "epoch 127/200, loss: 0.00009\n",
            "epoch 128/200, loss: 0.00010\n",
            "epoch 129/200, loss: 0.00009\n",
            "epoch 130/200, loss: 0.00009\n",
            "epoch 131/200, loss: 0.00009\n",
            "epoch 132/200, loss: 0.00009\n",
            "epoch 133/200, loss: 0.00009\n",
            "epoch 134/200, loss: 0.00009\n",
            "epoch 135/200, loss: 0.00009\n",
            "epoch 136/200, loss: 0.00009\n",
            "epoch 137/200, loss: 0.00010\n",
            "epoch 138/200, loss: 0.00009\n",
            "epoch 139/200, loss: 0.00009\n",
            "epoch 140/200, loss: 0.00009\n",
            "epoch 141/200, loss: 0.00009\n",
            "epoch 142/200, loss: 0.00009\n",
            "epoch 143/200, loss: 0.00009\n",
            "epoch 144/200, loss: 0.00009\n",
            "epoch 145/200, loss: 0.00009\n",
            "epoch 146/200, loss: 0.00009\n",
            "epoch 147/200, loss: 0.00009\n",
            "epoch 148/200, loss: 0.00009\n",
            "epoch 149/200, loss: 0.00009\n",
            "epoch 150/200, loss: 0.00009\n",
            "epoch 151/200, loss: 0.00009\n",
            "epoch 152/200, loss: 0.00008\n",
            "epoch 153/200, loss: 0.00009\n",
            "epoch 154/200, loss: 0.00009\n",
            "epoch 155/200, loss: 0.00009\n",
            "epoch 156/200, loss: 0.00009\n",
            "epoch 157/200, loss: 0.00009\n",
            "epoch 158/200, loss: 0.00010\n",
            "epoch 159/200, loss: 0.00008\n",
            "epoch 160/200, loss: 0.00009\n",
            "epoch 161/200, loss: 0.00010\n",
            "epoch 162/200, loss: 0.00010\n",
            "epoch 163/200, loss: 0.00009\n",
            "epoch 164/200, loss: 0.00009\n",
            "epoch 165/200, loss: 0.00008\n",
            "epoch 166/200, loss: 0.00009\n",
            "epoch 167/200, loss: 0.00009\n",
            "epoch 168/200, loss: 0.00009\n",
            "epoch 169/200, loss: 0.00008\n",
            "epoch 170/200, loss: 0.00009\n",
            "epoch 171/200, loss: 0.00009\n",
            "epoch 172/200, loss: 0.00009\n",
            "epoch 173/200, loss: 0.00008\n",
            "epoch 174/200, loss: 0.00008\n",
            "epoch 175/200, loss: 0.00009\n",
            "epoch 176/200, loss: 0.00009\n",
            "epoch 177/200, loss: 0.00009\n",
            "epoch 178/200, loss: 0.00008\n",
            "epoch 179/200, loss: 0.00008\n",
            "epoch 180/200, loss: 0.00008\n",
            "epoch 181/200, loss: 0.00009\n",
            "epoch 182/200, loss: 0.00009\n",
            "epoch 183/200, loss: 0.00009\n",
            "epoch 184/200, loss: 0.00008\n",
            "epoch 185/200, loss: 0.00008\n",
            "epoch 186/200, loss: 0.00009\n",
            "epoch 187/200, loss: 0.00009\n",
            "epoch 188/200, loss: 0.00008\n",
            "epoch 189/200, loss: 0.00009\n",
            "epoch 190/200, loss: 0.00009\n",
            "epoch 191/200, loss: 0.00008\n",
            "epoch 192/200, loss: 0.00008\n",
            "epoch 193/200, loss: 0.00008\n",
            "epoch 194/200, loss: 0.00008\n",
            "epoch 195/200, loss: 0.00009\n",
            "epoch 196/200, loss: 0.00008\n",
            "epoch 197/200, loss: 0.00009\n",
            "epoch 198/200, loss: 0.00009\n",
            "epoch 199/200, loss: 0.00008\n",
            "epoch 200/200, loss: 0.00008\n"
          ]
        }
      ],
      "source": []
    },
    {
      "cell_type": "code",
      "execution_count": null,
      "metadata": {
        "id": "imOSrKADRhOr"
      },
      "outputs": [],
      "source": [
        "model.eval()\n",
        "\n",
        "y_pred_list = []\n",
        "with torch.no_grad():\n",
        "  for X_batch, _ in loader_test:\n",
        "    y_pred = model(X_batch).numpy()\n",
        "    #y_pred = model(X_batch).cpu().numpy()\n",
        "    y_pred_list.append(y_pred)\n",
        "\n",
        "y_pred = np.concatenate(y_pred_list, axis=0)"
      ]
    },
    {
      "cell_type": "code",
      "execution_count": null,
      "metadata": {
        "colab": {
          "base_uri": "https://localhost:8080/",
          "height": 485
        },
        "id": "04vRjZSyQ28r",
        "outputId": "03f5ec01-9fd1-4d59-cce9-1f3dd2ad3b78"
      },
      "outputs": [
        {
          "data": {
            "text/plain": [
              "[<matplotlib.lines.Line2D at 0x728b89298680>]"
            ]
          },
          "execution_count": 168,
          "metadata": {},
          "output_type": "execute_result"
        },
        {
          "data": {
            "image/png": "[encoded data removed]",
            "text/plain": [
              "<Figure size 640x480 with 1 Axes>"
            ]
          },
          "metadata": {},
          "output_type": "display_data"
        }
      ],
      "source": [
        "import matplotlib.pyplot as plt\n",
        "\n",
        "y_test_ori = scaler.inverse_transform(y_test)\n",
        "y_pred_ori = scaler.inverse_transform(y_pred)\n",
        "\n",
        "plt.xticks(rotation=45)\n",
        "plt.plot(df.index[train_size + seq_len:], y_test_ori)\n",
        "plt.plot(df.index[train_size + seq_len:], y_pred_ori)"
      ]
    },
    {
      "cell_type": "code",
      "execution_count": null,
      "metadata": {
        "colab": {
          "base_uri": "https://localhost:8080/"
        },
        "id": "zETuhTcKQ4Wz",
        "outputId": "2aa0eee9-9cd4-4d17-d53f-956bfee43851"
      },
      "outputs": [
        {
          "name": "stdout",
          "output_type": "stream",
          "text": [
            "MSE: 2.65828, RMSE: 1.63042, MAE: 1.14909, R2: 0.94367\n"
          ]
        }
      ],
      "source": [
        "from sklearn.metrics import mean_squared_error, mean_absolute_error, r2_score\n",
        "\n",
        "mse = mean_squared_error(y_test_ori, y_pred_ori)\n",
        "rmse = np.sqrt(mse)\n",
        "mae = mean_absolute_error(y_test_ori, y_pred_ori)\n",
        "r2 = r2_score(y_test_ori, y_pred_ori)\n",
        "\n",
        "print(f\"MSE: {mse:.5f}, RMSE: {rmse:.5f}, MAE: {mae:.5f}, R2: {r2:.5f}\")"
      ]
    },
    {
      "cell_type": "code",
      "execution_count": null,
      "metadata": {
        "id": "ZII2s9VgSmkl"
      },
      "outputs": [],
      "source": []
    }
  ],
  "metadata": {
    "colab": {
      "provenance": []
    },
    "kernelspec": {
      "display_name": "py3_11",
      "language": "python",
      "name": "python3"
    },
    "language_info": {
      "codemirror_mode": {
        "name": "ipython",
        "version": 3
      },
      "file_extension": ".py",
      "mimetype": "text/x-python",
      "name": "python",
      "nbconvert_exporter": "python",
      "pygments_lexer": "ipython3",
      "version": "3.11.11"
    }
  },
  "nbformat": 4,
  "nbformat_minor": 0
}
