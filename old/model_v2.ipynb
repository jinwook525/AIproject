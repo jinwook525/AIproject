{
 "cells": [
  {
   "cell_type": "code",
   "execution_count": 1,
   "metadata": {},
   "outputs": [
    {
     "name": "stdout",
     "output_type": "stream",
     "text": [
      "Using device: cuda\n",
      "X 크기: (627, 5, 2), y 크기: (627, 2)\n"
     ]
    }
   ],
   "source": [
    "import numpy as np\n",
    "import pandas as pd\n",
    "import torch\n",
    "import torch.nn as nn\n",
    "import torch.optim as optim\n",
    "from sklearn.model_selection import ParameterSampler\n",
    "from sklearn.preprocessing import StandardScaler\n",
    "\n",
    "# GPU 장치 확인 및 설정\n",
    "device = torch.device('cuda' if torch.cuda.is_available() else 'cpu')\n",
    "print(f\"Using device: {device}\")\n",
    "\n",
    "# 데이터 로드\n",
    "data = pd.read_csv('../document/oneship.csv')\n",
    "\n",
    "# 필요 없는 열 제거\n",
    "data = data.drop(columns=['id', 'msg_type', 'mmsi', 'status', 'created_at', 'datetime'])\n",
    "\n",
    "# 타겟 변수와 독립 변수\n",
    "target_columns = ['lat', 'lon']  # 타겟 변수\n",
    "independent_columns = list(data.columns)  # 모든 열을 독립변수로 포함\n",
    "\n",
    "# 타겟 변수 스케일링\n",
    "scaler = StandardScaler()\n",
    "data[target_columns] = scaler.fit_transform(data[target_columns])\n",
    "\n",
    "# 시계열 데이터 변환\n",
    "time_steps = 5\n",
    "X, y = [], []\n",
    "for i in range(len(data) - time_steps):\n",
    "    # 입력 데이터: 모든 독립변수 포함\n",
    "    # X.append(data.iloc[i:i+time_steps][independent_columns].values)\n",
    "    # 입력 데이터: 타켓 변수(위,경도)\n",
    "    X.append(data.iloc[i:i+time_steps][target_columns].values)\n",
    "    # 출력 데이터: 타겟 변수만 포함\n",
    "    y.append(data.iloc[i+time_steps][target_columns].values)\n",
    "X, y = np.array(X, dtype=np.float32), np.array(y, dtype=np.float32)\n",
    "\n",
    "print(f\"X 크기: {X.shape}, y 크기: {y.shape}\")\n"
   ]
  },
  {
   "cell_type": "code",
   "execution_count": 2,
   "metadata": {},
   "outputs": [
    {
     "name": "stdout",
     "output_type": "stream",
     "text": [
      "Train 데이터 크기: (501, 5, 2), (501, 2)\n",
      "Test 데이터 크기: (126, 5, 2), (126, 2)\n"
     ]
    }
   ],
   "source": [
    "# 데이터 분할 (학습/테스트만 나누기)\n",
    "train_size = int(len(X) * 0.8)\n",
    "X_train, X_test = X[:train_size], X[train_size:]\n",
    "y_train, y_test = y[:train_size], y[train_size:]\n",
    "\n",
    "print(f\"Train 데이터 크기: {X_train.shape}, {y_train.shape}\")\n",
    "print(f\"Test 데이터 크기: {X_test.shape}, {y_test.shape}\")\n"
   ]
  },
  {
   "cell_type": "code",
   "execution_count": 3,
   "metadata": {},
   "outputs": [],
   "source": [
    "# Tensor 변환 및 GPU로 이동\n",
    "X_train_tensor = torch.tensor(X_train, dtype=torch.float32).to(device)\n",
    "y_train_tensor = torch.tensor(y_train, dtype=torch.float32).to(device)\n",
    "\n",
    "X_test_tensor = torch.tensor(X_test, dtype=torch.float32).to(device)\n",
    "y_test_tensor = torch.tensor(y_test, dtype=torch.float32).to(device)"
   ]
  },
  {
   "cell_type": "code",
   "execution_count": 4,
   "metadata": {},
   "outputs": [
    {
     "name": "stderr",
     "output_type": "stream",
     "text": [
      "c:\\Users\\user\\anaconda3\\envs\\py3_11\\Lib\\site-packages\\torch\\nn\\modules\\rnn.py:123: UserWarning: dropout option adds dropout after all but last recurrent layer, so non-zero dropout expects num_layers greater than 1, but got dropout=0.5 and num_layers=1\n",
      "  warnings.warn(\n"
     ]
    },
    {
     "name": "stdout",
     "output_type": "stream",
     "text": [
      "Params: {'num_layers': 1, 'learning_rate': 0.01, 'hidden_size': 256, 'dropout': 0.5, 'batch_size': 32}, Loss: 0.3237\n",
      "Params: {'num_layers': 3, 'learning_rate': 0.001, 'hidden_size': 512, 'dropout': 0.2, 'batch_size': 32}, Loss: 0.3308\n",
      "Params: {'num_layers': 3, 'learning_rate': 0.01, 'hidden_size': 512, 'dropout': 0.0, 'batch_size': 16}, Loss: 1.0077\n",
      "Params: {'num_layers': 3, 'learning_rate': 0.01, 'hidden_size': 64, 'dropout': 0.0, 'batch_size': 32}, Loss: 0.2995\n",
      "Params: {'num_layers': 2, 'learning_rate': 0.0001, 'hidden_size': 128, 'dropout': 0.2, 'batch_size': 64}, Loss: 0.4845\n",
      "Params: {'num_layers': 2, 'learning_rate': 0.01, 'hidden_size': 32, 'dropout': 0.2, 'batch_size': 16}, Loss: 0.2522\n",
      "Params: {'num_layers': 4, 'learning_rate': 0.001, 'hidden_size': 32, 'dropout': 0.2, 'batch_size': 16}, Loss: 0.3864\n",
      "Params: {'num_layers': 2, 'learning_rate': 0.001, 'hidden_size': 128, 'dropout': 0.5, 'batch_size': 16}, Loss: 0.3242\n",
      "Params: {'num_layers': 1, 'learning_rate': 0.01, 'hidden_size': 512, 'dropout': 0.2, 'batch_size': 32}, Loss: 2.0863\n",
      "Params: {'num_layers': 3, 'learning_rate': 0.01, 'hidden_size': 128, 'dropout': 0.0, 'batch_size': 64}, Loss: 0.6078\n",
      "Params: {'num_layers': 3, 'learning_rate': 0.0001, 'hidden_size': 256, 'dropout': 0.5, 'batch_size': 128}, Loss: 0.5584\n",
      "Params: {'num_layers': 1, 'learning_rate': 0.01, 'hidden_size': 128, 'dropout': 0.2, 'batch_size': 64}, Loss: 0.3765\n"
     ]
    },
    {
     "name": "stderr",
     "output_type": "stream",
     "text": [
      "c:\\Users\\user\\anaconda3\\envs\\py3_11\\Lib\\site-packages\\torch\\nn\\modules\\rnn.py:123: UserWarning: dropout option adds dropout after all but last recurrent layer, so non-zero dropout expects num_layers greater than 1, but got dropout=0.2 and num_layers=1\n",
      "  warnings.warn(\n"
     ]
    },
    {
     "name": "stdout",
     "output_type": "stream",
     "text": [
      "Params: {'num_layers': 4, 'learning_rate': 0.001, 'hidden_size': 256, 'dropout': 0.0, 'batch_size': 16}, Loss: 0.2868\n",
      "Params: {'num_layers': 2, 'learning_rate': 0.01, 'hidden_size': 256, 'dropout': 0.2, 'batch_size': 16}, Loss: 0.4762\n",
      "Params: {'num_layers': 3, 'learning_rate': 0.0001, 'hidden_size': 32, 'dropout': 0.2, 'batch_size': 64}, Loss: 0.5552\n",
      "Params: {'num_layers': 1, 'learning_rate': 0.01, 'hidden_size': 128, 'dropout': 0.5, 'batch_size': 32}, Loss: 0.2851\n",
      "Params: {'num_layers': 3, 'learning_rate': 0.001, 'hidden_size': 128, 'dropout': 0.2, 'batch_size': 16}, Loss: 0.3375\n"
     ]
    },
    {
     "name": "stderr",
     "output_type": "stream",
     "text": [
      "c:\\Users\\user\\anaconda3\\envs\\py3_11\\Lib\\site-packages\\torch\\nn\\modules\\rnn.py:123: UserWarning: dropout option adds dropout after all but last recurrent layer, so non-zero dropout expects num_layers greater than 1, but got dropout=0.5 and num_layers=1\n",
      "  warnings.warn(\n"
     ]
    },
    {
     "name": "stdout",
     "output_type": "stream",
     "text": [
      "Params: {'num_layers': 4, 'learning_rate': 0.001, 'hidden_size': 128, 'dropout': 0.2, 'batch_size': 128}, Loss: 0.5485\n",
      "Params: {'num_layers': 4, 'learning_rate': 0.01, 'hidden_size': 64, 'dropout': 0.2, 'batch_size': 32}, Loss: 0.2886\n",
      "Params: {'num_layers': 2, 'learning_rate': 0.0001, 'hidden_size': 128, 'dropout': 0.0, 'batch_size': 32}, Loss: 0.3986\n",
      "최적 파라미터: {'num_layers': 2, 'learning_rate': 0.01, 'hidden_size': 32, 'dropout': 0.2, 'batch_size': 16}, 손실: 0.2522\n"
     ]
    }
   ],
   "source": [
    "# LSTM 모델 정의\n",
    "class LSTMModel(nn.Module):\n",
    "    def __init__(self, input_size, hidden_size, num_layers, output_size, dropout):\n",
    "        super(LSTMModel, self).__init__()\n",
    "        self.lstm = nn.LSTM(input_size, hidden_size, num_layers, batch_first=True, dropout=dropout)\n",
    "        self.fc = nn.Linear(hidden_size, output_size)\n",
    "\n",
    "    def forward(self, x):\n",
    "        out, _ = self.lstm(x)\n",
    "        out = self.fc(out[:, -1, :])  # 마지막 타임스텝의 출력\n",
    "        return out\n",
    "\n",
    "# 하이퍼파라미터 샘플링 범위\n",
    "param_dist = {\n",
    "    'hidden_size': [32, 64, 128, 256, 512],\n",
    "    'num_layers': [1, 2, 3, 4],\n",
    "    'learning_rate': [0.001, 0.01, 0.0001],\n",
    "    'batch_size': [16, 32, 64, 128],\n",
    "    'dropout': [0.0, 0.2, 0.5]\n",
    "}\n",
    "\n",
    "# 랜덤 샘플링\n",
    "n_iter = 20\n",
    "random_params = list(ParameterSampler(param_dist, n_iter=n_iter, random_state=42))\n",
    "\n",
    "# 랜덤 서치 실행\n",
    "best_loss = float('inf')\n",
    "best_params = None\n",
    "\n",
    "for params in random_params:\n",
    "    hidden_size = params['hidden_size']\n",
    "    num_layers = params['num_layers']\n",
    "    learning_rate = params['learning_rate']\n",
    "    batch_size = params['batch_size']\n",
    "    dropout = params['dropout']\n",
    "\n",
    "    # 모델 초기화\n",
    "    model = LSTMModel(\n",
    "        input_size=X_train.shape[2],\n",
    "        hidden_size=hidden_size,\n",
    "        num_layers=num_layers,\n",
    "        output_size=2,\n",
    "        dropout=dropout\n",
    "    ).to(device)\n",
    "\n",
    "    criterion = nn.MSELoss()\n",
    "    optimizer = optim.Adam(model.parameters(), lr=learning_rate)\n",
    "\n",
    "    # 배치 학습\n",
    "    model.train()\n",
    "    train_loss = 0.0\n",
    "    for i in range(0, len(X_train_tensor), batch_size):\n",
    "        X_batch = X_train_tensor[i:i+batch_size]\n",
    "        y_batch = y_train_tensor[i:i+batch_size]\n",
    "\n",
    "        optimizer.zero_grad()\n",
    "        outputs = model(X_batch)\n",
    "        loss = criterion(outputs, y_batch)\n",
    "        loss.backward()\n",
    "        optimizer.step()\n",
    "\n",
    "        train_loss += loss.item()\n",
    "\n",
    "    # 평균 손실 계산\n",
    "    avg_loss = train_loss / (len(X_train_tensor) // batch_size)\n",
    "    print(f\"Params: {params}, Loss: {avg_loss:.4f}\")\n",
    "\n",
    "    # 최적 파라미터 저장\n",
    "    if avg_loss < best_loss:\n",
    "        best_loss = avg_loss\n",
    "        best_params = params\n",
    "\n",
    "print(f\"최적 파라미터: {best_params}, 손실: {best_loss:.4f}\")"
   ]
  },
  {
   "cell_type": "code",
   "execution_count": 5,
   "metadata": {},
   "outputs": [],
   "source": [
    "# 최적 파라미터\n",
    "best_params = {'num_layers': 2, 'learning_rate': 0.01, 'hidden_size': 32, 'dropout': 0.2, 'batch_size': 16}\n",
    "\n",
    "best_model = LSTMModel(\n",
    "    input_size=X_train.shape[2],\n",
    "    hidden_size=best_params['hidden_size'],\n",
    "    num_layers=best_params['num_layers'],\n",
    "    output_size=2,\n",
    "    dropout=best_params['dropout']\n",
    ").to(device)\n",
    "\n",
    "criterion = nn.SmoothL1Loss()\n",
    "optimizer = optim.Adam(best_model.parameters(), lr=best_params['learning_rate'])\n",
    "\n"
   ]
  },
  {
   "cell_type": "code",
   "execution_count": 6,
   "metadata": {},
   "outputs": [
    {
     "name": "stdout",
     "output_type": "stream",
     "text": [
      "Epoch [1/100], Loss: 0.1163\n",
      "Epoch [2/100], Loss: 0.2116\n",
      "Epoch [3/100], Loss: 0.2172\n",
      "Epoch [4/100], Loss: 0.2103\n",
      "Epoch [5/100], Loss: 0.1167\n",
      "Epoch [6/100], Loss: 0.0931\n",
      "Epoch [7/100], Loss: 0.0623\n",
      "Epoch [8/100], Loss: 0.0779\n",
      "Epoch [9/100], Loss: 0.0992\n",
      "Epoch [10/100], Loss: 0.0902\n",
      "Epoch [11/100], Loss: 0.0598\n",
      "Epoch [12/100], Loss: 0.0755\n",
      "Epoch [13/100], Loss: 0.0423\n",
      "Epoch [14/100], Loss: 0.0214\n",
      "Epoch [15/100], Loss: 0.0464\n",
      "Epoch [16/100], Loss: 0.0538\n",
      "Epoch [17/100], Loss: 0.0275\n",
      "Epoch [18/100], Loss: 0.0210\n",
      "Epoch [19/100], Loss: 0.0525\n",
      "Epoch [20/100], Loss: 0.0567\n",
      "Epoch [21/100], Loss: 0.0422\n",
      "Epoch [22/100], Loss: 0.0256\n",
      "Epoch [23/100], Loss: 0.0244\n",
      "Epoch [24/100], Loss: 0.0372\n",
      "Epoch [25/100], Loss: 0.0403\n",
      "Epoch [26/100], Loss: 0.0247\n",
      "Epoch [27/100], Loss: 0.0141\n",
      "Epoch [28/100], Loss: 0.0165\n",
      "Epoch [29/100], Loss: 0.0157\n",
      "Epoch [30/100], Loss: 0.0194\n",
      "Epoch [31/100], Loss: 0.0257\n",
      "Epoch [32/100], Loss: 0.0244\n",
      "Epoch [33/100], Loss: 0.0229\n",
      "Epoch [34/100], Loss: 0.0233\n",
      "Epoch [35/100], Loss: 0.0280\n",
      "Epoch [36/100], Loss: 0.0259\n",
      "Epoch [37/100], Loss: 0.0151\n",
      "Epoch [38/100], Loss: 0.0137\n",
      "Epoch [39/100], Loss: 0.0113\n",
      "Epoch [40/100], Loss: 0.0158\n",
      "Epoch [41/100], Loss: 0.0160\n",
      "Epoch [42/100], Loss: 0.0138\n",
      "Epoch [43/100], Loss: 0.0193\n",
      "Epoch [44/100], Loss: 0.0213\n",
      "Epoch [45/100], Loss: 0.0186\n",
      "Epoch [46/100], Loss: 0.0168\n",
      "Epoch [47/100], Loss: 0.0259\n",
      "Epoch [48/100], Loss: 0.0196\n",
      "Epoch [49/100], Loss: 0.0148\n",
      "Epoch [50/100], Loss: 0.0118\n",
      "Epoch [51/100], Loss: 0.0151\n",
      "Epoch [52/100], Loss: 0.0273\n",
      "Epoch [53/100], Loss: 0.0236\n",
      "Epoch [54/100], Loss: 0.0201\n",
      "Epoch [55/100], Loss: 0.0303\n",
      "Epoch [56/100], Loss: 0.0202\n",
      "Epoch [57/100], Loss: 0.0113\n",
      "Epoch [58/100], Loss: 0.0087\n",
      "Epoch [59/100], Loss: 0.0072\n",
      "Epoch [60/100], Loss: 0.0068\n",
      "Epoch [61/100], Loss: 0.0071\n",
      "Epoch [62/100], Loss: 0.0123\n",
      "Epoch [63/100], Loss: 0.0154\n",
      "Epoch [64/100], Loss: 0.0172\n",
      "Epoch [65/100], Loss: 0.0257\n",
      "Epoch [66/100], Loss: 0.0249\n",
      "Epoch [67/100], Loss: 0.0176\n",
      "Epoch [68/100], Loss: 0.0261\n",
      "Epoch [69/100], Loss: 0.0218\n",
      "Epoch [70/100], Loss: 0.0174\n",
      "Epoch [71/100], Loss: 0.0155\n",
      "Epoch [72/100], Loss: 0.0145\n",
      "Epoch [73/100], Loss: 0.0259\n",
      "Epoch [74/100], Loss: 0.0219\n",
      "Epoch [75/100], Loss: 0.0143\n",
      "Epoch [76/100], Loss: 0.0117\n",
      "Epoch [77/100], Loss: 0.0111\n",
      "Epoch [78/100], Loss: 0.0088\n",
      "Epoch [79/100], Loss: 0.0082\n",
      "Epoch [80/100], Loss: 0.0071\n",
      "Epoch [81/100], Loss: 0.0069\n",
      "Epoch [82/100], Loss: 0.0081\n",
      "Epoch [83/100], Loss: 0.0077\n",
      "Epoch [84/100], Loss: 0.0067\n",
      "Epoch [85/100], Loss: 0.0078\n",
      "Epoch [86/100], Loss: 0.0112\n",
      "Epoch [87/100], Loss: 0.0120\n",
      "Epoch [88/100], Loss: 0.0124\n",
      "Epoch [89/100], Loss: 0.0208\n",
      "Epoch [90/100], Loss: 0.0200\n",
      "Epoch [91/100], Loss: 0.0152\n",
      "Epoch [92/100], Loss: 0.0123\n",
      "Epoch [93/100], Loss: 0.0133\n",
      "Epoch [94/100], Loss: 0.0221\n",
      "Epoch [95/100], Loss: 0.0204\n",
      "Epoch [96/100], Loss: 0.0139\n",
      "Epoch [97/100], Loss: 0.0142\n",
      "Epoch [98/100], Loss: 0.0130\n",
      "Epoch [99/100], Loss: 0.0090\n",
      "Epoch [100/100], Loss: 0.0088\n"
     ]
    }
   ],
   "source": [
    "# 학습 루프\n",
    "num_epochs = 100\n",
    "train_loss_list = []\n",
    "\n",
    "best_model.train()\n",
    "for epoch in range(num_epochs):\n",
    "    train_loss = 0.0\n",
    "    for i in range(0, len(X_train_tensor), best_params['batch_size']):\n",
    "        X_batch = X_train_tensor[i:i+best_params['batch_size']]\n",
    "        y_batch = y_train_tensor[i:i+best_params['batch_size']]\n",
    "\n",
    "        optimizer.zero_grad()\n",
    "        outputs = best_model(X_batch)\n",
    "        loss = criterion(outputs, y_batch)\n",
    "        loss.backward()\n",
    "        optimizer.step()\n",
    "\n",
    "        train_loss += loss.item()\n",
    "\n",
    "    avg_train_loss = train_loss / (len(X_train_tensor) // best_params['batch_size'])\n",
    "    train_loss_list.append(avg_train_loss)\n",
    "    print(f\"Epoch [{epoch+1}/{num_epochs}], Loss: {avg_train_loss:.4f}\")"
   ]
  },
  {
   "cell_type": "code",
   "execution_count": 7,
   "metadata": {},
   "outputs": [
    {
     "name": "stdout",
     "output_type": "stream",
     "text": [
      "테스트 손실(MSE): 0.6210\n"
     ]
    }
   ],
   "source": [
    "# 테스트 데이터 평가\n",
    "best_model.eval()\n",
    "test_loss = 0.0\n",
    "with torch.no_grad():\n",
    "    y_pred = best_model(X_test_tensor).detach().cpu().numpy()  # 예측 값\n",
    "    y_true = y_test  # 실제 값\n",
    "\n",
    "    for i in range(0, len(X_test_tensor), best_params['batch_size']):\n",
    "        X_batch = X_test_tensor[i:i+best_params['batch_size']]\n",
    "        y_batch = y_test_tensor[i:i+best_params['batch_size']]\n",
    "        outputs = best_model(X_batch)\n",
    "        loss = criterion(outputs, y_batch)\n",
    "        test_loss += loss.item()\n",
    "\n",
    "avg_test_loss = test_loss / (len(X_test_tensor) // best_params['batch_size'])\n",
    "print(f\"테스트 손실(MSE): {avg_test_loss:.4f}\")\n"
   ]
  },
  {
   "cell_type": "code",
   "execution_count": 8,
   "metadata": {},
   "outputs": [],
   "source": [
    "# 역스케일링\n",
    "y_test_original = scaler.inverse_transform(y_test)\n",
    "y_pred_original = scaler.inverse_transform(y_pred)"
   ]
  },
  {
   "cell_type": "code",
   "execution_count": 9,
   "metadata": {},
   "outputs": [
    {
     "name": "stdout",
     "output_type": "stream",
     "text": [
      "test크기:(126, 2)\n",
      "pred크기:(126, 2)\n"
     ]
    }
   ],
   "source": [
    "# 역스케일링\n",
    "print(f\"test크기:{y_test_original.shape}\")\n",
    "print(f\"pred크기:{y_pred_original.shape}\")\n"
   ]
  },
  {
   "cell_type": "code",
   "execution_count": 10,
   "metadata": {},
   "outputs": [
    {
     "name": "stdout",
     "output_type": "stream",
     "text": [
      "    True Lat    True Lon  Predicted Lat  Predicted Lon\n",
      "0  34.962658  129.407333      34.965290     129.409454\n",
      "1  34.962097  129.407104      34.965031     129.409378\n",
      "2  34.961597  129.406860      34.964733     129.409286\n",
      "3  34.961105  129.406586      34.964439     129.409210\n",
      "4  34.960632  129.406281      34.964123     129.409119\n"
     ]
    }
   ],
   "source": [
    "comparison = pd.DataFrame({\n",
    "    'True Lat': y_test_original[:, 0],\n",
    "    'True Lon': y_test_original[:, 1],\n",
    "    'Predicted Lat': y_pred_original[:, 0],\n",
    "    'Predicted Lon': y_pred_original[:, 1]\n",
    "})\n",
    "print(comparison.head())"
   ]
  },
  {
   "cell_type": "code",
   "execution_count": 11,
   "metadata": {},
   "outputs": [
    {
     "data": {
      "image/png": "[encoded data removed]",
      "text/plain": [
       "<Figure size 1000x600 with 1 Axes>"
      ]
     },
     "metadata": {},
     "output_type": "display_data"
    }
   ],
   "source": [
    "import matplotlib.pyplot as plt\n",
    "\n",
    "plt.figure(figsize=(10, 6))\n",
    "plt.scatter(comparison['True Lon'], comparison['True Lat'], label='True Coordinates', alpha=0.7, c='blue', s=20)\n",
    "plt.scatter(comparison['Predicted Lon'], comparison['Predicted Lat'], label='Predicted Coordinates', alpha=0.7, c='red', s=20)\n",
    "plt.xlabel('Longitude')\n",
    "plt.ylabel('Latitude')\n",
    "plt.title('True vs Predicted Coordinates')\n",
    "plt.legend()\n",
    "plt.show()\n"
   ]
  },
  {
   "cell_type": "code",
   "execution_count": 12,
   "metadata": {},
   "outputs": [
    {
     "name": "stdout",
     "output_type": "stream",
     "text": [
      "                lat           lon\n",
      "count  6.320000e+02  6.320000e+02\n",
      "mean  -1.011849e-14  1.580733e-13\n",
      "std    1.000792e+00  1.000792e+00\n",
      "min   -2.297867e+00 -3.167722e+00\n",
      "25%   -6.295769e-01 -3.217558e-02\n",
      "50%    1.362519e-01  8.542566e-02\n",
      "75%    7.277875e-01  6.508217e-01\n",
      "max    2.198715e+00  1.034562e+00\n"
     ]
    },
    {
     "data": {
      "image/png": "[encoded data removed]",
      "text/plain": [
       "<Figure size 640x480 with 1 Axes>"
      ]
     },
     "metadata": {},
     "output_type": "display_data"
    }
   ],
   "source": [
    "# 타겟 변수의 분포 확인\n",
    "print(data[['lat', 'lon']].describe())\n",
    "\n",
    "# 타겟 변수의 시각화\n",
    "import matplotlib.pyplot as plt\n",
    "plt.scatter(data['lon'], data['lat'], alpha=0.5)\n",
    "plt.xlabel('Longitude')\n",
    "plt.ylabel('Latitude')\n",
    "plt.title('Target Variable Distribution')\n",
    "plt.show()\n"
   ]
  },
  {
   "cell_type": "code",
   "execution_count": 13,
   "metadata": {},
   "outputs": [
    {
     "name": "stdout",
     "output_type": "stream",
     "text": [
      "원 데이터 (첫 5개):\n",
      "[[2.19871459 0.20346102]\n",
      " [2.13926907 0.17730997]\n",
      " [2.00843444 0.07601129]\n",
      " [2.00449148 0.07312421]\n",
      " [1.91665664 0.00923198]]\n",
      "스케일링된 데이터 (첫 5개):\n",
      "[[ 1.9122046   0.00609386]\n",
      " [ 1.8718144  -0.02392754]\n",
      " [ 1.8550676  -0.03627083]\n",
      " [ 1.8437047  -0.04463917]\n",
      " [ 1.8305925  -0.05447196]]\n",
      "역스케일링된 데이터 (첫 5개):\n",
      "[[ 35.340137 129.4093  ]\n",
      " [ 35.334503 129.40787 ]\n",
      " [ 35.33217  129.40729 ]\n",
      " [ 35.33058  129.40688 ]\n",
      " [ 35.328754 129.40642 ]]\n"
     ]
    }
   ],
   "source": [
    "# 원 데이터\n",
    "print(f\"원 데이터 (첫 5개):\\n{data[target_columns].head().values}\")\n",
    "\n",
    "# 스케일링된 데이터\n",
    "print(f\"스케일링된 데이터 (첫 5개):\\n{y[:5]}\")\n",
    "\n",
    "# 역스케일링된 데이터\n",
    "y_inverse = scaler.inverse_transform(y[:5])\n",
    "print(f\"역스케일링된 데이터 (첫 5개):\\n{y_inverse}\")"
   ]
  }
 ],
 "metadata": {
  "kernelspec": {
   "display_name": "py3_11",
   "language": "python",
   "name": "python3"
  },
  "language_info": {
   "codemirror_mode": {
    "name": "ipython",
    "version": 3
   },
   "file_extension": ".py",
   "mimetype": "text/x-python",
   "name": "python",
   "nbconvert_exporter": "python",
   "pygments_lexer": "ipython3",
   "version": "3.11.11"
  }
 },
 "nbformat": 4,
 "nbformat_minor": 2
}
