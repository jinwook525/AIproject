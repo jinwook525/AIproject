{
 "cells": [
  {
   "cell_type": "code",
   "execution_count": 1,
   "metadata": {},
   "outputs": [
    {
     "name": "stdout",
     "output_type": "stream",
     "text": [
      "Using device: cuda\n",
      "X 크기: (36824, 5, 6), y 크기: (36824, 2)\n"
     ]
    }
   ],
   "source": [
    "import numpy as np\n",
    "import pandas as pd\n",
    "import torch\n",
    "import torch.nn as nn\n",
    "import torch.optim as optim\n",
    "from sklearn.preprocessing import StandardScaler ,MinMaxScaler\n",
    "from sklearn.model_selection import ParameterSampler\n",
    "\n",
    "# GPU 장치 확인 및 설정\n",
    "device = torch.device('cuda' if torch.cuda.is_available() else 'cpu')\n",
    "print(f\"Using device: {device}\")\n",
    "\n",
    "# 데이터 로드\n",
    "data = pd.read_csv('../document/filter_ship.csv')\n",
    "\n",
    "# created_at 변환 및 time_diff 계산\n",
    "data[\"created_at\"] = pd.to_datetime(data[\"created_at\"])\n",
    "data[\"time_diff\"] = data[\"created_at\"].diff().dt.total_seconds().fillna(0)\n",
    "\n",
    "# 독립 변수와 타겟 변수 설정\n",
    "selected_columns = [\"heading\", \"course\", \"speed\", \"time_diff\", \"lat\", \"lon\"]  # 위도와 경도 포함\n",
    "target_columns = [\"lat\", \"lon\"]  # 타겟 변수\n",
    "\n",
    "# 위도와 경도만 스케일링\n",
    "scaler = StandardScaler()\n",
    "data[[\"lat\", \"lon\"]] = scaler.fit_transform(data[[\"lat\", \"lon\"]])\n",
    "\n",
    "# 시계열 데이터 변환\n",
    "time_steps = 5\n",
    "X, y = [], []\n",
    "for i in range(len(data) - time_steps):\n",
    "    # 선택된 독립 변수만 사용\n",
    "    X.append(data.iloc[i:i + time_steps][selected_columns].values)\n",
    "    y.append(data.iloc[i + time_steps][target_columns].values)\n",
    "\n",
    "X, y = np.array(X, dtype=np.float32), np.array(y, dtype=np.float32)\n",
    "\n",
    "# 결과 출력\n",
    "print(f\"X 크기: {X.shape}, y 크기: {y.shape}\")\n"
   ]
  },
  {
   "cell_type": "code",
   "execution_count": 2,
   "metadata": {},
   "outputs": [
    {
     "name": "stdout",
     "output_type": "stream",
     "text": [
      "Train 데이터 크기: (29459, 5, 6), (29459, 2)\n",
      "Test 데이터 크기: (7365, 5, 6), (7365, 2)\n"
     ]
    }
   ],
   "source": [
    "# 데이터 분할 (학습/테스트만 나누기)\n",
    "train_size = int(len(X) * 0.8)\n",
    "X_train, X_test = X[:train_size], X[train_size:]\n",
    "y_train, y_test = y[:train_size], y[train_size:]\n",
    "\n",
    "print(f\"Train 데이터 크기: {X_train.shape}, {y_train.shape}\")\n",
    "print(f\"Test 데이터 크기: {X_test.shape}, {y_test.shape}\")\n"
   ]
  },
  {
   "cell_type": "code",
   "execution_count": 3,
   "metadata": {},
   "outputs": [],
   "source": [
    "# Tensor 변환 및 GPU로 이동\n",
    "X_train_tensor = torch.tensor(X_train, dtype=torch.float32).to(device)\n",
    "y_train_tensor = torch.tensor(y_train, dtype=torch.float32).to(device)\n",
    "\n",
    "X_test_tensor = torch.tensor(X_test, dtype=torch.float32).to(device)\n",
    "y_test_tensor = torch.tensor(y_test, dtype=torch.float32).to(device)"
   ]
  },
  {
   "cell_type": "code",
   "execution_count": 4,
   "metadata": {},
   "outputs": [
    {
     "name": "stderr",
     "output_type": "stream",
     "text": [
      "c:\\Users\\user\\anaconda3\\envs\\py3_11\\Lib\\site-packages\\torch\\nn\\modules\\rnn.py:123: UserWarning: dropout option adds dropout after all but last recurrent layer, so non-zero dropout expects num_layers greater than 1, but got dropout=0.5 and num_layers=1\n",
      "  warnings.warn(\n"
     ]
    },
    {
     "name": "stdout",
     "output_type": "stream",
     "text": [
      "Params: {'num_layers': 1, 'learning_rate': 0.01, 'hidden_size': 256, 'dropout': 0.5, 'batch_size': 32}, Loss: 0.0406\n",
      "Params: {'num_layers': 3, 'learning_rate': 0.001, 'hidden_size': 512, 'dropout': 0.2, 'batch_size': 32}, Loss: 0.0240\n",
      "Params: {'num_layers': 3, 'learning_rate': 0.01, 'hidden_size': 512, 'dropout': 0.0, 'batch_size': 16}, Loss: 0.0297\n",
      "Params: {'num_layers': 3, 'learning_rate': 0.01, 'hidden_size': 64, 'dropout': 0.0, 'batch_size': 32}, Loss: 0.0320\n",
      "Params: {'num_layers': 2, 'learning_rate': 0.0001, 'hidden_size': 128, 'dropout': 0.2, 'batch_size': 64}, Loss: 0.5659\n",
      "Params: {'num_layers': 2, 'learning_rate': 0.01, 'hidden_size': 32, 'dropout': 0.2, 'batch_size': 16}, Loss: 0.0074\n",
      "Params: {'num_layers': 4, 'learning_rate': 0.001, 'hidden_size': 32, 'dropout': 0.2, 'batch_size': 16}, Loss: 0.0345\n",
      "Params: {'num_layers': 2, 'learning_rate': 0.001, 'hidden_size': 128, 'dropout': 0.5, 'batch_size': 16}, Loss: 0.0131\n"
     ]
    },
    {
     "name": "stderr",
     "output_type": "stream",
     "text": [
      "c:\\Users\\user\\anaconda3\\envs\\py3_11\\Lib\\site-packages\\torch\\nn\\modules\\rnn.py:123: UserWarning: dropout option adds dropout after all but last recurrent layer, so non-zero dropout expects num_layers greater than 1, but got dropout=0.2 and num_layers=1\n",
      "  warnings.warn(\n"
     ]
    },
    {
     "name": "stdout",
     "output_type": "stream",
     "text": [
      "Params: {'num_layers': 1, 'learning_rate': 0.01, 'hidden_size': 512, 'dropout': 0.2, 'batch_size': 32}, Loss: 0.0227\n",
      "Params: {'num_layers': 3, 'learning_rate': 0.01, 'hidden_size': 128, 'dropout': 0.0, 'batch_size': 64}, Loss: 0.0748\n",
      "Params: {'num_layers': 3, 'learning_rate': 0.0001, 'hidden_size': 256, 'dropout': 0.5, 'batch_size': 128}, Loss: 0.8239\n",
      "Params: {'num_layers': 1, 'learning_rate': 0.01, 'hidden_size': 128, 'dropout': 0.2, 'batch_size': 64}, Loss: 0.0642\n",
      "Params: {'num_layers': 4, 'learning_rate': 0.001, 'hidden_size': 256, 'dropout': 0.0, 'batch_size': 16}, Loss: 0.0102\n",
      "Params: {'num_layers': 2, 'learning_rate': 0.01, 'hidden_size': 256, 'dropout': 0.2, 'batch_size': 16}, Loss: 0.0118\n",
      "Params: {'num_layers': 3, 'learning_rate': 0.0001, 'hidden_size': 32, 'dropout': 0.2, 'batch_size': 64}, Loss: 0.9817\n"
     ]
    },
    {
     "name": "stderr",
     "output_type": "stream",
     "text": [
      "c:\\Users\\user\\anaconda3\\envs\\py3_11\\Lib\\site-packages\\torch\\nn\\modules\\rnn.py:123: UserWarning: dropout option adds dropout after all but last recurrent layer, so non-zero dropout expects num_layers greater than 1, but got dropout=0.5 and num_layers=1\n",
      "  warnings.warn(\n"
     ]
    },
    {
     "name": "stdout",
     "output_type": "stream",
     "text": [
      "Params: {'num_layers': 1, 'learning_rate': 0.01, 'hidden_size': 128, 'dropout': 0.5, 'batch_size': 32}, Loss: 0.0214\n",
      "Params: {'num_layers': 3, 'learning_rate': 0.001, 'hidden_size': 128, 'dropout': 0.2, 'batch_size': 16}, Loss: 0.0197\n",
      "Params: {'num_layers': 4, 'learning_rate': 0.001, 'hidden_size': 128, 'dropout': 0.2, 'batch_size': 128}, Loss: 0.3368\n",
      "Params: {'num_layers': 4, 'learning_rate': 0.01, 'hidden_size': 64, 'dropout': 0.2, 'batch_size': 32}, Loss: 0.0255\n",
      "Params: {'num_layers': 2, 'learning_rate': 0.0001, 'hidden_size': 128, 'dropout': 0.0, 'batch_size': 32}, Loss: 0.1990\n",
      "최적 파라미터: {'num_layers': 2, 'learning_rate': 0.01, 'hidden_size': 32, 'dropout': 0.2, 'batch_size': 16}, 손실: 0.0074\n"
     ]
    }
   ],
   "source": [
    "\n",
    "# LSTM 모델 정의\n",
    "class LSTMModel(nn.Module):\n",
    "    def __init__(self, input_size, hidden_size, num_layers, output_size, dropout):\n",
    "        super(LSTMModel, self).__init__()\n",
    "        self.lstm = nn.LSTM(input_size, hidden_size, num_layers, batch_first=True, dropout=dropout)\n",
    "        self.fc = nn.Linear(hidden_size, output_size)\n",
    "\n",
    "    def forward(self, x):\n",
    "        out, _ = self.lstm(x)\n",
    "        out = self.fc(out[:, -1, :])  # 마지막 타임스텝의 출력\n",
    "        return out\n",
    "\n",
    "# 하이퍼파라미터 샘플링 범위\n",
    "param_dist = {\n",
    "    'hidden_size': [32, 64, 128, 256, 512],\n",
    "    'num_layers': [1, 2, 3, 4],\n",
    "    'learning_rate': [0.001, 0.01, 0.0001],\n",
    "    'batch_size': [16, 32, 64, 128],\n",
    "    'dropout': [0.0, 0.2, 0.5]\n",
    "}\n",
    "\n",
    "# 랜덤 샘플링\n",
    "n_iter = 20\n",
    "random_params = list(ParameterSampler(param_dist, n_iter=n_iter, random_state=42))\n",
    "\n",
    "# 랜덤 서치 실행\n",
    "best_loss = float('inf')\n",
    "best_params = None\n",
    "\n",
    "for params in random_params:\n",
    "    hidden_size = params['hidden_size']\n",
    "    num_layers = params['num_layers']\n",
    "    learning_rate = params['learning_rate']\n",
    "    batch_size = params['batch_size']\n",
    "    dropout = params['dropout']\n",
    "\n",
    "    # 모델 초기화\n",
    "    model = LSTMModel(\n",
    "        input_size=X_train.shape[2],\n",
    "        hidden_size=hidden_size,\n",
    "        num_layers=num_layers,\n",
    "        output_size=2,\n",
    "        dropout=dropout\n",
    "    ).to(device)\n",
    "\n",
    "    criterion = nn.MSELoss()\n",
    "    optimizer = optim.Adam(model.parameters(), lr=learning_rate)\n",
    "\n",
    "    # 배치 학습\n",
    "    model.train()\n",
    "    train_loss = 0.0\n",
    "    for i in range(0, len(X_train_tensor), batch_size):\n",
    "        X_batch = X_train_tensor[i:i+batch_size]\n",
    "        y_batch = y_train_tensor[i:i+batch_size]\n",
    "\n",
    "        optimizer.zero_grad()\n",
    "        outputs = model(X_batch)\n",
    "        loss = criterion(outputs, y_batch)\n",
    "        loss.backward()\n",
    "        optimizer.step()\n",
    "\n",
    "        train_loss += loss.item()\n",
    "\n",
    "    # 평균 손실 계산\n",
    "    avg_loss = train_loss / (len(X_train_tensor) // batch_size)\n",
    "    print(f\"Params: {params}, Loss: {avg_loss:.4f}\")\n",
    "\n",
    "    # 최적 파라미터 저장\n",
    "    if avg_loss < best_loss:\n",
    "        best_loss = avg_loss\n",
    "        best_params = params\n",
    "\n",
    "print(f\"최적 파라미터: {best_params}, 손실: {best_loss:.4f}\")\n"
   ]
  },
  {
   "cell_type": "code",
   "execution_count": 5,
   "metadata": {},
   "outputs": [
    {
     "name": "stdout",
     "output_type": "stream",
     "text": [
      "Stage 1: High Learning Rate Training\n",
      "Stage 1 - Epoch [1/100], Loss: 0.0031\n",
      "Stage 1 - Epoch [2/100], Loss: 0.0079\n",
      "Stage 1 - Epoch [3/100], Loss: 0.0111\n",
      "Stage 1 - Epoch [4/100], Loss: 0.0119\n",
      "Stage 1 - Epoch [5/100], Loss: 0.0102\n",
      "Stage 1 - Epoch [6/100], Loss: 0.0089\n",
      "Stage 1 - Epoch [7/100], Loss: 0.0092\n",
      "Stage 1 - Epoch [8/100], Loss: 0.0093\n",
      "Stage 1 - Epoch [9/100], Loss: 0.0093\n",
      "Stage 1 - Epoch [10/100], Loss: 0.0093\n",
      "Stage 1 - Epoch [11/100], Loss: 0.0091\n",
      "Stage 1 - Epoch [12/100], Loss: 0.0093\n",
      "Stage 1 - Epoch [13/100], Loss: 0.0093\n",
      "Stage 1 - Epoch [14/100], Loss: 0.0093\n",
      "Stage 1 - Epoch [15/100], Loss: 0.0092\n",
      "Stage 1 - Epoch [16/100], Loss: 0.0093\n",
      "Stage 1 - Epoch [17/100], Loss: 0.0093\n",
      "Stage 1 - Epoch [18/100], Loss: 0.0093\n",
      "Stage 1 - Epoch [19/100], Loss: 0.0093\n",
      "Stage 1 - Epoch [20/100], Loss: 0.0093\n",
      "Stage 1 - Epoch [21/100], Loss: 0.0093\n",
      "Stage 1 - Epoch [22/100], Loss: 0.0093\n",
      "Stage 1 - Epoch [23/100], Loss: 0.0093\n",
      "Stage 1 - Epoch [24/100], Loss: 0.0094\n",
      "Stage 1 - Epoch [25/100], Loss: 0.0093\n",
      "Stage 1 - Epoch [26/100], Loss: 0.0093\n",
      "Stage 1 - Epoch [27/100], Loss: 0.0093\n",
      "Stage 1 - Epoch [28/100], Loss: 0.0093\n",
      "Stage 1 - Epoch [29/100], Loss: 0.0093\n",
      "Stage 1 - Epoch [30/100], Loss: 0.0092\n",
      "Stage 1 - Epoch [31/100], Loss: 0.0093\n",
      "Stage 1 - Epoch [32/100], Loss: 0.0093\n",
      "Stage 1 - Epoch [33/100], Loss: 0.0093\n",
      "Stage 1 - Epoch [34/100], Loss: 0.0088\n",
      "Stage 1 - Epoch [35/100], Loss: 0.0092\n",
      "Stage 1 - Epoch [36/100], Loss: 0.0093\n",
      "Stage 1 - Epoch [37/100], Loss: 0.0093\n",
      "Stage 1 - Epoch [38/100], Loss: 0.0093\n",
      "Stage 1 - Epoch [39/100], Loss: 0.0094\n",
      "Stage 1 - Epoch [40/100], Loss: 0.0110\n",
      "Stage 1 - Epoch [41/100], Loss: 0.0119\n",
      "Stage 1 - Epoch [42/100], Loss: 0.0120\n",
      "Stage 1 - Epoch [43/100], Loss: 0.0121\n",
      "Stage 1 - Epoch [44/100], Loss: 0.0121\n",
      "Stage 1 - Epoch [45/100], Loss: 0.0122\n",
      "Stage 1 - Epoch [46/100], Loss: 0.0090\n",
      "Stage 1 - Epoch [47/100], Loss: 0.0092\n",
      "Stage 1 - Epoch [48/100], Loss: 0.0093\n",
      "Stage 1 - Epoch [49/100], Loss: 0.0095\n",
      "Stage 1 - Epoch [50/100], Loss: 0.0091\n",
      "Stage 1 - Epoch [51/100], Loss: 0.0104\n",
      "Stage 1 - Epoch [52/100], Loss: 0.0112\n",
      "Stage 1 - Epoch [53/100], Loss: 0.0118\n",
      "Stage 1 - Epoch [54/100], Loss: 0.0169\n",
      "Stage 1 - Epoch [55/100], Loss: 0.0168\n",
      "Stage 1 - Epoch [56/100], Loss: 0.0118\n",
      "Stage 1 - Epoch [57/100], Loss: 0.0121\n",
      "Stage 1 - Epoch [58/100], Loss: 0.0122\n",
      "Stage 1 - Epoch [59/100], Loss: 0.0122\n",
      "Stage 1 - Epoch [60/100], Loss: 0.0122\n",
      "Stage 1 - Epoch [61/100], Loss: 0.0122\n",
      "Stage 1 - Epoch [62/100], Loss: 0.0122\n",
      "Stage 1 - Epoch [63/100], Loss: 0.0122\n",
      "Stage 1 - Epoch [64/100], Loss: 0.0121\n",
      "Stage 1 - Epoch [65/100], Loss: 0.0117\n",
      "Stage 1 - Epoch [66/100], Loss: 0.0120\n",
      "Stage 1 - Epoch [67/100], Loss: 0.0121\n",
      "Stage 1 - Epoch [68/100], Loss: 0.0121\n",
      "Stage 1 - Epoch [69/100], Loss: 0.0122\n",
      "Stage 1 - Epoch [70/100], Loss: 0.0122\n",
      "Stage 1 - Epoch [71/100], Loss: 0.0122\n",
      "Stage 1 - Epoch [72/100], Loss: 0.0122\n",
      "Stage 1 - Epoch [73/100], Loss: 0.0122\n",
      "Stage 1 - Epoch [74/100], Loss: 0.0122\n",
      "Stage 1 - Epoch [75/100], Loss: 0.0122\n",
      "Stage 1 - Epoch [76/100], Loss: 0.0122\n",
      "Stage 1 - Epoch [77/100], Loss: 0.0122\n",
      "Stage 1 - Epoch [78/100], Loss: 0.0117\n",
      "Stage 1 - Epoch [79/100], Loss: 0.0121\n",
      "Stage 1 - Epoch [80/100], Loss: 0.0122\n",
      "Stage 1 - Epoch [81/100], Loss: 0.0122\n",
      "Stage 1 - Epoch [82/100], Loss: 0.0122\n",
      "Stage 1 - Epoch [83/100], Loss: 0.0122\n",
      "Stage 1 - Epoch [84/100], Loss: 0.0122\n",
      "Stage 1 - Epoch [85/100], Loss: 0.0122\n",
      "Stage 1 - Epoch [86/100], Loss: 0.0122\n",
      "Stage 1 - Epoch [87/100], Loss: 0.0122\n",
      "Stage 1 - Epoch [88/100], Loss: 0.0122\n",
      "Stage 1 - Epoch [89/100], Loss: 0.0122\n",
      "Stage 1 - Epoch [90/100], Loss: 0.0122\n",
      "Stage 1 - Epoch [91/100], Loss: 0.0122\n",
      "Stage 1 - Epoch [92/100], Loss: 0.0122\n",
      "Stage 1 - Epoch [93/100], Loss: 0.0122\n",
      "Stage 1 - Epoch [94/100], Loss: 0.0122\n",
      "Stage 1 - Epoch [95/100], Loss: 0.0122\n",
      "Stage 1 - Epoch [96/100], Loss: 0.0122\n",
      "Stage 1 - Epoch [97/100], Loss: 0.0122\n",
      "Stage 1 - Epoch [98/100], Loss: 0.0122\n",
      "Stage 1 - Epoch [99/100], Loss: 0.0122\n",
      "Stage 1 - Epoch [100/100], Loss: 0.0122\n",
      "\n",
      "Stage 2: Low Learning Rate Training\n",
      "Stage 2 - Epoch [1/100], Loss: 0.4653\n",
      "Stage 2 - Epoch [2/100], Loss: 0.3191\n",
      "Stage 2 - Epoch [3/100], Loss: 0.2599\n",
      "Stage 2 - Epoch [4/100], Loss: 0.1528\n",
      "Stage 2 - Epoch [5/100], Loss: 0.0811\n",
      "Stage 2 - Epoch [6/100], Loss: 0.0393\n",
      "Stage 2 - Epoch [7/100], Loss: 0.0255\n",
      "Stage 2 - Epoch [8/100], Loss: 0.0200\n",
      "Stage 2 - Epoch [9/100], Loss: 0.0159\n",
      "Stage 2 - Epoch [10/100], Loss: 0.0136\n",
      "Stage 2 - Epoch [11/100], Loss: 0.0117\n",
      "Stage 2 - Epoch [12/100], Loss: 0.0104\n",
      "Stage 2 - Epoch [13/100], Loss: 0.0096\n",
      "Stage 2 - Epoch [14/100], Loss: 0.0090\n",
      "Stage 2 - Epoch [15/100], Loss: 0.0085\n",
      "Stage 2 - Epoch [16/100], Loss: 0.0080\n",
      "Stage 2 - Epoch [17/100], Loss: 0.0076\n",
      "Stage 2 - Epoch [18/100], Loss: 0.0073\n",
      "Stage 2 - Epoch [19/100], Loss: 0.0071\n",
      "Stage 2 - Epoch [20/100], Loss: 0.0068\n",
      "Stage 2 - Epoch [21/100], Loss: 0.0065\n",
      "Stage 2 - Epoch [22/100], Loss: 0.0062\n",
      "Stage 2 - Epoch [23/100], Loss: 0.0059\n",
      "Stage 2 - Epoch [24/100], Loss: 0.0057\n",
      "Stage 2 - Epoch [25/100], Loss: 0.0055\n",
      "Stage 2 - Epoch [26/100], Loss: 0.0055\n",
      "Stage 2 - Epoch [27/100], Loss: 0.0053\n",
      "Stage 2 - Epoch [28/100], Loss: 0.0052\n",
      "Stage 2 - Epoch [29/100], Loss: 0.0050\n",
      "Stage 2 - Epoch [30/100], Loss: 0.0048\n",
      "Stage 2 - Epoch [31/100], Loss: 0.0047\n",
      "Stage 2 - Epoch [32/100], Loss: 0.0046\n",
      "Stage 2 - Epoch [33/100], Loss: 0.0046\n",
      "Stage 2 - Epoch [34/100], Loss: 0.0045\n",
      "Stage 2 - Epoch [35/100], Loss: 0.0044\n",
      "Stage 2 - Epoch [36/100], Loss: 0.0044\n",
      "Stage 2 - Epoch [37/100], Loss: 0.0043\n",
      "Stage 2 - Epoch [38/100], Loss: 0.0042\n",
      "Stage 2 - Epoch [39/100], Loss: 0.0041\n",
      "Stage 2 - Epoch [40/100], Loss: 0.0040\n",
      "Stage 2 - Epoch [41/100], Loss: 0.0040\n",
      "Stage 2 - Epoch [42/100], Loss: 0.0039\n",
      "Stage 2 - Epoch [43/100], Loss: 0.0038\n",
      "Stage 2 - Epoch [44/100], Loss: 0.0038\n",
      "Stage 2 - Epoch [45/100], Loss: 0.0037\n",
      "Stage 2 - Epoch [46/100], Loss: 0.0036\n",
      "Stage 2 - Epoch [47/100], Loss: 0.0036\n",
      "Stage 2 - Epoch [48/100], Loss: 0.0035\n",
      "Stage 2 - Epoch [49/100], Loss: 0.0034\n",
      "Stage 2 - Epoch [50/100], Loss: 0.0034\n",
      "Stage 2 - Epoch [51/100], Loss: 0.0034\n",
      "Stage 2 - Epoch [52/100], Loss: 0.0033\n",
      "Stage 2 - Epoch [53/100], Loss: 0.0032\n",
      "Stage 2 - Epoch [54/100], Loss: 0.0032\n",
      "Stage 2 - Epoch [55/100], Loss: 0.0032\n",
      "Stage 2 - Epoch [56/100], Loss: 0.0031\n",
      "Stage 2 - Epoch [57/100], Loss: 0.0031\n",
      "Stage 2 - Epoch [58/100], Loss: 0.0031\n",
      "Stage 2 - Epoch [59/100], Loss: 0.0030\n",
      "Stage 2 - Epoch [60/100], Loss: 0.0029\n",
      "Stage 2 - Epoch [61/100], Loss: 0.0028\n",
      "Stage 2 - Epoch [62/100], Loss: 0.0028\n",
      "Stage 2 - Epoch [63/100], Loss: 0.0027\n",
      "Stage 2 - Epoch [64/100], Loss: 0.0027\n",
      "Stage 2 - Epoch [65/100], Loss: 0.0026\n",
      "Stage 2 - Epoch [66/100], Loss: 0.0026\n",
      "Stage 2 - Epoch [67/100], Loss: 0.0026\n",
      "Stage 2 - Epoch [68/100], Loss: 0.0026\n",
      "Stage 2 - Epoch [69/100], Loss: 0.0025\n",
      "Stage 2 - Epoch [70/100], Loss: 0.0025\n",
      "Stage 2 - Epoch [71/100], Loss: 0.0024\n",
      "Stage 2 - Epoch [72/100], Loss: 0.0024\n",
      "Stage 2 - Epoch [73/100], Loss: 0.0025\n",
      "Stage 2 - Epoch [74/100], Loss: 0.0024\n",
      "Stage 2 - Epoch [75/100], Loss: 0.0025\n",
      "Stage 2 - Epoch [76/100], Loss: 0.0024\n",
      "Stage 2 - Epoch [77/100], Loss: 0.0024\n",
      "Stage 2 - Epoch [78/100], Loss: 0.0023\n",
      "Stage 2 - Epoch [79/100], Loss: 0.0022\n",
      "Stage 2 - Epoch [80/100], Loss: 0.0023\n",
      "Stage 2 - Epoch [81/100], Loss: 0.0023\n",
      "Stage 2 - Epoch [82/100], Loss: 0.0022\n",
      "Stage 2 - Epoch [83/100], Loss: 0.0022\n",
      "Stage 2 - Epoch [84/100], Loss: 0.0021\n",
      "Stage 2 - Epoch [85/100], Loss: 0.0021\n",
      "Stage 2 - Epoch [86/100], Loss: 0.0021\n",
      "Stage 2 - Epoch [87/100], Loss: 0.0021\n",
      "Stage 2 - Epoch [88/100], Loss: 0.0021\n",
      "Stage 2 - Epoch [89/100], Loss: 0.0020\n",
      "Stage 2 - Epoch [90/100], Loss: 0.0020\n",
      "Stage 2 - Epoch [91/100], Loss: 0.0020\n",
      "Stage 2 - Epoch [92/100], Loss: 0.0020\n",
      "Stage 2 - Epoch [93/100], Loss: 0.0019\n",
      "Stage 2 - Epoch [94/100], Loss: 0.0019\n",
      "Stage 2 - Epoch [95/100], Loss: 0.0019\n",
      "Stage 2 - Epoch [96/100], Loss: 0.0018\n",
      "Stage 2 - Epoch [97/100], Loss: 0.0018\n",
      "Stage 2 - Epoch [98/100], Loss: 0.0018\n",
      "Stage 2 - Epoch [99/100], Loss: 0.0018\n",
      "Stage 2 - Epoch [100/100], Loss: 0.0018\n"
     ]
    }
   ],
   "source": [
    "# 최적 파라미터\n",
    "best_params = {'num_layers': 2, 'learning_rate': 0.01, 'hidden_size': 32, 'dropout': 0.2, 'batch_size': 16}\n",
    "\n",
    "# 모델 정의\n",
    "best_model = LSTMModel(\n",
    "    input_size=X_train.shape[2],\n",
    "    hidden_size=best_params['hidden_size'],\n",
    "    num_layers=best_params['num_layers'],\n",
    "    output_size=2,\n",
    "    dropout=best_params['dropout']\n",
    ").to(device)\n",
    "\n",
    "criterion = nn.SmoothL1Loss()\n",
    "\n",
    "# 첫 번째 단계 학습\n",
    "initial_lr = best_params['learning_rate']\n",
    "optimizer = optim.Adam(best_model.parameters(), lr=initial_lr)\n",
    "\n",
    "print(\"Stage 1: High Learning Rate Training\")\n",
    "num_epochs_stage1 = 100\n",
    "for epoch in range(num_epochs_stage1):\n",
    "    train_loss = 0.0\n",
    "    best_model.train()\n",
    "    for i in range(0, len(X_train_tensor), best_params['batch_size']):\n",
    "        X_batch = X_train_tensor[i:i+best_params['batch_size']]\n",
    "        y_batch = y_train_tensor[i:i+best_params['batch_size']]\n",
    "\n",
    "        optimizer.zero_grad()\n",
    "        outputs = best_model(X_batch)\n",
    "        loss = criterion(outputs, y_batch)\n",
    "        loss.backward()\n",
    "        optimizer.step()\n",
    "        train_loss += loss.item()\n",
    "\n",
    "    avg_loss = train_loss / (len(X_train_tensor) // best_params['batch_size'])\n",
    "    print(f\"Stage 1 - Epoch [{epoch+1}/{num_epochs_stage1}], Loss: {avg_loss:.4f}\")\n",
    "\n",
    "# 두 번째 단계 학습\n",
    "new_lr = 0.001  # 낮은 학습률\n",
    "optimizer = optim.Adam(best_model.parameters(), lr=new_lr)\n",
    "\n",
    "print(\"\\nStage 2: Low Learning Rate Training\")\n",
    "num_epochs_stage2 = 100\n",
    "for epoch in range(num_epochs_stage2):\n",
    "    train_loss = 0.0\n",
    "    best_model.train()\n",
    "    for i in range(0, len(X_train_tensor), best_params['batch_size']):\n",
    "        X_batch = X_train_tensor[i:i+best_params['batch_size']]\n",
    "        y_batch = y_train_tensor[i:i+best_params['batch_size']]\n",
    "\n",
    "        optimizer.zero_grad()\n",
    "        outputs = best_model(X_batch)\n",
    "        loss = criterion(outputs, y_batch)\n",
    "        loss.backward()\n",
    "        optimizer.step()\n",
    "        train_loss += loss.item()\n",
    "\n",
    "    avg_loss = train_loss / (len(X_train_tensor) // best_params['batch_size'])\n",
    "    print(f\"Stage 2 - Epoch [{epoch+1}/{num_epochs_stage2}], Loss: {avg_loss:.4f}\")\n"
   ]
  },
  {
   "cell_type": "code",
   "execution_count": 6,
   "metadata": {},
   "outputs": [
    {
     "name": "stdout",
     "output_type": "stream",
     "text": [
      "테스트 손실(MSE): 0.0132\n"
     ]
    }
   ],
   "source": [
    "# 테스트 데이터 평가\n",
    "best_model.eval()\n",
    "test_loss = 0.0\n",
    "with torch.no_grad():\n",
    "    y_pred = best_model(X_test_tensor).detach().cpu().numpy()  # 예측 값\n",
    "    y_true = y_test  # 실제 값\n",
    "\n",
    "    for i in range(0, len(X_test_tensor), best_params['batch_size']):\n",
    "        X_batch = X_test_tensor[i:i+best_params['batch_size']]\n",
    "        y_batch = y_test_tensor[i:i+best_params['batch_size']]\n",
    "        outputs = best_model(X_batch)\n",
    "        loss = criterion(outputs, y_batch)\n",
    "        test_loss += loss.item()\n",
    "\n",
    "avg_test_loss = test_loss / (len(X_test_tensor) // best_params['batch_size'])\n",
    "print(f\"테스트 손실(MSE): {avg_test_loss:.4f}\")\n"
   ]
  },
  {
   "cell_type": "code",
   "execution_count": 7,
   "metadata": {},
   "outputs": [
    {
     "name": "stdout",
     "output_type": "stream",
     "text": [
      "MAE (Mean Absolute Error): 0.1298\n",
      "RMSE (Root Mean Squared Error): 0.1624\n"
     ]
    }
   ],
   "source": [
    "import numpy as np\n",
    "from sklearn.metrics import mean_absolute_error, mean_squared_error\n",
    "\n",
    "# 예측 및 실제값을 비교하여 MAE와 RMSE 계산\n",
    "def evaluate_model(model, X_test, y_test):\n",
    "    model.eval()  # 모델 평가 모드\n",
    "    with torch.no_grad():\n",
    "        predictions = model(X_test).cpu().numpy()\n",
    "        true_values = y_test.cpu().numpy()\n",
    "\n",
    "    # MAE 계산\n",
    "    mae = mean_absolute_error(true_values, predictions)\n",
    "\n",
    "    # RMSE 계산\n",
    "    rmse = np.sqrt(mean_squared_error(true_values, predictions))\n",
    "\n",
    "    return mae, rmse\n",
    "\n",
    "# 평가 데이터에서 MAE와 RMSE 계산\n",
    "mae, rmse = evaluate_model(best_model, X_test_tensor, y_test_tensor)\n",
    "\n",
    "print(f\"MAE (Mean Absolute Error): {mae:.4f}\")\n",
    "print(f\"RMSE (Root Mean Squared Error): {rmse:.4f}\")\n"
   ]
  },
  {
   "cell_type": "code",
   "execution_count": 8,
   "metadata": {},
   "outputs": [],
   "source": [
    "# 역스케일링\n",
    "y_test_original = scaler.inverse_transform(y_test)\n",
    "y_pred_original = scaler.inverse_transform(y_pred)"
   ]
  },
  {
   "cell_type": "code",
   "execution_count": 9,
   "metadata": {},
   "outputs": [
    {
     "name": "stdout",
     "output_type": "stream",
     "text": [
      "test크기:(7365, 2)\n",
      "pred크기:(7365, 2)\n"
     ]
    }
   ],
   "source": [
    "# 역스케일링\n",
    "print(f\"test크기:{y_test_original.shape}\")\n",
    "print(f\"pred크기:{y_pred_original.shape}\")\n"
   ]
  },
  {
   "cell_type": "code",
   "execution_count": 10,
   "metadata": {},
   "outputs": [
    {
     "name": "stdout",
     "output_type": "stream",
     "text": [
      "    True Lat    True Lon  Predicted Lat  Predicted Lon\n",
      "0  35.059387  129.027725      35.059402     129.027710\n",
      "1  35.059383  129.027725      35.059399     129.027710\n",
      "2  35.059383  129.027725      35.059399     129.027725\n",
      "3  35.059383  129.027725      35.059402     129.027725\n",
      "4  35.059383  129.027725      35.059395     129.027725\n"
     ]
    }
   ],
   "source": [
    "comparison = pd.DataFrame({\n",
    "    'True Lat': y_test_original[:, 0],\n",
    "    'True Lon': y_test_original[:, 1],\n",
    "    'Predicted Lat': y_pred_original[:, 0],\n",
    "    'Predicted Lon': y_pred_original[:, 1]\n",
    "})\n",
    "print(comparison.head())"
   ]
  },
  {
   "cell_type": "code",
   "execution_count": 11,
   "metadata": {},
   "outputs": [
    {
     "data": {
      "image/png": "[encoded data removed]",
      "text/plain": [
       "<Figure size 1000x600 with 1 Axes>"
      ]
     },
     "metadata": {},
     "output_type": "display_data"
    }
   ],
   "source": [
    "import matplotlib.pyplot as plt\n",
    "\n",
    "plt.figure(figsize=(10, 6))\n",
    "plt.scatter(comparison['True Lon'], comparison['True Lat'], label='True Coordinates', alpha=0.7, c='blue', s=20)\n",
    "plt.scatter(comparison['Predicted Lon'], comparison['Predicted Lat'], label='Predicted Coordinates', alpha=0.7, c='red', s=20)\n",
    "plt.xlabel('Longitude')\n",
    "plt.ylabel('Latitude')\n",
    "plt.title('True vs Predicted Coordinates')\n",
    "plt.legend()\n",
    "plt.show()\n"
   ]
  },
  {
   "cell_type": "code",
   "execution_count": 1,
   "metadata": {},
   "outputs": [
    {
     "ename": "NameError",
     "evalue": "name 'comparison' is not defined",
     "output_type": "error",
     "traceback": [
      "\u001b[1;31m---------------------------------------------------------------------------\u001b[0m",
      "\u001b[1;31mNameError\u001b[0m                                 Traceback (most recent call last)",
      "Cell \u001b[1;32mIn[1], line 4\u001b[0m\n\u001b[0;32m      1\u001b[0m \u001b[38;5;28;01mimport\u001b[39;00m \u001b[38;5;21;01mmatplotlib\u001b[39;00m\u001b[38;5;21;01m.\u001b[39;00m\u001b[38;5;21;01mpyplot\u001b[39;00m \u001b[38;5;28;01mas\u001b[39;00m \u001b[38;5;21;01mplt\u001b[39;00m\n\u001b[0;32m      3\u001b[0m plt\u001b[38;5;241m.\u001b[39mfigure(figsize\u001b[38;5;241m=\u001b[39m(\u001b[38;5;241m10\u001b[39m, \u001b[38;5;241m6\u001b[39m))\n\u001b[1;32m----> 4\u001b[0m plt\u001b[38;5;241m.\u001b[39mplot(\u001b[38;5;28mrange\u001b[39m(\u001b[38;5;28mlen\u001b[39m(\u001b[43mcomparison\u001b[49m[\u001b[38;5;124m'\u001b[39m\u001b[38;5;124mTrue Lon\u001b[39m\u001b[38;5;124m'\u001b[39m])),comparison[\u001b[38;5;124m'\u001b[39m\u001b[38;5;124mTrue Lon\u001b[39m\u001b[38;5;124m'\u001b[39m], label\u001b[38;5;241m=\u001b[39m\u001b[38;5;124m'\u001b[39m\u001b[38;5;124mTrue Coordinates\u001b[39m\u001b[38;5;124m'\u001b[39m, alpha\u001b[38;5;241m=\u001b[39m\u001b[38;5;241m0.7\u001b[39m, c\u001b[38;5;241m=\u001b[39m\u001b[38;5;124m'\u001b[39m\u001b[38;5;124mblue\u001b[39m\u001b[38;5;124m'\u001b[39m )\n\u001b[0;32m      5\u001b[0m plt\u001b[38;5;241m.\u001b[39mplot(\u001b[38;5;28mrange\u001b[39m(\u001b[38;5;28mlen\u001b[39m(comparison[\u001b[38;5;124m'\u001b[39m\u001b[38;5;124mTrue Lon\u001b[39m\u001b[38;5;124m'\u001b[39m])),comparison[\u001b[38;5;124m'\u001b[39m\u001b[38;5;124mPredicted Lon\u001b[39m\u001b[38;5;124m'\u001b[39m], label\u001b[38;5;241m=\u001b[39m\u001b[38;5;124m'\u001b[39m\u001b[38;5;124mPredicted Coordinates\u001b[39m\u001b[38;5;124m'\u001b[39m, alpha\u001b[38;5;241m=\u001b[39m\u001b[38;5;241m0.7\u001b[39m, c\u001b[38;5;241m=\u001b[39m\u001b[38;5;124m'\u001b[39m\u001b[38;5;124mred\u001b[39m\u001b[38;5;124m'\u001b[39m)\n\u001b[0;32m      6\u001b[0m plt\u001b[38;5;241m.\u001b[39mylabel(\u001b[38;5;124m'\u001b[39m\u001b[38;5;124mLongitude\u001b[39m\u001b[38;5;124m'\u001b[39m)\n",
      "\u001b[1;31mNameError\u001b[0m: name 'comparison' is not defined"
     ]
    },
    {
     "data": {
      "text/plain": [
       "<Figure size 1000x600 with 0 Axes>"
      ]
     },
     "metadata": {},
     "output_type": "display_data"
    }
   ],
   "source": [
    "import matplotlib.pyplot as plt\n",
    "\n",
    "plt.figure(figsize=(10, 6))\n",
    "plt.plot(range(len(comparison['True Lon'])),comparison['True Lon'], label='True Coordinates', alpha=0.7, c='blue' )\n",
    "plt.plot(range(len(comparison['True Lon'])),comparison['Predicted Lon'], label='Predicted Coordinates', alpha=0.7, c='red')\n",
    "plt.ylabel('Longitude')\n",
    "plt.title('True vs Predicted Coordinates')\n",
    "plt.legend()\n",
    "plt.show()\n"
   ]
  },
  {
   "cell_type": "code",
   "execution_count": 12,
   "metadata": {},
   "outputs": [
    {
     "data": {
      "image/png": "[encoded data removed]",
      "text/plain": [
       "<Figure size 1000x600 with 1 Axes>"
      ]
     },
     "metadata": {},
     "output_type": "display_data"
    },
    {
     "name": "stdout",
     "output_type": "stream",
     "text": [
      "     Feature  Importance\n",
      "2    heading    0.971645\n",
      "1     course    0.027870\n",
      "0      speed    0.000359\n",
      "3  time_diff    0.000125\n"
     ]
    }
   ],
   "source": [
    "import pandas as pd\n",
    "from sklearn.ensemble import RandomForestRegressor\n",
    "import matplotlib.pyplot as plt\n",
    "\n",
    "# 데이터 로드\n",
    "data = pd.read_csv('../document/filter_ship.csv')\n",
    "\n",
    "# created_at 변환 및 time_diff 계산\n",
    "data[\"created_at\"] = pd.to_datetime(data[\"created_at\"])\n",
    "data[\"time_diff\"] = data[\"created_at\"].diff().dt.total_seconds().fillna(0)\n",
    "\n",
    "# 독립 변수와 종속 변수 설정\n",
    "independent_columns = [\"turn\", \"speed\", \"accuracy\", \"course\", \"heading\", \"time_diff\"]\n",
    "target_column = \"lat\"\n",
    "\n",
    "# 동일한 값을 가진 변수 제거 (turn, accuracy)\n",
    "independent_columns = [\"speed\", \"course\", \"heading\", \"time_diff\"]\n",
    "X_features = data[independent_columns]\n",
    "y_target = data[target_column]\n",
    "\n",
    "# 랜덤 포레스트 모델 학습\n",
    "rf_model = RandomForestRegressor(random_state=42, n_estimators=100)\n",
    "rf_model.fit(X_features, y_target)\n",
    "\n",
    "# Feature Importance 계산\n",
    "feature_importances = rf_model.feature_importances_\n",
    "importance_df = pd.DataFrame({\n",
    "    \"Feature\": independent_columns,\n",
    "    \"Importance\": feature_importances\n",
    "}).sort_values(by=\"Importance\", ascending=False)\n",
    "\n",
    "# Feature Importance 시각화\n",
    "plt.figure(figsize=(10, 6))\n",
    "plt.barh(importance_df[\"Feature\"], importance_df[\"Importance\"], align='center')\n",
    "plt.xlabel(\"Importance\")\n",
    "plt.ylabel(\"Feature\")\n",
    "plt.title(\"Feature Importance from Random Forest\")\n",
    "plt.gca().invert_yaxis()\n",
    "plt.show()\n",
    "\n",
    "print(importance_df)\n"
   ]
  }
 ],
 "metadata": {
  "kernelspec": {
   "display_name": "py3_11",
   "language": "python",
   "name": "python3"
  },
  "language_info": {
   "codemirror_mode": {
    "name": "ipython",
    "version": 3
   },
   "file_extension": ".py",
   "mimetype": "text/x-python",
   "name": "python",
   "nbconvert_exporter": "python",
   "pygments_lexer": "ipython3",
   "version": "3.11.11"
  }
 },
 "nbformat": 4,
 "nbformat_minor": 2
}
